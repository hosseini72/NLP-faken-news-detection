{
 "cells": [
  {
   "cell_type": "markdown",
   "id": "94f36474",
   "metadata": {},
   "source": [
    "## Gossipcop"
   ]
  },
  {
   "cell_type": "code",
   "execution_count": 1,
   "id": "791bf6b6",
   "metadata": {},
   "outputs": [],
   "source": [
    "import numpy as np\n",
    "import pandas as pd\n",
    "import os\n",
    "import nltk\n",
    "import re\n",
    "import string\n",
    "from nltk.corpus import stopwords\n",
    "from nltk import  pos_tag\n",
    "from nltk.stem.porter import PorterStemmer\n",
    "from nltk.tokenize import word_tokenize\n",
    "from gensim.models import Word2Vec\n",
    "\n",
    "\n",
    "from textblob import TextBlob\n",
    "\n",
    "import matplotlib.pyplot as plt \n",
    "from matplotlib import rcParams\n",
    "\n",
    "import seaborn as sns\n",
    "\n",
    "from sklearn.feature_selection import SelectKBest, chi2, mutual_info_classif, f_classif\n",
    "from sklearn.feature_selection import mutual_info_classif\n",
    "\n",
    "from sklearn.preprocessing import StandardScaler\n",
    "\n",
    "\n",
    "from sklearn.linear_model import LogisticRegression\n",
    "\n",
    "from collections import Counter\n",
    "\n",
    "import scipy.sparse  \n",
    "from scipy.sparse import hstack, csr_matrix\n",
    "\n",
    "\n",
    "from sklearn.feature_extraction.text import CountVectorizer\n",
    "from sklearn.feature_extraction.text import TfidfVectorizer\n",
    "\n",
    "\n",
    "from sklearn.model_selection import train_test_split\n",
    "from sklearn.linear_model import Lasso\n",
    "from sklearn.metrics import mean_squared_error\n",
    "\n"
   ]
  },
  {
   "cell_type": "code",
   "execution_count": 2,
   "id": "1d91c72d",
   "metadata": {},
   "outputs": [],
   "source": [
    "base_dir= '.' \n",
    "dataset= 'GossioCop'\n",
    "data_dir= os.path.join(base_dir, dataset)"
   ]
  },
  {
   "cell_type": "markdown",
   "id": "48d6db7a",
   "metadata": {},
   "source": [
    "# Cleanning GossipCop"
   ]
  },
  {
   "cell_type": "code",
   "execution_count": 3,
   "id": "03a18d11",
   "metadata": {},
   "outputs": [],
   "source": [
    "g1= pd.read_csv(os.path.join(data_dir, 'gossipcop_fake.csv'))\n",
    "g2= pd.read_csv(os.path.join(data_dir, 'gossipcop_real.csv'))"
   ]
  },
  {
   "cell_type": "code",
   "execution_count": 4,
   "id": "cee5c30e",
   "metadata": {},
   "outputs": [],
   "source": [
    "g1['label']= 0 # 0 for fake news\n",
    "g2['label']= 1 # 1 for real news"
   ]
  },
  {
   "cell_type": "code",
   "execution_count": 5,
   "id": "ef13cd0b",
   "metadata": {},
   "outputs": [
    {
     "data": {
      "text/html": [
       "<div>\n",
       "<style scoped>\n",
       "    .dataframe tbody tr th:only-of-type {\n",
       "        vertical-align: middle;\n",
       "    }\n",
       "\n",
       "    .dataframe tbody tr th {\n",
       "        vertical-align: top;\n",
       "    }\n",
       "\n",
       "    .dataframe thead th {\n",
       "        text-align: right;\n",
       "    }\n",
       "</style>\n",
       "<table border=\"1\" class=\"dataframe\">\n",
       "  <thead>\n",
       "    <tr style=\"text-align: right;\">\n",
       "      <th></th>\n",
       "      <th>id</th>\n",
       "      <th>news_url</th>\n",
       "      <th>title</th>\n",
       "      <th>tweet_ids</th>\n",
       "      <th>label</th>\n",
       "    </tr>\n",
       "  </thead>\n",
       "  <tbody>\n",
       "    <tr>\n",
       "      <th>0</th>\n",
       "      <td>gossipcop-2493749932</td>\n",
       "      <td>www.dailymail.co.uk/tvshowbiz/article-5874213/...</td>\n",
       "      <td>Did Miley Cyrus and Liam Hemsworth secretly ge...</td>\n",
       "      <td>284329075902926848\\t284332744559968256\\t284335...</td>\n",
       "      <td>0</td>\n",
       "    </tr>\n",
       "    <tr>\n",
       "      <th>1</th>\n",
       "      <td>gossipcop-4580247171</td>\n",
       "      <td>hollywoodlife.com/2018/05/05/paris-jackson-car...</td>\n",
       "      <td>Paris Jackson &amp; Cara Delevingne Enjoy Night Ou...</td>\n",
       "      <td>992895508267130880\\t992897935418503169\\t992899...</td>\n",
       "      <td>0</td>\n",
       "    </tr>\n",
       "  </tbody>\n",
       "</table>\n",
       "</div>"
      ],
      "text/plain": [
       "                     id                                           news_url  \\\n",
       "0  gossipcop-2493749932  www.dailymail.co.uk/tvshowbiz/article-5874213/...   \n",
       "1  gossipcop-4580247171  hollywoodlife.com/2018/05/05/paris-jackson-car...   \n",
       "\n",
       "                                               title  \\\n",
       "0  Did Miley Cyrus and Liam Hemsworth secretly ge...   \n",
       "1  Paris Jackson & Cara Delevingne Enjoy Night Ou...   \n",
       "\n",
       "                                           tweet_ids  label  \n",
       "0  284329075902926848\\t284332744559968256\\t284335...      0  \n",
       "1  992895508267130880\\t992897935418503169\\t992899...      0  "
      ]
     },
     "execution_count": 5,
     "metadata": {},
     "output_type": "execute_result"
    }
   ],
   "source": [
    "gossipcop= pd.concat([g1, g2], axis= 0)\n",
    "gossipcop.head(2)"
   ]
  },
  {
   "cell_type": "code",
   "execution_count": null,
   "id": "2ee1f3b0",
   "metadata": {},
   "outputs": [],
   "source": []
  },
  {
   "cell_type": "code",
   "execution_count": 6,
   "id": "ed832249",
   "metadata": {},
   "outputs": [],
   "source": [
    "gossipcop.to_csv(os.path.join(data_dir, 'gossipcop.csv') ,index= False)"
   ]
  },
  {
   "cell_type": "code",
   "execution_count": 7,
   "id": "08a4b635",
   "metadata": {},
   "outputs": [],
   "source": [
    "gossipcop= pd.read_csv(os.path.join(data_dir, 'gossipcop.csv'))"
   ]
  },
  {
   "cell_type": "code",
   "execution_count": 8,
   "id": "27817076",
   "metadata": {},
   "outputs": [
    {
     "data": {
      "text/html": [
       "<div>\n",
       "<style scoped>\n",
       "    .dataframe tbody tr th:only-of-type {\n",
       "        vertical-align: middle;\n",
       "    }\n",
       "\n",
       "    .dataframe tbody tr th {\n",
       "        vertical-align: top;\n",
       "    }\n",
       "\n",
       "    .dataframe thead th {\n",
       "        text-align: right;\n",
       "    }\n",
       "</style>\n",
       "<table border=\"1\" class=\"dataframe\">\n",
       "  <thead>\n",
       "    <tr style=\"text-align: right;\">\n",
       "      <th></th>\n",
       "      <th>id</th>\n",
       "      <th>news_url</th>\n",
       "      <th>title</th>\n",
       "      <th>tweet_ids</th>\n",
       "      <th>label</th>\n",
       "    </tr>\n",
       "  </thead>\n",
       "  <tbody>\n",
       "    <tr>\n",
       "      <th>0</th>\n",
       "      <td>gossipcop-2493749932</td>\n",
       "      <td>www.dailymail.co.uk/tvshowbiz/article-5874213/...</td>\n",
       "      <td>Did Miley Cyrus and Liam Hemsworth secretly ge...</td>\n",
       "      <td>284329075902926848\\t284332744559968256\\t284335...</td>\n",
       "      <td>0</td>\n",
       "    </tr>\n",
       "    <tr>\n",
       "      <th>1</th>\n",
       "      <td>gossipcop-4580247171</td>\n",
       "      <td>hollywoodlife.com/2018/05/05/paris-jackson-car...</td>\n",
       "      <td>Paris Jackson &amp; Cara Delevingne Enjoy Night Ou...</td>\n",
       "      <td>992895508267130880\\t992897935418503169\\t992899...</td>\n",
       "      <td>0</td>\n",
       "    </tr>\n",
       "    <tr>\n",
       "      <th>2</th>\n",
       "      <td>gossipcop-941805037</td>\n",
       "      <td>variety.com/2017/biz/news/tax-march-donald-tru...</td>\n",
       "      <td>Celebrities Join Tax March in Protest of Donal...</td>\n",
       "      <td>853359353532829696\\t853359576543920128\\t853359...</td>\n",
       "      <td>0</td>\n",
       "    </tr>\n",
       "    <tr>\n",
       "      <th>3</th>\n",
       "      <td>gossipcop-2547891536</td>\n",
       "      <td>www.dailymail.co.uk/femail/article-3499192/Do-...</td>\n",
       "      <td>Cindy Crawford's daughter Kaia Gerber wears a ...</td>\n",
       "      <td>988821905196158981\\t988824206556172288\\t988825...</td>\n",
       "      <td>0</td>\n",
       "    </tr>\n",
       "    <tr>\n",
       "      <th>4</th>\n",
       "      <td>gossipcop-5476631226</td>\n",
       "      <td>variety.com/2018/film/news/list-2018-oscar-nom...</td>\n",
       "      <td>Full List of 2018 Oscar Nominations – Variety</td>\n",
       "      <td>955792793632432131\\t955795063925301249\\t955798...</td>\n",
       "      <td>0</td>\n",
       "    </tr>\n",
       "    <tr>\n",
       "      <th>...</th>\n",
       "      <td>...</td>\n",
       "      <td>...</td>\n",
       "      <td>...</td>\n",
       "      <td>...</td>\n",
       "      <td>...</td>\n",
       "    </tr>\n",
       "    <tr>\n",
       "      <th>22135</th>\n",
       "      <td>gossipcop-891749</td>\n",
       "      <td>https://omgcheckitout.com/2017-hollywood-film-...</td>\n",
       "      <td>2017 Hollywood Film Awards: The Complete List ...</td>\n",
       "      <td>927385466357260288\\t927386601034010625\\t927387...</td>\n",
       "      <td>1</td>\n",
       "    </tr>\n",
       "    <tr>\n",
       "      <th>22136</th>\n",
       "      <td>gossipcop-941486</td>\n",
       "      <td>https://pagesix.com/2018/06/04/jada-pinkett-sm...</td>\n",
       "      <td>Jada Pinkett Smith explains why son Jaden move...</td>\n",
       "      <td>1004044947006386178\\t1004045964401889285\\t1004...</td>\n",
       "      <td>1</td>\n",
       "    </tr>\n",
       "    <tr>\n",
       "      <th>22137</th>\n",
       "      <td>gossipcop-953143</td>\n",
       "      <td>https://www.etonline.com/tinsley-mortimer-reac...</td>\n",
       "      <td>Tinsley Mortimer Reacts to Luann de Lesseps' R...</td>\n",
       "      <td>1019924845889572864\\t1019925702676709377\\t1019...</td>\n",
       "      <td>1</td>\n",
       "    </tr>\n",
       "    <tr>\n",
       "      <th>22138</th>\n",
       "      <td>gossipcop-954366</td>\n",
       "      <td>https://www.healthbreakingnews.net/2018/07/pri...</td>\n",
       "      <td>Prince Harry Carries on Princess Diana’s Legac...</td>\n",
       "      <td>1021766291139584000\\t1021772054599802880\\t1021...</td>\n",
       "      <td>1</td>\n",
       "    </tr>\n",
       "    <tr>\n",
       "      <th>22139</th>\n",
       "      <td>gossipcop-877062</td>\n",
       "      <td>https://www.cosmopolitan.com/uk/entertainment/...</td>\n",
       "      <td>Kylie Jenner is actually terrified of butterflies</td>\n",
       "      <td>NaN</td>\n",
       "      <td>1</td>\n",
       "    </tr>\n",
       "  </tbody>\n",
       "</table>\n",
       "<p>22140 rows × 5 columns</p>\n",
       "</div>"
      ],
      "text/plain": [
       "                         id  \\\n",
       "0      gossipcop-2493749932   \n",
       "1      gossipcop-4580247171   \n",
       "2       gossipcop-941805037   \n",
       "3      gossipcop-2547891536   \n",
       "4      gossipcop-5476631226   \n",
       "...                     ...   \n",
       "22135      gossipcop-891749   \n",
       "22136      gossipcop-941486   \n",
       "22137      gossipcop-953143   \n",
       "22138      gossipcop-954366   \n",
       "22139      gossipcop-877062   \n",
       "\n",
       "                                                news_url  \\\n",
       "0      www.dailymail.co.uk/tvshowbiz/article-5874213/...   \n",
       "1      hollywoodlife.com/2018/05/05/paris-jackson-car...   \n",
       "2      variety.com/2017/biz/news/tax-march-donald-tru...   \n",
       "3      www.dailymail.co.uk/femail/article-3499192/Do-...   \n",
       "4      variety.com/2018/film/news/list-2018-oscar-nom...   \n",
       "...                                                  ...   \n",
       "22135  https://omgcheckitout.com/2017-hollywood-film-...   \n",
       "22136  https://pagesix.com/2018/06/04/jada-pinkett-sm...   \n",
       "22137  https://www.etonline.com/tinsley-mortimer-reac...   \n",
       "22138  https://www.healthbreakingnews.net/2018/07/pri...   \n",
       "22139  https://www.cosmopolitan.com/uk/entertainment/...   \n",
       "\n",
       "                                                   title  \\\n",
       "0      Did Miley Cyrus and Liam Hemsworth secretly ge...   \n",
       "1      Paris Jackson & Cara Delevingne Enjoy Night Ou...   \n",
       "2      Celebrities Join Tax March in Protest of Donal...   \n",
       "3      Cindy Crawford's daughter Kaia Gerber wears a ...   \n",
       "4          Full List of 2018 Oscar Nominations – Variety   \n",
       "...                                                  ...   \n",
       "22135  2017 Hollywood Film Awards: The Complete List ...   \n",
       "22136  Jada Pinkett Smith explains why son Jaden move...   \n",
       "22137  Tinsley Mortimer Reacts to Luann de Lesseps' R...   \n",
       "22138  Prince Harry Carries on Princess Diana’s Legac...   \n",
       "22139  Kylie Jenner is actually terrified of butterflies   \n",
       "\n",
       "                                               tweet_ids  label  \n",
       "0      284329075902926848\\t284332744559968256\\t284335...      0  \n",
       "1      992895508267130880\\t992897935418503169\\t992899...      0  \n",
       "2      853359353532829696\\t853359576543920128\\t853359...      0  \n",
       "3      988821905196158981\\t988824206556172288\\t988825...      0  \n",
       "4      955792793632432131\\t955795063925301249\\t955798...      0  \n",
       "...                                                  ...    ...  \n",
       "22135  927385466357260288\\t927386601034010625\\t927387...      1  \n",
       "22136  1004044947006386178\\t1004045964401889285\\t1004...      1  \n",
       "22137  1019924845889572864\\t1019925702676709377\\t1019...      1  \n",
       "22138  1021766291139584000\\t1021772054599802880\\t1021...      1  \n",
       "22139                                                NaN      1  \n",
       "\n",
       "[22140 rows x 5 columns]"
      ]
     },
     "execution_count": 8,
     "metadata": {},
     "output_type": "execute_result"
    }
   ],
   "source": [
    "gossipcop"
   ]
  },
  {
   "cell_type": "code",
   "execution_count": 9,
   "id": "8edf7138",
   "metadata": {},
   "outputs": [
    {
     "data": {
      "text/plain": [
       "(20000, 5)"
      ]
     },
     "execution_count": 9,
     "metadata": {},
     "output_type": "execute_result"
    }
   ],
   "source": [
    "# selecting 20000 row \n",
    "gossipcop = gossipcop.sample(n=20000, random_state=10)\n",
    "gossipcop.shape"
   ]
  },
  {
   "cell_type": "code",
   "execution_count": 10,
   "id": "9831b952",
   "metadata": {},
   "outputs": [],
   "source": [
    "#task2 : remove marks and stopwords\n",
    "# defining a funtion to make the lowercase and remove links, square brackets, punctuation and words contianing numbers \n",
    "def review_cleaning(text):\n",
    "    '''\n",
    "    make the lowercase and remove links, square brackets, punctuation and words contianing numbers.  \n",
    "    '''\n",
    "    text = str(text).lower()\n",
    "    text = re.sub('\\[.*?\\]', '', text)\n",
    "    text = re.sub('https?://\\S+|www\\.\\S+', '', text)\n",
    "    text = re.sub('<.*?>+', '', text)\n",
    "    text = re.sub('[%s]' % re.escape(string.punctuation), '', text)\n",
    "    text = re.sub('\\n', '', text)\n",
    "    text = re.sub('\\w*\\d\\w*', '', text)\n",
    "    text = re.sub(',()''', '', text)\n",
    "\n",
    "    return text"
   ]
  },
  {
   "cell_type": "code",
   "execution_count": 11,
   "id": "47ae3e55",
   "metadata": {},
   "outputs": [],
   "source": [
    "# Tokenization and stopword\n",
    "stop = stopwords.words('english')\n",
    "\n",
    "gossipcop['news'] = gossipcop['title'].apply(lambda text: review_cleaning(text))\n",
    "\n",
    "gossipcop['news']= gossipcop['news'].apply(lambda x: ' '.join([word for word in x.split() if word not in (stop)]))\n"
   ]
  },
  {
   "cell_type": "code",
   "execution_count": 12,
   "id": "5476d256",
   "metadata": {},
   "outputs": [],
   "source": [
    "def source(text):\n",
    "    txt= text.split('/')\n",
    "    return txt[0]"
   ]
  },
  {
   "cell_type": "code",
   "execution_count": 13,
   "id": "df5c7852",
   "metadata": {},
   "outputs": [],
   "source": [
    "def remove_http(text):\n",
    "    text= str(text)\n",
    "    txt= text\n",
    "    if 'http://' in text:\n",
    "        txt=  text.replace('http://', '')\n",
    "    elif 'https://' in text:\n",
    "        txt=  text.replace('https://', '')\n",
    "    return txt"
   ]
  },
  {
   "cell_type": "code",
   "execution_count": 14,
   "id": "e9031877",
   "metadata": {},
   "outputs": [],
   "source": [
    "try:\n",
    "    gossipcop['news_url']= gossipcop['news_url'].apply(lambda text: remove_http(text))\n",
    "except Exception as er:\n",
    "    print(er)"
   ]
  },
  {
   "cell_type": "code",
   "execution_count": 15,
   "id": "b5c708c2",
   "metadata": {},
   "outputs": [],
   "source": [
    "try:\n",
    "    gossipcop['source']= gossipcop['news_url'].apply(lambda text: source(str(text)))\n",
    "except Exception as er:\n",
    "    print(er)"
   ]
  },
  {
   "cell_type": "code",
   "execution_count": 16,
   "id": "9594179a",
   "metadata": {},
   "outputs": [],
   "source": [
    "# fill NaNs with zeros\n",
    "gossipcop = gossipcop.fillna(gossipcop.mean(numeric_only=True))\n"
   ]
  },
  {
   "cell_type": "code",
   "execution_count": 17,
   "id": "092f9190",
   "metadata": {},
   "outputs": [],
   "source": [
    "# drop nan rows in news \n",
    "gossipcop.dropna(subset=['news'], inplace=True)"
   ]
  },
  {
   "cell_type": "code",
   "execution_count": 18,
   "id": "787a3c71",
   "metadata": {
    "scrolled": false
   },
   "outputs": [
    {
     "data": {
      "text/plain": [
       "(20000, 7)"
      ]
     },
     "execution_count": 18,
     "metadata": {},
     "output_type": "execute_result"
    }
   ],
   "source": [
    "gossipcop.shape"
   ]
  },
  {
   "cell_type": "code",
   "execution_count": 19,
   "id": "1a56172a",
   "metadata": {},
   "outputs": [],
   "source": [
    "# removing id, news_url, tweet_ids columns\n",
    "gossipcop= gossipcop[['news', 'source', 'label']]"
   ]
  },
  {
   "cell_type": "markdown",
   "id": "58c9ba27",
   "metadata": {},
   "source": [
    "###  task3 visualization\n"
   ]
  },
  {
   "cell_type": "code",
   "execution_count": 20,
   "id": "7c964b70",
   "metadata": {},
   "outputs": [],
   "source": [
    "def count_news_type(dataset, column):\n",
    "    #Plotting the frequency plot\n",
    "    highest= gossipcop[column].value_counts().head(10)\n",
    "\n",
    "    ax = sns.barplot(y= highest.index, x= highest.values,\n",
    "                        palette=\"dark\", orient=\"h\")\n",
    "\n",
    "    #Setting labels and font size\n",
    "    ax.set(xlabel='Type of news', ylabel='Source of news',title='Count of news')\n",
    "    ax.xaxis.get_label().set_fontsize(15)\n",
    "    ax.yaxis.get_label().set_fontsize(15)"
   ]
  },
  {
   "cell_type": "code",
   "execution_count": 21,
   "id": "ac6a6dde",
   "metadata": {},
   "outputs": [
    {
     "data": {
      "image/png": "[encoded data removed]",
      "text/plain": [
       "<Figure size 640x480 with 1 Axes>"
      ]
     },
     "metadata": {},
     "output_type": "display_data"
    }
   ],
   "source": [
    "count_news_type(gossipcop, 'source')"
   ]
  },
  {
   "cell_type": "code",
   "execution_count": 22,
   "id": "a6914fb9",
   "metadata": {},
   "outputs": [
    {
     "data": {
      "text/plain": [
       "people.com                   1607\n",
       "www.dailymail.co.uk           872\n",
       "en.wikipedia.org              652\n",
       "www.usmagazine.com            647\n",
       "www.etonline.com              598\n",
       "www.longroom.com              482\n",
       "hollywoodlife.com             480\n",
       "www.hollywoodreporter.com     295\n",
       "www.usatoday.com              292\n",
       "variety.com                   276\n",
       "Name: source, dtype: int64"
      ]
     },
     "execution_count": 22,
     "metadata": {},
     "output_type": "execute_result"
    }
   ],
   "source": [
    "gossipcop['source'].value_counts().head(10)\n"
   ]
  },
  {
   "cell_type": "code",
   "execution_count": 23,
   "id": "108089bb",
   "metadata": {},
   "outputs": [
    {
     "data": {
      "text/plain": [
       "1970"
      ]
     },
     "execution_count": 23,
     "metadata": {},
     "output_type": "execute_result"
    }
   ],
   "source": [
    "len(gossipcop['source'].unique())"
   ]
  },
  {
   "cell_type": "markdown",
   "id": "87c25ac5",
   "metadata": {},
   "source": [
    "## Count of fake news and true news\n"
   ]
  },
  {
   "cell_type": "code",
   "execution_count": 24,
   "id": "5d321059",
   "metadata": {},
   "outputs": [
    {
     "data": {
      "image/png": "[encoded data removed]",
      "text/plain": [
       "<Figure size 640x480 with 1 Axes>"
      ]
     },
     "metadata": {},
     "output_type": "display_data"
    }
   ],
   "source": [
    "## Count of fake news and true news\n",
    "ax=sns.countplot(x=\"label\", data=gossipcop)\n",
    "#Setting labels and font size\n",
    "ax.set(xlabel='Output', ylabel='Count of fake/true',title='Count of fake and true news')\n",
    "ax.xaxis.get_label().set_fontsize(15)\n",
    "ax.yaxis.get_label().set_fontsize(15)"
   ]
  },
  {
   "cell_type": "markdown",
   "id": "fd176681",
   "metadata": {},
   "source": [
    "# Stopwords"
   ]
  },
  {
   "cell_type": "code",
   "execution_count": 25,
   "id": "f68a53ec",
   "metadata": {},
   "outputs": [],
   "source": [
    "# factorize source column and convert to number\n",
    "gossipcop[\"source\"] = pd.factorize(gossipcop[\"source\"])[0]"
   ]
  },
  {
   "cell_type": "code",
   "execution_count": 26,
   "id": "47daf985",
   "metadata": {},
   "outputs": [
    {
     "data": {
      "text/html": [
       "<div>\n",
       "<style scoped>\n",
       "    .dataframe tbody tr th:only-of-type {\n",
       "        vertical-align: middle;\n",
       "    }\n",
       "\n",
       "    .dataframe tbody tr th {\n",
       "        vertical-align: top;\n",
       "    }\n",
       "\n",
       "    .dataframe thead th {\n",
       "        text-align: right;\n",
       "    }\n",
       "</style>\n",
       "<table border=\"1\" class=\"dataframe\">\n",
       "  <thead>\n",
       "    <tr style=\"text-align: right;\">\n",
       "      <th></th>\n",
       "      <th>news</th>\n",
       "      <th>source</th>\n",
       "      <th>label</th>\n",
       "    </tr>\n",
       "  </thead>\n",
       "  <tbody>\n",
       "    <tr>\n",
       "      <th>12850</th>\n",
       "      <td>donald glover</td>\n",
       "      <td>0</td>\n",
       "      <td>1</td>\n",
       "    </tr>\n",
       "    <tr>\n",
       "      <th>3773</th>\n",
       "      <td>everything know kevin harts alleged extortion ...</td>\n",
       "      <td>1</td>\n",
       "      <td>0</td>\n",
       "    </tr>\n",
       "    <tr>\n",
       "      <th>20364</th>\n",
       "      <td>oscars memorable academy awards acceptance spe...</td>\n",
       "      <td>2</td>\n",
       "      <td>1</td>\n",
       "    </tr>\n",
       "  </tbody>\n",
       "</table>\n",
       "</div>"
      ],
      "text/plain": [
       "                                                    news  source  label\n",
       "12850                                      donald glover       0      1\n",
       "3773   everything know kevin harts alleged extortion ...       1      0\n",
       "20364  oscars memorable academy awards acceptance spe...       2      1"
      ]
     },
     "execution_count": 26,
     "metadata": {},
     "output_type": "execute_result"
    }
   ],
   "source": [
    "gossipcop.head(3)"
   ]
  },
  {
   "cell_type": "markdown",
   "id": "5ee082bf",
   "metadata": {},
   "source": [
    "### Feature Extraction"
   ]
  },
  {
   "cell_type": "code",
   "execution_count": 27,
   "id": "eeb5b0f8",
   "metadata": {},
   "outputs": [],
   "source": [
    "def feature_extraction(News, column):\n",
    "    #Extracting the features from the news\n",
    "    News['polarity'] = News[column].map(lambda text: TextBlob(str(text)).sentiment.polarity)\n",
    "    News['review_len'] = News[column].astype(str).apply(len)\n",
    "    News['word_count'] = News[column].apply(lambda x: len(str(x).split()))\n",
    "\n",
    "    #Plotting the distribution of the extracted feature\n",
    "    plt.figure(figsize = (20, 5))\n",
    "    plt.style.use('seaborn-white')\n",
    "    plt.subplot(131)\n",
    "    sns.distplot(News['polarity'])\n",
    "    fig = plt.gcf()\n",
    "    plt.subplot(132)\n",
    "    sns.distplot(News['review_len'])\n",
    "    fig = plt.gcf()\n",
    "    plt.subplot(133)\n",
    "    sns.distplot(News['word_count'])\n",
    "    fig = plt.gcf();"
   ]
  },
  {
   "cell_type": "code",
   "execution_count": 28,
   "id": "5097f388",
   "metadata": {},
   "outputs": [
    {
     "name": "stderr",
     "output_type": "stream",
     "text": [
      "C:\\Users\\mahmoud\\AppData\\Local\\Temp\\ipykernel_11408\\1703162373.py:9: MatplotlibDeprecationWarning: The seaborn styles shipped by Matplotlib are deprecated since 3.6, as they no longer correspond to the styles shipped by seaborn. However, they will remain available as 'seaborn-v0_8-<style>'. Alternatively, directly use the seaborn API instead.\n",
      "  plt.style.use('seaborn-white')\n",
      "C:\\Users\\mahmoud\\anaconda3\\lib\\site-packages\\seaborn\\distributions.py:2619: FutureWarning: `distplot` is a deprecated function and will be removed in a future version. Please adapt your code to use either `displot` (a figure-level function with similar flexibility) or `histplot` (an axes-level function for histograms).\n",
      "  warnings.warn(msg, FutureWarning)\n",
      "C:\\Users\\mahmoud\\anaconda3\\lib\\site-packages\\seaborn\\distributions.py:2619: FutureWarning: `distplot` is a deprecated function and will be removed in a future version. Please adapt your code to use either `displot` (a figure-level function with similar flexibility) or `histplot` (an axes-level function for histograms).\n",
      "  warnings.warn(msg, FutureWarning)\n",
      "C:\\Users\\mahmoud\\anaconda3\\lib\\site-packages\\seaborn\\distributions.py:2619: FutureWarning: `distplot` is a deprecated function and will be removed in a future version. Please adapt your code to use either `displot` (a figure-level function with similar flexibility) or `histplot` (an axes-level function for histograms).\n",
      "  warnings.warn(msg, FutureWarning)\n"
     ]
    },
    {
     "data": {
      "image/png": "[encoded data removed]",
      "text/plain": [
       "<Figure size 2000x500 with 3 Axes>"
      ]
     },
     "metadata": {},
     "output_type": "display_data"
    }
   ],
   "source": [
    "%matplotlib inline\n",
    "feature_extraction(gossipcop, 'news')"
   ]
  },
  {
   "cell_type": "code",
   "execution_count": 29,
   "id": "4d550025",
   "metadata": {},
   "outputs": [],
   "source": [
    "# fill NaNs with zeros\n",
    "gossipcop = gossipcop.fillna(gossipcop.mean(numeric_only=True))\n"
   ]
  },
  {
   "cell_type": "code",
   "execution_count": 30,
   "id": "85579ba8",
   "metadata": {},
   "outputs": [
    {
     "data": {
      "text/plain": [
       "Index(['news'], dtype='object')"
      ]
     },
     "execution_count": 30,
     "metadata": {},
     "output_type": "execute_result"
    }
   ],
   "source": [
    "non_numeric_columns = gossipcop.select_dtypes(exclude=['number']).columns\n",
    "non_numeric_columns"
   ]
  },
  {
   "cell_type": "code",
   "execution_count": 31,
   "id": "e827e9bf",
   "metadata": {},
   "outputs": [],
   "source": [
    "# drop nan rows in news \n",
    "gossipcop.dropna(subset=['news'], inplace=True)"
   ]
  },
  {
   "cell_type": "code",
   "execution_count": 32,
   "id": "397108c8",
   "metadata": {},
   "outputs": [],
   "source": [
    "gossipcop.to_csv(os.path.join(data_dir, 'gossipcop_stm_fe.csv') ,index= False)"
   ]
  },
  {
   "cell_type": "code",
   "execution_count": 33,
   "id": "6b9ab2dd",
   "metadata": {},
   "outputs": [],
   "source": [
    "gossipcop= pd.read_csv(os.path.join(data_dir, 'gossipcop_stm_fe.csv'))"
   ]
  },
  {
   "cell_type": "code",
   "execution_count": 34,
   "id": "42c10b20",
   "metadata": {},
   "outputs": [],
   "source": [
    "gossipcop.dropna(subset=['news'], inplace=True)"
   ]
  },
  {
   "cell_type": "code",
   "execution_count": 35,
   "id": "34d967ec",
   "metadata": {},
   "outputs": [
    {
     "data": {
      "text/plain": [
       "(19997, 6)"
      ]
     },
     "execution_count": 35,
     "metadata": {},
     "output_type": "execute_result"
    }
   ],
   "source": [
    "gossipcop.shape"
   ]
  },
  {
   "cell_type": "markdown",
   "id": "024db1c0",
   "metadata": {},
   "source": [
    "## Feature selection\n",
    "#### Filter method"
   ]
  },
  {
   "cell_type": "code",
   "execution_count": 36,
   "id": "265391ea",
   "metadata": {},
   "outputs": [
    {
     "data": {
      "text/html": [
       "<div>\n",
       "<style scoped>\n",
       "    .dataframe tbody tr th:only-of-type {\n",
       "        vertical-align: middle;\n",
       "    }\n",
       "\n",
       "    .dataframe tbody tr th {\n",
       "        vertical-align: top;\n",
       "    }\n",
       "\n",
       "    .dataframe thead th {\n",
       "        text-align: right;\n",
       "    }\n",
       "</style>\n",
       "<table border=\"1\" class=\"dataframe\">\n",
       "  <thead>\n",
       "    <tr style=\"text-align: right;\">\n",
       "      <th></th>\n",
       "      <th>source</th>\n",
       "      <th>polarity</th>\n",
       "      <th>review_len</th>\n",
       "      <th>word_count</th>\n",
       "    </tr>\n",
       "  </thead>\n",
       "  <tbody>\n",
       "    <tr>\n",
       "      <th>0</th>\n",
       "      <td>0</td>\n",
       "      <td>0.0</td>\n",
       "      <td>13</td>\n",
       "      <td>2</td>\n",
       "    </tr>\n",
       "    <tr>\n",
       "      <th>1</th>\n",
       "      <td>1</td>\n",
       "      <td>-0.1</td>\n",
       "      <td>68</td>\n",
       "      <td>9</td>\n",
       "    </tr>\n",
       "  </tbody>\n",
       "</table>\n",
       "</div>"
      ],
      "text/plain": [
       "   source  polarity  review_len  word_count\n",
       "0       0       0.0          13           2\n",
       "1       1      -0.1          68           9"
      ]
     },
     "execution_count": 36,
     "metadata": {},
     "output_type": "execute_result"
    }
   ],
   "source": [
    "features= gossipcop.drop(['news', 'label'], axis= 1)\n",
    "features.head(2)"
   ]
  },
  {
   "cell_type": "code",
   "execution_count": 37,
   "id": "377cec0c",
   "metadata": {},
   "outputs": [
    {
     "data": {
      "text/plain": [
       "{'polarity', 'source'}"
      ]
     },
     "execution_count": 37,
     "metadata": {},
     "output_type": "execute_result"
    }
   ],
   "source": [
    "# mutual_info_classif for feature selection\n",
    "k_best_mi = SelectKBest(mutual_info_classif, k=2)  # Select top 6 features\n",
    "features_selected_mi = k_best_mi.fit_transform(features, gossipcop['label'])\n",
    "# features_selected_mi\n",
    "selected_feature_indices = k_best_mi.get_support(indices=True)\n",
    "selected_column_mi = set(features.columns[selected_feature_indices])\n",
    "selected_column_mi"
   ]
  },
  {
   "cell_type": "code",
   "execution_count": 38,
   "id": "4c2235cd",
   "metadata": {},
   "outputs": [
    {
     "data": {
      "text/plain": [
       "{'polarity', 'source'}"
      ]
     },
     "execution_count": 38,
     "metadata": {},
     "output_type": "execute_result"
    }
   ],
   "source": [
    "# f_classif for feature selection\n",
    "k_best_f = SelectKBest(f_classif, k=2)  # Select top 6 features\n",
    "X_selected_f = k_best_f.fit_transform(features, gossipcop['label'])\n",
    "selected_feature_indices = k_best_mi.get_support(indices=True)\n",
    "selected_column_f_class = set(features.columns[selected_feature_indices])\n",
    "selected_column_f_class"
   ]
  },
  {
   "cell_type": "code",
   "execution_count": 39,
   "id": "665e6cd3",
   "metadata": {},
   "outputs": [
    {
     "data": {
      "text/plain": [
       "{'polarity', 'word_count'}"
      ]
     },
     "execution_count": 39,
     "metadata": {},
     "output_type": "execute_result"
    }
   ],
   "source": [
    "# LASSO (L1 regularization) for feature selection\n",
    "lasso_model = LogisticRegression(penalty='l1', solver='liblinear')\n",
    "lasso_model.fit(features, gossipcop['label'])\n",
    "# Get the absolute values of the coefficients\n",
    "abs_coef = abs(lasso_model.coef_[0])\n",
    "\n",
    "# Get the indices of the three largest coefficients (features with highest absolute coefficient values)\n",
    "top_3_indices = abs_coef.argsort()[-2:][::-1]\n",
    "\n",
    "# Get the names of the three best features\n",
    "selected_features_lasso = features.columns[top_3_indices]\n",
    "\n",
    "# Create the final feature matrix with the three selected features\n",
    "features_selected_lasso = set(features[selected_features_lasso])\n",
    "\n",
    "features_selected_lasso"
   ]
  },
  {
   "cell_type": "code",
   "execution_count": 40,
   "id": "1fbe6b2a",
   "metadata": {},
   "outputs": [
    {
     "data": {
      "text/plain": [
       "{'label'}"
      ]
     },
     "execution_count": 40,
     "metadata": {},
     "output_type": "execute_result"
    }
   ],
   "source": [
    "# \n",
    "# Calculate the correlation matrix\n",
    "features= gossipcop.drop(['news'], axis= 1)\n",
    "correlation_matrix = features.corr()\n",
    "\n",
    "# Select features with high correlation to the target variable (absolute correlation values)\n",
    "threshold = 0.2  \n",
    "selected_features_corr = correlation_matrix[abs(correlation_matrix['label']) > threshold].index\n",
    "\n",
    "# Create the final feature matrix\n",
    "features_selected_corr = set(features[selected_features_corr])\n",
    "features_selected_corr"
   ]
  },
  {
   "cell_type": "markdown",
   "id": "5cb0f91f",
   "metadata": {},
   "source": [
    "#### Wrapper methods\n",
    "##### using lasso for all features including news column"
   ]
  },
  {
   "cell_type": "code",
   "execution_count": 41,
   "id": "e794b92e",
   "metadata": {},
   "outputs": [],
   "source": [
    "# Creating bag of words\n",
    "def bow(corpus):\n",
    "    vectorizer = CountVectorizer()\n",
    "    news_features = vectorizer.fit_transform(corpus).toarray()\n",
    "    return news_features"
   ]
  },
  {
   "cell_type": "code",
   "execution_count": null,
   "id": "66a6ede6",
   "metadata": {},
   "outputs": [],
   "source": []
  },
  {
   "cell_type": "code",
   "execution_count": 42,
   "id": "6030106e",
   "metadata": {},
   "outputs": [
    {
     "data": {
      "text/html": [
       "<div>\n",
       "<style scoped>\n",
       "    .dataframe tbody tr th:only-of-type {\n",
       "        vertical-align: middle;\n",
       "    }\n",
       "\n",
       "    .dataframe tbody tr th {\n",
       "        vertical-align: top;\n",
       "    }\n",
       "\n",
       "    .dataframe thead th {\n",
       "        text-align: right;\n",
       "    }\n",
       "</style>\n",
       "<table border=\"1\" class=\"dataframe\">\n",
       "  <thead>\n",
       "    <tr style=\"text-align: right;\">\n",
       "      <th></th>\n",
       "      <th>news</th>\n",
       "      <th>source</th>\n",
       "      <th>label</th>\n",
       "      <th>polarity</th>\n",
       "      <th>review_len</th>\n",
       "      <th>word_count</th>\n",
       "    </tr>\n",
       "  </thead>\n",
       "  <tbody>\n",
       "    <tr>\n",
       "      <th>0</th>\n",
       "      <td>donald glover</td>\n",
       "      <td>0</td>\n",
       "      <td>1</td>\n",
       "      <td>0.00</td>\n",
       "      <td>13</td>\n",
       "      <td>2</td>\n",
       "    </tr>\n",
       "    <tr>\n",
       "      <th>1</th>\n",
       "      <td>everything know kevin harts alleged extortion ...</td>\n",
       "      <td>1</td>\n",
       "      <td>0</td>\n",
       "      <td>-0.10</td>\n",
       "      <td>68</td>\n",
       "      <td>9</td>\n",
       "    </tr>\n",
       "    <tr>\n",
       "      <th>2</th>\n",
       "      <td>oscars memorable academy awards acceptance spe...</td>\n",
       "      <td>2</td>\n",
       "      <td>1</td>\n",
       "      <td>0.50</td>\n",
       "      <td>51</td>\n",
       "      <td>6</td>\n",
       "    </tr>\n",
       "    <tr>\n",
       "      <th>3</th>\n",
       "      <td>ariana grande arrives england manchester benef...</td>\n",
       "      <td>3</td>\n",
       "      <td>1</td>\n",
       "      <td>0.00</td>\n",
       "      <td>56</td>\n",
       "      <td>7</td>\n",
       "    </tr>\n",
       "    <tr>\n",
       "      <th>4</th>\n",
       "      <td>prince royce goes shirtless dancing underwear ...</td>\n",
       "      <td>4</td>\n",
       "      <td>1</td>\n",
       "      <td>0.25</td>\n",
       "      <td>61</td>\n",
       "      <td>9</td>\n",
       "    </tr>\n",
       "    <tr>\n",
       "      <th>...</th>\n",
       "      <td>...</td>\n",
       "      <td>...</td>\n",
       "      <td>...</td>\n",
       "      <td>...</td>\n",
       "      <td>...</td>\n",
       "      <td>...</td>\n",
       "    </tr>\n",
       "    <tr>\n",
       "      <th>19995</th>\n",
       "      <td>would thought kylie would successful kardashian</td>\n",
       "      <td>807</td>\n",
       "      <td>0</td>\n",
       "      <td>0.75</td>\n",
       "      <td>47</td>\n",
       "      <td>6</td>\n",
       "    </tr>\n",
       "    <tr>\n",
       "      <th>19996</th>\n",
       "      <td>beyonce shows flawless figure serena williams ...</td>\n",
       "      <td>34</td>\n",
       "      <td>1</td>\n",
       "      <td>1.00</td>\n",
       "      <td>53</td>\n",
       "      <td>7</td>\n",
       "    </tr>\n",
       "    <tr>\n",
       "      <th>19997</th>\n",
       "      <td>met gala katy perry flew kim kardashians nails la</td>\n",
       "      <td>1</td>\n",
       "      <td>1</td>\n",
       "      <td>0.00</td>\n",
       "      <td>49</td>\n",
       "      <td>9</td>\n",
       "    </tr>\n",
       "    <tr>\n",
       "      <th>19998</th>\n",
       "      <td>caitlyn jenner caught dinner date ex girlfrien...</td>\n",
       "      <td>185</td>\n",
       "      <td>0</td>\n",
       "      <td>0.00</td>\n",
       "      <td>60</td>\n",
       "      <td>9</td>\n",
       "    </tr>\n",
       "    <tr>\n",
       "      <th>19999</th>\n",
       "      <td>angelina jolie syrian refugee hunger strike vs...</td>\n",
       "      <td>1686</td>\n",
       "      <td>0</td>\n",
       "      <td>0.00</td>\n",
       "      <td>64</td>\n",
       "      <td>10</td>\n",
       "    </tr>\n",
       "  </tbody>\n",
       "</table>\n",
       "<p>19997 rows × 6 columns</p>\n",
       "</div>"
      ],
      "text/plain": [
       "                                                    news  source  label  \\\n",
       "0                                          donald glover       0      1   \n",
       "1      everything know kevin harts alleged extortion ...       1      0   \n",
       "2      oscars memorable academy awards acceptance spe...       2      1   \n",
       "3      ariana grande arrives england manchester benef...       3      1   \n",
       "4      prince royce goes shirtless dancing underwear ...       4      1   \n",
       "...                                                  ...     ...    ...   \n",
       "19995    would thought kylie would successful kardashian     807      0   \n",
       "19996  beyonce shows flawless figure serena williams ...      34      1   \n",
       "19997  met gala katy perry flew kim kardashians nails la       1      1   \n",
       "19998  caitlyn jenner caught dinner date ex girlfrien...     185      0   \n",
       "19999  angelina jolie syrian refugee hunger strike vs...    1686      0   \n",
       "\n",
       "       polarity  review_len  word_count  \n",
       "0          0.00          13           2  \n",
       "1         -0.10          68           9  \n",
       "2          0.50          51           6  \n",
       "3          0.00          56           7  \n",
       "4          0.25          61           9  \n",
       "...         ...         ...         ...  \n",
       "19995      0.75          47           6  \n",
       "19996      1.00          53           7  \n",
       "19997      0.00          49           9  \n",
       "19998      0.00          60           9  \n",
       "19999      0.00          64          10  \n",
       "\n",
       "[19997 rows x 6 columns]"
      ]
     },
     "execution_count": 42,
     "metadata": {},
     "output_type": "execute_result"
    }
   ],
   "source": [
    "gossipcop"
   ]
  },
  {
   "cell_type": "code",
   "execution_count": 43,
   "id": "244cb0a3",
   "metadata": {},
   "outputs": [
    {
     "name": "stdout",
     "output_type": "stream",
     "text": [
      "Shape of bag of words on news:  [[0 0 0 ... 0 0 0]\n",
      " [0 0 0 ... 0 0 0]\n",
      " [0 0 0 ... 0 0 0]\n",
      " ...\n",
      " [0 0 0 ... 0 0 0]\n",
      " [0 0 0 ... 0 0 0]\n",
      " [0 0 0 ... 0 0 0]]\n",
      "The number of new columns is added to dataset is:  17042\n"
     ]
    }
   ],
   "source": [
    "news_bow= bow(gossipcop['news'])\n",
    "print('Shape of bag of words on news: ', news_bow)\n",
    "print('The number of new columns is added to dataset is: ', news_bow.shape[1])\n"
   ]
  },
  {
   "cell_type": "code",
   "execution_count": 44,
   "id": "4cfd0965",
   "metadata": {},
   "outputs": [],
   "source": [
    "def cancat_two_part(dataset, vertorized_feature):\n",
    "    # Step 1: Scale the numerical features using StandardScaler and convert to a sparse matrix\n",
    "    other_features = dataset.drop(columns=['news', 'label'])\n",
    "    scaler = StandardScaler()\n",
    "    scaled_other_features = scaler.fit_transform(other_features)\n",
    "    sparse_scaled_other_features = csr_matrix(scaled_other_features)\n",
    "\n",
    "    # Step 2: Concatenate the sparse matrices for 'news' and numerical features\n",
    "    all_features = hstack([vertorized_feature, sparse_scaled_other_features])\n",
    "\n",
    "    return all_features"
   ]
  },
  {
   "cell_type": "code",
   "execution_count": 45,
   "id": "ef0076d3",
   "metadata": {},
   "outputs": [
    {
     "data": {
      "text/plain": [
       "<19997x17046 sparse matrix of type '<class 'numpy.float64'>'\n",
       "\twith 239673 stored elements in COOrdinate format>"
      ]
     },
     "execution_count": 45,
     "metadata": {},
     "output_type": "execute_result"
    }
   ],
   "source": [
    "gossipcop_bow= cancat_two_part(gossipcop, news_bow)\n",
    "gossipcop_bow"
   ]
  },
  {
   "cell_type": "code",
   "execution_count": 46,
   "id": "f103ffcb",
   "metadata": {},
   "outputs": [],
   "source": [
    "# Information Gain feature selection method"
   ]
  },
  {
   "cell_type": "code",
   "execution_count": 47,
   "id": "85c0ac83",
   "metadata": {},
   "outputs": [],
   "source": [
    "def informatio_gain(dataset, label):\n",
    "\n",
    "    # Calculate Information Gain using mutual information\n",
    "    information_gains_all = mutual_info_classif(dataset, label)  # Exclude non-numeric columns\n",
    "    # Print Information Gains for each feature\n",
    "    columns = [ 'source', 'polarity', 'review_len', 'word_count'] \n",
    "    other_features= len(columns)\n",
    "    selected_features= []\n",
    "    information_gains= information_gains_all[-other_features:]\n",
    "    for i, gain in enumerate(information_gains):\n",
    "        print(f\"Feature {columns[i]}: Information Gain = {gain:.6f}\")\n",
    "        selected_features.append(columns[i])\n",
    "    return selected_features"
   ]
  },
  {
   "cell_type": "code",
   "execution_count": 48,
   "id": "dd73c95c",
   "metadata": {},
   "outputs": [
    {
     "name": "stdout",
     "output_type": "stream",
     "text": [
      "Feature source: Information Gain = 0.216845\n",
      "Feature polarity: Information Gain = 0.024568\n",
      "Feature review_len: Information Gain = 0.006337\n",
      "Feature word_count: Information Gain = 0.000721\n"
     ]
    },
    {
     "name": "stderr",
     "output_type": "stream",
     "text": [
      "C:\\Users\\mahmoud\\anaconda3\\lib\\site-packages\\sklearn\\metrics\\cluster\\_supervised.py:65: UserWarning: Clustering metrics expects discrete values but received continuous values for label, and binary values for target\n",
      "  warnings.warn(msg, UserWarning)\n",
      "C:\\Users\\mahmoud\\anaconda3\\lib\\site-packages\\sklearn\\metrics\\cluster\\_supervised.py:65: UserWarning: Clustering metrics expects discrete values but received continuous values for label, and binary values for target\n",
      "  warnings.warn(msg, UserWarning)\n",
      "C:\\Users\\mahmoud\\anaconda3\\lib\\site-packages\\sklearn\\metrics\\cluster\\_supervised.py:65: UserWarning: Clustering metrics expects discrete values but received continuous values for label, and binary values for target\n",
      "  warnings.warn(msg, UserWarning)\n",
      "C:\\Users\\mahmoud\\anaconda3\\lib\\site-packages\\sklearn\\metrics\\cluster\\_supervised.py:65: UserWarning: Clustering metrics expects discrete values but received continuous values for label, and binary values for target\n",
      "  warnings.warn(msg, UserWarning)\n"
     ]
    }
   ],
   "source": [
    "selected_features_ig= informatio_gain(gossipcop_bow, gossipcop['label'])"
   ]
  },
  {
   "cell_type": "code",
   "execution_count": 49,
   "id": "fdfbc9e5",
   "metadata": {},
   "outputs": [],
   "source": [
    "# select the 2 highest Infomation Gain score\n",
    "selected_features_ig= ['source', 'polarity']"
   ]
  },
  {
   "cell_type": "code",
   "execution_count": 50,
   "id": "edd970b3",
   "metadata": {},
   "outputs": [],
   "source": [
    "# Lasso feature selection method\n",
    "def lasso_feature_selection(dataset, label):\n",
    "    # getting features (X) and target (y)\n",
    "    X = dataset\n",
    "    y = label\n",
    "\n",
    "    # Split the data into training and testing sets\n",
    "    X_train, X_test, y_train, y_test = train_test_split(X, y, test_size=0.2, random_state=42)\n",
    "\n",
    "    # Train a Lasso regression model\n",
    "    lasso = Lasso(alpha=0.008)  \n",
    "    lasso.fit(X_train, y_train)\n",
    "\n",
    "    # Predict on the test set\n",
    "    y_pred = lasso.predict(X_test)\n",
    "\n",
    "    # Evaluate the model \n",
    "    mse = mean_squared_error(y_test, y_pred)\n",
    "    print(f\"Mean Squared Error: {mse}\")\n",
    "\n",
    "    # Get the selected features (non-zero coefficients)\n",
    "    non_zero_coefficient_indices  = np.where(lasso.coef_ != 0)[0]\n",
    "    return non_zero_coefficient_indices"
   ]
  },
  {
   "cell_type": "code",
   "execution_count": 51,
   "id": "661f5fc4",
   "metadata": {},
   "outputs": [
    {
     "name": "stdout",
     "output_type": "stream",
     "text": [
      "Mean Squared Error: 0.17357468716323216\n"
     ]
    },
    {
     "data": {
      "text/plain": [
       "['source']"
      ]
     },
     "execution_count": 51,
     "metadata": {},
     "output_type": "execute_result"
    }
   ],
   "source": [
    "selected_features_indeces= lasso_feature_selection(gossipcop_bow, gossipcop['label'])\n",
    "other_features_indeces= [index - news_bow.shape[1]-1 for index in selected_features_indeces if index - news_bow.shape[1] > 0]\n",
    "features_list= features.columns.to_list()\n",
    "selected_column_lass_wm= [feature for feature in features_list if features_list.index(feature) in other_features_indeces]\n",
    "selected_column_lass_wm"
   ]
  },
  {
   "cell_type": "code",
   "execution_count": 52,
   "id": "3cde00b5",
   "metadata": {},
   "outputs": [
    {
     "data": {
      "text/plain": [
       "[('polarity', 4), ('source', 4), ('label', 1), ('word_count', 1)]"
      ]
     },
     "execution_count": 52,
     "metadata": {},
     "output_type": "execute_result"
    }
   ],
   "source": [
    "combined_list = list(features_selected_corr) + list(selected_column_mi) + list(selected_column_f_class) + \\\n",
    "                list(features_selected_lasso)+ selected_column_lass_wm + selected_features_ig\n",
    "# Count the occurrences of each element\n",
    "element_counts = Counter(combined_list)\n",
    "most_common_elements = element_counts.most_common()\n",
    "most_common_elements"
   ]
  },
  {
   "cell_type": "code",
   "execution_count": 53,
   "id": "174122c2",
   "metadata": {},
   "outputs": [
    {
     "data": {
      "text/plain": [
       "['polarity', 'source']"
      ]
     },
     "execution_count": 53,
     "metadata": {},
     "output_type": "execute_result"
    }
   ],
   "source": [
    "# Retrieve the three most common elements\n",
    "selected_features= [feature[0] for feature in most_common_elements if feature[1]>=3]\n",
    "selected_features"
   ]
  },
  {
   "cell_type": "code",
   "execution_count": 54,
   "id": "22446c44",
   "metadata": {},
   "outputs": [
    {
     "name": "stdout",
     "output_type": "stream",
     "text": [
      "['news', 'polarity', 'source', 'label']\n"
     ]
    },
    {
     "data": {
      "text/html": [
       "<div>\n",
       "<style scoped>\n",
       "    .dataframe tbody tr th:only-of-type {\n",
       "        vertical-align: middle;\n",
       "    }\n",
       "\n",
       "    .dataframe tbody tr th {\n",
       "        vertical-align: top;\n",
       "    }\n",
       "\n",
       "    .dataframe thead th {\n",
       "        text-align: right;\n",
       "    }\n",
       "</style>\n",
       "<table border=\"1\" class=\"dataframe\">\n",
       "  <thead>\n",
       "    <tr style=\"text-align: right;\">\n",
       "      <th></th>\n",
       "      <th>news</th>\n",
       "      <th>polarity</th>\n",
       "      <th>source</th>\n",
       "      <th>label</th>\n",
       "    </tr>\n",
       "  </thead>\n",
       "  <tbody>\n",
       "    <tr>\n",
       "      <th>0</th>\n",
       "      <td>donald glover</td>\n",
       "      <td>0.0</td>\n",
       "      <td>0</td>\n",
       "      <td>1</td>\n",
       "    </tr>\n",
       "    <tr>\n",
       "      <th>1</th>\n",
       "      <td>everything know kevin harts alleged extortion ...</td>\n",
       "      <td>-0.1</td>\n",
       "      <td>1</td>\n",
       "      <td>0</td>\n",
       "    </tr>\n",
       "  </tbody>\n",
       "</table>\n",
       "</div>"
      ],
      "text/plain": [
       "                                                news  polarity  source  label\n",
       "0                                      donald glover       0.0       0      1\n",
       "1  everything know kevin harts alleged extortion ...      -0.1       1      0"
      ]
     },
     "execution_count": 54,
     "metadata": {},
     "output_type": "execute_result"
    }
   ],
   "source": [
    "selected_features.insert(0, 'news')\n",
    "selected_features.append('label')\n",
    "print(selected_features)\n",
    "gossipcop_selected= gossipcop[selected_features].copy()\n",
    "gossipcop_selected.head(2)"
   ]
  },
  {
   "cell_type": "code",
   "execution_count": 55,
   "id": "1a5d553c",
   "metadata": {},
   "outputs": [],
   "source": [
    "# save point 3\n",
    "gossipcop_selected.to_csv(os.path.join(data_dir,'gossipcop_stp_fe_fS.csv'), index=False)"
   ]
  },
  {
   "cell_type": "code",
   "execution_count": 56,
   "id": "a6da5933",
   "metadata": {},
   "outputs": [],
   "source": [
    "gossipcop= pd.read_csv(os.path.join(data_dir,'gossipcop_stp_fe_fS.csv'))\n"
   ]
  },
  {
   "cell_type": "code",
   "execution_count": 57,
   "id": "b4a42ddb",
   "metadata": {},
   "outputs": [
    {
     "data": {
      "text/html": [
       "<div>\n",
       "<style scoped>\n",
       "    .dataframe tbody tr th:only-of-type {\n",
       "        vertical-align: middle;\n",
       "    }\n",
       "\n",
       "    .dataframe tbody tr th {\n",
       "        vertical-align: top;\n",
       "    }\n",
       "\n",
       "    .dataframe thead th {\n",
       "        text-align: right;\n",
       "    }\n",
       "</style>\n",
       "<table border=\"1\" class=\"dataframe\">\n",
       "  <thead>\n",
       "    <tr style=\"text-align: right;\">\n",
       "      <th></th>\n",
       "      <th>news</th>\n",
       "      <th>polarity</th>\n",
       "      <th>source</th>\n",
       "      <th>label</th>\n",
       "    </tr>\n",
       "  </thead>\n",
       "  <tbody>\n",
       "    <tr>\n",
       "      <th>0</th>\n",
       "      <td>donald glover</td>\n",
       "      <td>0.0</td>\n",
       "      <td>0</td>\n",
       "      <td>1</td>\n",
       "    </tr>\n",
       "    <tr>\n",
       "      <th>1</th>\n",
       "      <td>everything know kevin harts alleged extortion ...</td>\n",
       "      <td>-0.1</td>\n",
       "      <td>1</td>\n",
       "      <td>0</td>\n",
       "    </tr>\n",
       "    <tr>\n",
       "      <th>2</th>\n",
       "      <td>oscars memorable academy awards acceptance spe...</td>\n",
       "      <td>0.5</td>\n",
       "      <td>2</td>\n",
       "      <td>1</td>\n",
       "    </tr>\n",
       "  </tbody>\n",
       "</table>\n",
       "</div>"
      ],
      "text/plain": [
       "                                                news  polarity  source  label\n",
       "0                                      donald glover       0.0       0      1\n",
       "1  everything know kevin harts alleged extortion ...      -0.1       1      0\n",
       "2  oscars memorable academy awards acceptance spe...       0.5       2      1"
      ]
     },
     "execution_count": 57,
     "metadata": {},
     "output_type": "execute_result"
    }
   ],
   "source": [
    "gossipcop.head(3)"
   ]
  },
  {
   "cell_type": "code",
   "execution_count": 58,
   "id": "6d0bf6c5",
   "metadata": {},
   "outputs": [
    {
     "data": {
      "image/png": "[encoded data removed]",
      "text/plain": [
       "<Figure size 640x480 with 1 Axes>"
      ]
     },
     "metadata": {},
     "output_type": "display_data"
    }
   ],
   "source": [
    "## Count of fake news and true news\n",
    "ax=sns.countplot(x=\"label\", data=gossipcop)\n",
    "#Setting labels and font size\n",
    "ax.set(xlabel='Output', ylabel='Count of fake/true',title='Count of fake and true news')\n",
    "ax.xaxis.get_label().set_fontsize(15)\n",
    "ax.yaxis.get_label().set_fontsize(15)"
   ]
  },
  {
   "cell_type": "code",
   "execution_count": 59,
   "id": "dca2421c",
   "metadata": {},
   "outputs": [
    {
     "data": {
      "text/plain": [
       "1    15167\n",
       "0     4830\n",
       "Name: label, dtype: int64"
      ]
     },
     "execution_count": 59,
     "metadata": {},
     "output_type": "execute_result"
    }
   ],
   "source": [
    "gossipcop['label'].value_counts()"
   ]
  },
  {
   "cell_type": "markdown",
   "id": "466805aa",
   "metadata": {},
   "source": [
    "### Stemming"
   ]
  },
  {
   "cell_type": "code",
   "execution_count": 60,
   "id": "1fd38d87",
   "metadata": {},
   "outputs": [],
   "source": [
    "stop_words = set(stopwords.words(\"english\"))\n",
    "#Performing stemming on the review dataframe\n",
    "ps = PorterStemmer()\n",
    "\n",
    "#splitting and adding the stemmed words except stopwords\n",
    "corpus = []\n",
    "for i in range(0, len(gossipcop)):\n",
    "    news = re.sub('[^a-zA-Z]', ' ', str(gossipcop['news'][i]))\n",
    "    news= news.lower()\n",
    "    news = news.split()\n",
    "    news = [ps.stem(word) for word in news if not word in stop_words]\n",
    "    news = ' '.join(news)\n",
    "    corpus.append(news) "
   ]
  },
  {
   "cell_type": "code",
   "execution_count": 61,
   "id": "c69c7ba0",
   "metadata": {},
   "outputs": [
    {
     "data": {
      "text/html": [
       "<div>\n",
       "<style scoped>\n",
       "    .dataframe tbody tr th:only-of-type {\n",
       "        vertical-align: middle;\n",
       "    }\n",
       "\n",
       "    .dataframe tbody tr th {\n",
       "        vertical-align: top;\n",
       "    }\n",
       "\n",
       "    .dataframe thead th {\n",
       "        text-align: right;\n",
       "    }\n",
       "</style>\n",
       "<table border=\"1\" class=\"dataframe\">\n",
       "  <thead>\n",
       "    <tr style=\"text-align: right;\">\n",
       "      <th></th>\n",
       "      <th>news</th>\n",
       "      <th>polarity</th>\n",
       "      <th>source</th>\n",
       "      <th>label</th>\n",
       "    </tr>\n",
       "  </thead>\n",
       "  <tbody>\n",
       "    <tr>\n",
       "      <th>0</th>\n",
       "      <td>donald glover</td>\n",
       "      <td>0.0</td>\n",
       "      <td>0</td>\n",
       "      <td>1</td>\n",
       "    </tr>\n",
       "    <tr>\n",
       "      <th>1</th>\n",
       "      <td>everything know kevin harts alleged extortion ...</td>\n",
       "      <td>-0.1</td>\n",
       "      <td>1</td>\n",
       "      <td>0</td>\n",
       "    </tr>\n",
       "    <tr>\n",
       "      <th>2</th>\n",
       "      <td>oscars memorable academy awards acceptance spe...</td>\n",
       "      <td>0.5</td>\n",
       "      <td>2</td>\n",
       "      <td>1</td>\n",
       "    </tr>\n",
       "  </tbody>\n",
       "</table>\n",
       "</div>"
      ],
      "text/plain": [
       "                                                news  polarity  source  label\n",
       "0                                      donald glover       0.0       0      1\n",
       "1  everything know kevin harts alleged extortion ...      -0.1       1      0\n",
       "2  oscars memorable academy awards acceptance spe...       0.5       2      1"
      ]
     },
     "execution_count": 61,
     "metadata": {},
     "output_type": "execute_result"
    }
   ],
   "source": [
    "gossipcop.head(3)"
   ]
  },
  {
   "cell_type": "code",
   "execution_count": 62,
   "id": "c8b5a96c",
   "metadata": {},
   "outputs": [],
   "source": [
    "#save point 4 after stemming \n",
    "gossipcop.to_csv(os.path.join(data_dir, 'gossipcop_stp_fS_fe_stm.csv'), index=False)"
   ]
  },
  {
   "cell_type": "code",
   "execution_count": 63,
   "id": "f60bbd5f",
   "metadata": {},
   "outputs": [
    {
     "data": {
      "text/html": [
       "<div>\n",
       "<style scoped>\n",
       "    .dataframe tbody tr th:only-of-type {\n",
       "        vertical-align: middle;\n",
       "    }\n",
       "\n",
       "    .dataframe tbody tr th {\n",
       "        vertical-align: top;\n",
       "    }\n",
       "\n",
       "    .dataframe thead th {\n",
       "        text-align: right;\n",
       "    }\n",
       "</style>\n",
       "<table border=\"1\" class=\"dataframe\">\n",
       "  <thead>\n",
       "    <tr style=\"text-align: right;\">\n",
       "      <th></th>\n",
       "      <th>news</th>\n",
       "      <th>polarity</th>\n",
       "      <th>source</th>\n",
       "      <th>label</th>\n",
       "    </tr>\n",
       "  </thead>\n",
       "  <tbody>\n",
       "    <tr>\n",
       "      <th>0</th>\n",
       "      <td>donald glover</td>\n",
       "      <td>0.00</td>\n",
       "      <td>0</td>\n",
       "      <td>1</td>\n",
       "    </tr>\n",
       "    <tr>\n",
       "      <th>1</th>\n",
       "      <td>everything know kevin harts alleged extortion ...</td>\n",
       "      <td>-0.10</td>\n",
       "      <td>1</td>\n",
       "      <td>0</td>\n",
       "    </tr>\n",
       "    <tr>\n",
       "      <th>2</th>\n",
       "      <td>oscars memorable academy awards acceptance spe...</td>\n",
       "      <td>0.50</td>\n",
       "      <td>2</td>\n",
       "      <td>1</td>\n",
       "    </tr>\n",
       "    <tr>\n",
       "      <th>3</th>\n",
       "      <td>ariana grande arrives england manchester benef...</td>\n",
       "      <td>0.00</td>\n",
       "      <td>3</td>\n",
       "      <td>1</td>\n",
       "    </tr>\n",
       "    <tr>\n",
       "      <th>4</th>\n",
       "      <td>prince royce goes shirtless dancing underwear ...</td>\n",
       "      <td>0.25</td>\n",
       "      <td>4</td>\n",
       "      <td>1</td>\n",
       "    </tr>\n",
       "    <tr>\n",
       "      <th>...</th>\n",
       "      <td>...</td>\n",
       "      <td>...</td>\n",
       "      <td>...</td>\n",
       "      <td>...</td>\n",
       "    </tr>\n",
       "    <tr>\n",
       "      <th>19992</th>\n",
       "      <td>would thought kylie would successful kardashian</td>\n",
       "      <td>0.75</td>\n",
       "      <td>807</td>\n",
       "      <td>0</td>\n",
       "    </tr>\n",
       "    <tr>\n",
       "      <th>19993</th>\n",
       "      <td>beyonce shows flawless figure serena williams ...</td>\n",
       "      <td>1.00</td>\n",
       "      <td>34</td>\n",
       "      <td>1</td>\n",
       "    </tr>\n",
       "    <tr>\n",
       "      <th>19994</th>\n",
       "      <td>met gala katy perry flew kim kardashians nails la</td>\n",
       "      <td>0.00</td>\n",
       "      <td>1</td>\n",
       "      <td>1</td>\n",
       "    </tr>\n",
       "    <tr>\n",
       "      <th>19995</th>\n",
       "      <td>caitlyn jenner caught dinner date ex girlfrien...</td>\n",
       "      <td>0.00</td>\n",
       "      <td>185</td>\n",
       "      <td>0</td>\n",
       "    </tr>\n",
       "    <tr>\n",
       "      <th>19996</th>\n",
       "      <td>angelina jolie syrian refugee hunger strike vs...</td>\n",
       "      <td>0.00</td>\n",
       "      <td>1686</td>\n",
       "      <td>0</td>\n",
       "    </tr>\n",
       "  </tbody>\n",
       "</table>\n",
       "<p>19997 rows × 4 columns</p>\n",
       "</div>"
      ],
      "text/plain": [
       "                                                    news  polarity  source  \\\n",
       "0                                          donald glover      0.00       0   \n",
       "1      everything know kevin harts alleged extortion ...     -0.10       1   \n",
       "2      oscars memorable academy awards acceptance spe...      0.50       2   \n",
       "3      ariana grande arrives england manchester benef...      0.00       3   \n",
       "4      prince royce goes shirtless dancing underwear ...      0.25       4   \n",
       "...                                                  ...       ...     ...   \n",
       "19992    would thought kylie would successful kardashian      0.75     807   \n",
       "19993  beyonce shows flawless figure serena williams ...      1.00      34   \n",
       "19994  met gala katy perry flew kim kardashians nails la      0.00       1   \n",
       "19995  caitlyn jenner caught dinner date ex girlfrien...      0.00     185   \n",
       "19996  angelina jolie syrian refugee hunger strike vs...      0.00    1686   \n",
       "\n",
       "       label  \n",
       "0          1  \n",
       "1          0  \n",
       "2          1  \n",
       "3          1  \n",
       "4          1  \n",
       "...      ...  \n",
       "19992      0  \n",
       "19993      1  \n",
       "19994      1  \n",
       "19995      0  \n",
       "19996      0  \n",
       "\n",
       "[19997 rows x 4 columns]"
      ]
     },
     "execution_count": 63,
     "metadata": {},
     "output_type": "execute_result"
    }
   ],
   "source": [
    "gossipcop= pd.read_csv(os.path.join(data_dir,'gossipcop_stp_fS_fe_stm.csv'))\n",
    "gossipcop"
   ]
  },
  {
   "cell_type": "code",
   "execution_count": 64,
   "id": "45350945",
   "metadata": {},
   "outputs": [],
   "source": [
    "train_dataset_adrs= os.path.join(data_dir,'train_data')\n",
    "try:\n",
    "    os.mkdir(train_dataset_adrs)\n",
    "except  FileExistsError:\n",
    "    pass"
   ]
  },
  {
   "cell_type": "markdown",
   "id": "68294792",
   "metadata": {},
   "source": [
    "## Vectorization news column"
   ]
  },
  {
   "cell_type": "markdown",
   "id": "f10dcea7",
   "metadata": {},
   "source": [
    "### Bag of words"
   ]
  },
  {
   "cell_type": "code",
   "execution_count": 65,
   "id": "1fe9ceb4",
   "metadata": {},
   "outputs": [],
   "source": [
    "# bag of words\n",
    "def bow(data):\n",
    "    # Create a CountVectorizer object\n",
    "    vectorizer = CountVectorizer()\n",
    "    # Fit and transform the \"news\" column\n",
    "    news_vectorized = vectorizer.fit_transform(data['news'])\n",
    "    # converting rest of features to sparse matrix to and concatenate with news columns which has been just vectorized\n",
    "    rest= csr_matrix(data.drop(['news', 'label'],axis= 1).values) \n",
    "    vectorized_data= hstack([news_vectorized,rest]) \n",
    "    return vectorized_data\n"
   ]
  },
  {
   "cell_type": "code",
   "execution_count": 66,
   "id": "adff1b62",
   "metadata": {},
   "outputs": [],
   "source": [
    "gossipcop_bow= bow(gossipcop)\n",
    "# from now, the name of datasets will be changed based on vectorization techniques\n",
    "#save point 5, gossipcop bag of words\n",
    "scipy.sparse.save_npz(os.path.join(train_dataset_adrs,'gossipcop_bow.npz'), gossipcop_bow)\n",
    "vec_tech_list= ['gossipcop_bow.npz']"
   ]
  },
  {
   "cell_type": "markdown",
   "id": "b4e080db",
   "metadata": {},
   "source": [
    "### N-gram analysis"
   ]
  },
  {
   "cell_type": "code",
   "execution_count": 67,
   "id": "12b55279",
   "metadata": {},
   "outputs": [],
   "source": [
    "# one gram \n",
    "def one_gram(data):\n",
    "    # Create a CountVectorizer object with unigrams\n",
    "    vectorizer = CountVectorizer(ngram_range=(1, 1))\n",
    "    # Fit and transform the \"news\" column\n",
    "    news_vectorized = vectorizer.fit_transform(data['news'])\n",
    "    # converting rest of features to sparse matrix to and concatenate with news columns which has been just vectorized\n",
    "    rest= csr_matrix(data.drop(['news', 'label'], axis= 1).values)\n",
    "    vectorized_data= hstack([news_vectorized,rest])\n",
    "    return vectorized_data"
   ]
  },
  {
   "cell_type": "code",
   "execution_count": 68,
   "id": "9aa76acb",
   "metadata": {},
   "outputs": [],
   "source": [
    "gossipcop_one_gram= one_gram(gossipcop)\n",
    "#save point 7, gossipcop one gram\n",
    "vec_tech_list.append('gossipcop_one_gram.npz')\n",
    "scipy.sparse.save_npz(os.path.join(train_dataset_adrs,'gossipcop_one_gram.npz'), gossipcop_one_gram)"
   ]
  },
  {
   "cell_type": "code",
   "execution_count": null,
   "id": "86b2f726",
   "metadata": {},
   "outputs": [],
   "source": []
  },
  {
   "cell_type": "code",
   "execution_count": 69,
   "id": "d351e5c2",
   "metadata": {},
   "outputs": [],
   "source": [
    "# bigram \n",
    "def bigram(data):\n",
    "    # Create a CountVectorizer object with unigrams\n",
    "    vectorizer = CountVectorizer(ngram_range=(2, 2))\n",
    "    # Fit and transform the \"news\" column\n",
    "    news_vectorized = vectorizer.fit_transform(data['news'])\n",
    "    # converting rest of features to sparse matrix to and concatenate with news columns which has been just vectorized\n",
    "    rest= csr_matrix(data.drop(['news', 'label'], axis= 1).values)\n",
    "    vectorized_data= hstack([news_vectorized,rest])\n",
    "    return vectorized_data"
   ]
  },
  {
   "cell_type": "code",
   "execution_count": 70,
   "id": "8eefda7a",
   "metadata": {},
   "outputs": [],
   "source": [
    "gossipcop_bigram= bigram(gossipcop)\n",
    "#save point 8, gossipcop bigram\n",
    "vec_tech_list.append('gossipcop_bigram.npz')\n",
    "scipy.sparse.save_npz(os.path.join(train_dataset_adrs,'gossipcop_bigram.npz'), gossipcop_bigram)"
   ]
  },
  {
   "cell_type": "code",
   "execution_count": null,
   "id": "be51a987",
   "metadata": {},
   "outputs": [],
   "source": []
  },
  {
   "cell_type": "code",
   "execution_count": 71,
   "id": "8a55c711",
   "metadata": {},
   "outputs": [],
   "source": [
    "# trigram \n",
    "def trigram(data):\n",
    "    # Create a CountVectorizer object with trigrams\n",
    "    vectorizer = CountVectorizer(max_features=10000, ngram_range=(3, 3))\n",
    "    # Fit and transform the \"news\" column\n",
    "    news_vectorized = vectorizer.fit_transform(data['news'])\n",
    "    # converting rest of features to sparse matrix to and concatenate with news columns which has been just vectorized\n",
    "    rest= csr_matrix(data.drop(['news', 'label'], axis= 1).values)\n",
    "    vectorized_data= hstack([news_vectorized,rest])\n",
    "    return vectorized_data"
   ]
  },
  {
   "cell_type": "code",
   "execution_count": 72,
   "id": "0ffd4f51",
   "metadata": {},
   "outputs": [],
   "source": [
    "gossipcop_trigram= trigram(gossipcop)\n",
    "#save point 9, gossipcop trigram\n",
    "vec_tech_list.append('gossipcop_trigram.npz')\n",
    "scipy.sparse.save_npz(os.path.join(train_dataset_adrs,'gossipcop_trigram.npz'), gossipcop_trigram)"
   ]
  },
  {
   "cell_type": "code",
   "execution_count": null,
   "id": "705d9520",
   "metadata": {},
   "outputs": [],
   "source": []
  },
  {
   "cell_type": "code",
   "execution_count": 73,
   "id": "88a84c8a",
   "metadata": {},
   "outputs": [],
   "source": [
    "# one to trigram \n",
    "def one_to_trigram(data):\n",
    "    # Create a CountVectorizer object with unigrams\n",
    "    vectorizer = CountVectorizer(ngram_range=(1, 3))\n",
    "    # Fit and transform the \"news\" column\n",
    "    news_vectorized = vectorizer.fit_transform(data['news'])\n",
    "    # converting rest of features to sparse matrix to and concatenate with news columns which has been just vectorized\n",
    "    rest= csr_matrix(data.drop(['news', 'label'], axis= 1).values)\n",
    "    vectorized_data= hstack([news_vectorized,rest])\n",
    "    return vectorized_data"
   ]
  },
  {
   "cell_type": "code",
   "execution_count": 74,
   "id": "f62b3e95",
   "metadata": {},
   "outputs": [],
   "source": [
    "gossipcop_one_to_trigram= one_to_trigram(gossipcop)\n",
    "#save point 10, gossipcop one to trigram\n",
    "vec_tech_list.append('gossipcop_one_to_trigram.npz')\n",
    "scipy.sparse.save_npz(os.path.join(train_dataset_adrs,'gossipcop_one_to_trigram.npz'), gossipcop_one_to_trigram)"
   ]
  },
  {
   "cell_type": "code",
   "execution_count": 75,
   "id": "a16f40f3",
   "metadata": {},
   "outputs": [],
   "source": [
    "# TFIDF \n",
    "def TFIDF(data):\n",
    "    # Create a TfidfVectorizer object with unigrams and bigrams\n",
    "    vectorizer = TfidfVectorizer( ngram_range=(1, 2))\n",
    "    # Fit and transform the \"news\" column\n",
    "    news_vectorized = vectorizer.fit_transform(data['news'])\n",
    "    # converting rest of features to sparse matrix to and concatenate with news columns which has been just vectorized\n",
    "    rest= csr_matrix(data.drop(['news', 'label'], axis= 1).values)\n",
    "    vectorized_data= hstack([news_vectorized,rest])\n",
    "    return vectorized_data"
   ]
  },
  {
   "cell_type": "code",
   "execution_count": 76,
   "id": "baa38ed9",
   "metadata": {},
   "outputs": [],
   "source": [
    "gossipcop_TFIDF= TFIDF(gossipcop)\n",
    "#save point 11, gossipcop TF\n",
    "vec_tech_list.append('gossipcop_TFIDF.npz')\n",
    "scipy.sparse.save_npz(os.path.join(train_dataset_adrs,'gossipcop_TFIDF.npz'), gossipcop_TFIDF)"
   ]
  },
  {
   "cell_type": "code",
   "execution_count": 77,
   "id": "a3040e6b",
   "metadata": {},
   "outputs": [],
   "source": [
    "# Word to Vector\n",
    "def W2V(data):\n",
    "    # Tokenize the text data\n",
    "    tokenized_news = [word_tokenize(news) for news in data['news']]\n",
    "    # Train Word2Vec model\n",
    "    model = Word2Vec(sentences=tokenized_news, vector_size=100, window=5, min_count=1, sg=0)\n",
    "    news_vectors = [model.wv[words] for words in tokenized_news]\n",
    "    #converting vectorized list to np.array\n",
    "#     news_vectors_array = np.array(news_vectors)\n",
    "    news_vectors_mean = np.array([np.mean(vector_list, axis=0) for vector_list in news_vectors])\n",
    "    rest= data.drop(['news','label'], axis= 1).values\n",
    "    combined_features = np.hstack((news_vectors_mean, rest))\n",
    "    return csr_matrix(combined_features)"
   ]
  },
  {
   "cell_type": "code",
   "execution_count": 78,
   "id": "0c709f7c",
   "metadata": {},
   "outputs": [],
   "source": [
    "gossipcop_W2V= W2V(gossipcop)\n",
    "#save point 12, gossipcop Word to vector\n",
    "vec_tech_list.append('gossipcop_W2V.npz')\n",
    "scipy.sparse.save_npz(os.path.join(train_dataset_adrs,'gossipcop_W2V.npz'), gossipcop_W2V)"
   ]
  },
  {
   "cell_type": "markdown",
   "id": "1bdd889f",
   "metadata": {},
   "source": [
    "### combined vectorization techniques "
   ]
  },
  {
   "cell_type": "code",
   "execution_count": 79,
   "id": "872945cb",
   "metadata": {},
   "outputs": [],
   "source": [
    "# Combine Bag-of-Words and Word2Vec vectorization methods\n",
    "def bow_w2v(data):\n",
    "    # Bag-of-Words (BoW) vectorization\n",
    "    bow_vectorizer = CountVectorizer()\n",
    "    bow_matrix = bow_vectorizer.fit_transform(data['news'])\n",
    "    \n",
    "    # Tokenize the text data for Word2Vec\n",
    "    tokenized_news = [word_tokenize(news) for news in data['news']]\n",
    "    \n",
    "    # Train Word2Vec model\n",
    "    w2v_model = Word2Vec(sentences=tokenized_news, vector_size=100, window=5, min_count=1, sg=0)\n",
    "    \n",
    "    # Compute the mean of word vectors for each news article\n",
    "    w2v_vectors = [np.mean(w2v_model.wv[words], axis=0) for words in tokenized_news]\n",
    "    \n",
    "    # Convert the list of mean vectors to a 2D array\n",
    "    w2v_vectors_array = csr_matrix(w2v_vectors)\n",
    "    # taking rest of selected features\n",
    "    rest= csr_matrix(data.drop(['news', 'label'], axis= 1).values)\n",
    "    # Combine BoW and Word2Vec vectors\n",
    "    combined_vectors = hstack((bow_matrix, w2v_vectors_array, rest))\n",
    "    \n",
    "    return combined_vectors"
   ]
  },
  {
   "cell_type": "code",
   "execution_count": 80,
   "id": "38a0c4e9",
   "metadata": {},
   "outputs": [],
   "source": [
    "# Call the vectorization function\n",
    "gossipcop_bow_w2v = bow_w2v(gossipcop)\n",
    "#save point 13, gossipcop bag of word and  Word to vector combined dataset\n",
    "vec_tech_list.append('gossipcop_bow_w2v.npz')\n",
    "scipy.sparse.save_npz(os.path.join(train_dataset_adrs,'gossipcop_bow_w2v.npz'), gossipcop_bow_w2v)\n"
   ]
  },
  {
   "cell_type": "code",
   "execution_count": null,
   "id": "3b8f9ee7",
   "metadata": {},
   "outputs": [],
   "source": []
  },
  {
   "cell_type": "code",
   "execution_count": 81,
   "id": "e443774a",
   "metadata": {},
   "outputs": [],
   "source": [
    "'''\n",
    "Enhancing the result of Bag-of-Words (BoW) using Word2Vec can be done through\n",
    "a technique known as \"word embedding augmentation.\" The idea is to use the \n",
    "word vectors from Word2Vec to enhance the BoW representation of text. \n",
    "This can capture more semantic information and context compared to traditional BoW.\n",
    "'''\n",
    "def enhanc_bow_w2v(data):\n",
    "    # Create BoW vectors using CountVectorizer\n",
    "    bow_vectorizer = CountVectorizer()\n",
    "    bow_matrix = bow_vectorizer.fit_transform(data['news']).toarray()\n",
    "\n",
    "    # Tokenize the text data for Word2Vec\n",
    "    tokenized_news = [word_tokenize(news) for news in data['news']]\n",
    "\n",
    "    # Load a pre-trained Word2Vec model\n",
    "    tokenized_news = [word_tokenize(news) for news in data['news']]\n",
    "    # Train Word2Vec model\n",
    "    w2v_model = Word2Vec(sentences=tokenized_news, vector_size=100, window=5, min_count=1, sg=0)\n",
    "\n",
    "    # Enhance BoW using Word2Vec\n",
    "    enhanced_bow_matrix = []\n",
    "    for doc_tokens in tokenized_news:\n",
    "        enhanced_bow_vector = np.zeros(len(bow_vectorizer.get_feature_names_out()))\n",
    "        for token in doc_tokens:\n",
    "            if token in w2v_model.wv:\n",
    "                w2v_vector = w2v_model.wv[token]\n",
    "                bow_index = bow_vectorizer.vocabulary_.get(token)\n",
    "                enhanced_bow_vector[bow_index] = np.mean(w2v_vector)\n",
    "        enhanced_bow_matrix.append(enhanced_bow_vector)\n",
    "\n",
    "    enhanced_bow_matrix = csr_matrix(enhanced_bow_matrix)\n",
    "    rest= csr_matrix(data.drop(['news', 'label'], axis= 1).values)\n",
    "    # Combine BoW and Word2Vec vectors\n",
    "    combined_vectors = hstack((enhanced_bow_matrix, rest))\n",
    "    # Convert the list of enhanced BoW vectors to a NumPy array\n",
    "    return combined_vectors\n",
    "\n"
   ]
  },
  {
   "cell_type": "code",
   "execution_count": 82,
   "id": "724671a4",
   "metadata": {},
   "outputs": [],
   "source": [
    "gossipcop_enhanc_bow_w2v= enhanc_bow_w2v(gossipcop)\n",
    "#save point 14, gossipcop bag of word and Word to vector enhanced combined dataset\n",
    "vec_tech_list.append('gossipcop_enhanc_bow_w2v.npz')\n",
    "scipy.sparse.save_npz(os.path.join(train_dataset_adrs,'gossipcop_enhanc_bow_w2v.npz'), gossipcop_enhanc_bow_w2v)"
   ]
  },
  {
   "cell_type": "code",
   "execution_count": null,
   "id": "fb29025a",
   "metadata": {},
   "outputs": [],
   "source": []
  },
  {
   "cell_type": "code",
   "execution_count": 83,
   "id": "cc03804c",
   "metadata": {},
   "outputs": [],
   "source": [
    "# Combine TFIDF and Word2Vec vectorization methods\n",
    "def TFIDF_w2v(data):\n",
    "    # Create a TfidfVectorizer object with unigrams and bigrams\n",
    "    vectorizer = TfidfVectorizer( ngram_range=(1, 2))\n",
    "    # Fit and transform the \"news\" column\n",
    "    TFIDF_vectorized = vectorizer.fit_transform(data['news'])\n",
    "    # Tokenize the text data for Word2Vec\n",
    "    tokenized_news = [word_tokenize(news) for news in data['news']]\n",
    "    # Train Word2Vec model\n",
    "    w2v_model = Word2Vec(sentences=tokenized_news, vector_size=100, window=5, min_count=1, sg=0)  \n",
    "    # Compute the mean of word vectors for each news article\n",
    "    w2v_vectors = [np.mean(w2v_model.wv[words], axis=0) for words in tokenized_news] \n",
    "    # Convert the list of mean vectors to a 2D array\n",
    "    w2v_vectors_array = csr_matrix(w2v_vectors)\n",
    "    # taking rest of selected features\n",
    "    rest= csr_matrix(data.drop(['news', 'label'], axis= 1).values)\n",
    "    # Combine BoW and Word2Vec vectors\n",
    "    combined_vectors = hstack((TFIDF_vectorized, w2v_vectors_array, rest))\n",
    "    \n",
    "    return combined_vectors"
   ]
  },
  {
   "cell_type": "code",
   "execution_count": 84,
   "id": "c2de5947",
   "metadata": {},
   "outputs": [],
   "source": [
    "# Call the vectorization function\n",
    "gossipcop_TFIDF_w2v = TFIDF_w2v(gossipcop)\n",
    "#save point 15, gossipcop TFIDF and  Word to vector combined dataset\n",
    "vec_tech_list.append('gossipcop_TFIDF_w2v.npz')\n",
    "scipy.sparse.save_npz(os.path.join(train_dataset_adrs,'gossipcop_TFIDF_w2v.npz'), gossipcop_TFIDF_w2v)"
   ]
  },
  {
   "cell_type": "code",
   "execution_count": 85,
   "id": "622f3be2",
   "metadata": {},
   "outputs": [
    {
     "data": {
      "text/plain": [
       "<19997x108831 sparse matrix of type '<class 'numpy.float64'>'\n",
       "\twith 2328415 stored elements in Compressed Sparse Row format>"
      ]
     },
     "execution_count": 85,
     "metadata": {},
     "output_type": "execute_result"
    }
   ],
   "source": [
    "gossipcop_TFIDF_w2v"
   ]
  },
  {
   "cell_type": "code",
   "execution_count": 86,
   "id": "ffdee522",
   "metadata": {},
   "outputs": [],
   "source": [
    "'''\n",
    "Enhancing the result of TFIDF using Word2Vec can be done through\n",
    "a technique known as \"word embedding augmentation.\" The idea is to use the \n",
    "word vectors from Word2Vec to enhance the BoW representation of text. \n",
    "This can capture more semantic information and context compared to traditional BoW.\n",
    "'''\n",
    "def enhance_TFIDF_w2v(data):\n",
    "    # Create TF-IDF vectors using TfidfVectorizer\n",
    "    tfidf_vectorizer = TfidfVectorizer()\n",
    "    tfidf_matrix = tfidf_vectorizer.fit_transform(data['news'])\n",
    "\n",
    "    # Tokenize the text data for Word2Vec\n",
    "    tokenized_news = [word_tokenize(news) for news in data['news']]\n",
    "\n",
    "    # Load a pre-trained Word2Vec model\n",
    "    tokenized_news = [word_tokenize(news) for news in data['news']]\n",
    "    # Train Word2Vec model\n",
    "    w2v_model = Word2Vec(sentences=tokenized_news, vector_size=100, window=5, min_count=1, sg=0)\n",
    "\n",
    "    # Enhance BoW using Word2Vec\n",
    "    enhanced_bow_matrix = []\n",
    "    for doc_tokens in tokenized_news:\n",
    "        enhanced_bow_vector = np.zeros(len(tfidf_vectorizer.get_feature_names_out()))\n",
    "        for token in doc_tokens:\n",
    "            if token in w2v_model.wv:\n",
    "                w2v_vector = w2v_model.wv[token]\n",
    "                bow_index = tfidf_vectorizer.vocabulary_.get(token)\n",
    "                enhanced_bow_vector[bow_index] = np.mean(w2v_vector)\n",
    "        enhanced_bow_matrix.append(enhanced_bow_vector)\n",
    "\n",
    "    enhanced_bow_matrix = csr_matrix(enhanced_bow_matrix)\n",
    "    rest= csr_matrix(data.drop(['news', 'label'], axis= 1).values)\n",
    "    # Combine BoW and Word2Vec vectors\n",
    "    combined_vectors = hstack((enhanced_bow_matrix, rest))\n",
    "    # Convert the list of enhanced BoW vectors to a NumPy array\n",
    "    return combined_vectors"
   ]
  },
  {
   "cell_type": "code",
   "execution_count": 87,
   "id": "c1f296e9",
   "metadata": {},
   "outputs": [],
   "source": [
    "gossipcop_enhance_TFIDF_w2v= enhance_TFIDF_w2v(gossipcop)\n",
    "# save point 16, gossipcop bag of word and  Word to vector enhanced combined dataset\n",
    "vec_tech_list.append('gossipcop_enhance_TFIDF_w2v.npz')\n",
    "scipy.sparse.save_npz(os.path.join(train_dataset_adrs,'gossipcop_enhance_TFIDF_w2v.npz'), gossipcop_enhance_TFIDF_w2v)"
   ]
  },
  {
   "cell_type": "code",
   "execution_count": 88,
   "id": "908df72b",
   "metadata": {},
   "outputs": [
    {
     "data": {
      "text/plain": [
       "(19997, 17044)"
      ]
     },
     "execution_count": 88,
     "metadata": {},
     "output_type": "execute_result"
    }
   ],
   "source": [
    "gossipcop_enhance_TFIDF_w2v.shape"
   ]
  },
  {
   "cell_type": "code",
   "execution_count": 89,
   "id": "1bff6e9a",
   "metadata": {},
   "outputs": [
    {
     "data": {
      "text/plain": [
       "(19997,)"
      ]
     },
     "execution_count": 89,
     "metadata": {},
     "output_type": "execute_result"
    }
   ],
   "source": [
    "label= gossipcop['label']\n",
    "label.shape"
   ]
  },
  {
   "cell_type": "code",
   "execution_count": 90,
   "id": "f4cff83f",
   "metadata": {},
   "outputs": [],
   "source": [
    "# saving label column in a sperate sparce matrix file\n",
    "label.to_csv(os.path.join(train_dataset_adrs, 'gossipcop_label.csv'), index= False)"
   ]
  },
  {
   "cell_type": "code",
   "execution_count": 91,
   "id": "41b32b7e",
   "metadata": {},
   "outputs": [
    {
     "data": {
      "text/plain": [
       "['gossipcop_bow.npz',\n",
       " 'gossipcop_one_gram.npz',\n",
       " 'gossipcop_bigram.npz',\n",
       " 'gossipcop_trigram.npz',\n",
       " 'gossipcop_one_to_trigram.npz',\n",
       " 'gossipcop_TFIDF.npz',\n",
       " 'gossipcop_W2V.npz',\n",
       " 'gossipcop_bow_w2v.npz',\n",
       " 'gossipcop_enhanc_bow_w2v.npz',\n",
       " 'gossipcop_TFIDF_w2v.npz',\n",
       " 'gossipcop_enhance_TFIDF_w2v.npz']"
      ]
     },
     "execution_count": 91,
     "metadata": {},
     "output_type": "execute_result"
    }
   ],
   "source": [
    "vec_tech_list"
   ]
  },
  {
   "cell_type": "code",
   "execution_count": null,
   "id": "16e42d7c",
   "metadata": {},
   "outputs": [],
   "source": [
    "\n"
   ]
  }
 ],
 "metadata": {
  "kernelspec": {
   "display_name": "Python 3 (ipykernel)",
   "language": "python",
   "name": "python3"
  },
  "language_info": {
   "codemirror_mode": {
    "name": "ipython",
    "version": 3
   },
   "file_extension": ".py",
   "mimetype": "text/x-python",
   "name": "python",
   "nbconvert_exporter": "python",
   "pygments_lexer": "ipython3",
   "version": "3.9.13"
  }
 },
 "nbformat": 4,
 "nbformat_minor": 5
}
