{
 "cells": [
  {
   "cell_type": "markdown",
   "id": "e6afe97b",
   "metadata": {},
   "source": [
    "## PoliticFact"
   ]
  },
  {
   "cell_type": "code",
   "execution_count": 1,
   "id": "4dddf44b",
   "metadata": {},
   "outputs": [],
   "source": [
    "import numpy as np\n",
    "import pandas as pd\n",
    "import os\n",
    "import nltk\n",
    "import re\n",
    "import string\n",
    "from nltk.corpus import stopwords\n",
    "from nltk import  pos_tag\n",
    "from nltk.stem.porter import PorterStemmer\n",
    "from nltk.tokenize import word_tokenize\n",
    "from gensim.models import Word2Vec\n",
    "\n",
    "\n",
    "from textblob import TextBlob\n",
    "\n",
    "import matplotlib.pyplot as plt \n",
    "from matplotlib import rcParams\n",
    "\n",
    "import seaborn as sns\n",
    "\n",
    "from sklearn.feature_selection import SelectKBest, chi2, mutual_info_classif, f_classif\n",
    "from sklearn.preprocessing import StandardScaler\n",
    "\n",
    "\n",
    "from sklearn.linear_model import LogisticRegression\n",
    "\n",
    "from collections import Counter\n",
    "\n",
    "import scipy.sparse  \n",
    "from scipy.sparse import hstack, csr_matrix\n",
    "\n",
    "\n",
    "from sklearn.feature_extraction.text import CountVectorizer\n",
    "from sklearn.feature_extraction.text import TfidfVectorizer\n",
    "\n",
    "\n",
    "from sklearn.model_selection import train_test_split\n",
    "from sklearn.linear_model import Lasso\n",
    "from sklearn.metrics import mean_squared_error\n"
   ]
  },
  {
   "cell_type": "code",
   "execution_count": 2,
   "id": "737027ec",
   "metadata": {},
   "outputs": [],
   "source": [
    "base_dir= 'O:\\Second Semister\\dissertation\\dis-dataset' \n",
    "dataset= 'Politicfact'\n",
    "data_dir= os.path.join(base_dir, dataset)"
   ]
  },
  {
   "cell_type": "code",
   "execution_count": 3,
   "id": "c155b8eb",
   "metadata": {},
   "outputs": [],
   "source": [
    "file= 'politifact_factcheck_data.json'\n",
    "adrs= os.path.join(data_dir, file)"
   ]
  },
  {
   "cell_type": "code",
   "execution_count": 4,
   "id": "74e6ab14",
   "metadata": {},
   "outputs": [
    {
     "data": {
      "text/html": [
       "<div>\n",
       "<style scoped>\n",
       "    .dataframe tbody tr th:only-of-type {\n",
       "        vertical-align: middle;\n",
       "    }\n",
       "\n",
       "    .dataframe tbody tr th {\n",
       "        vertical-align: top;\n",
       "    }\n",
       "\n",
       "    .dataframe thead th {\n",
       "        text-align: right;\n",
       "    }\n",
       "</style>\n",
       "<table border=\"1\" class=\"dataframe\">\n",
       "  <thead>\n",
       "    <tr style=\"text-align: right;\">\n",
       "      <th></th>\n",
       "      <th>verdict</th>\n",
       "      <th>statement_originator</th>\n",
       "      <th>statement</th>\n",
       "      <th>statement_date</th>\n",
       "      <th>statement_source</th>\n",
       "      <th>factchecker</th>\n",
       "      <th>factcheck_date</th>\n",
       "      <th>factcheck_analysis_link</th>\n",
       "    </tr>\n",
       "  </thead>\n",
       "  <tbody>\n",
       "    <tr>\n",
       "      <th>0</th>\n",
       "      <td>true</td>\n",
       "      <td>Barack Obama</td>\n",
       "      <td>John McCain opposed bankruptcy protections for...</td>\n",
       "      <td>6/11/2008</td>\n",
       "      <td>speech</td>\n",
       "      <td>Adriel Bettelheim</td>\n",
       "      <td>6/16/2008</td>\n",
       "      <td>https://www.politifact.com/factchecks/2008/jun...</td>\n",
       "    </tr>\n",
       "    <tr>\n",
       "      <th>1</th>\n",
       "      <td>false</td>\n",
       "      <td>Matt Gaetz</td>\n",
       "      <td>\"Bennie Thompson actively cheer-led riots in t...</td>\n",
       "      <td>6/7/2022</td>\n",
       "      <td>television</td>\n",
       "      <td>Yacob Reyes</td>\n",
       "      <td>6/13/2022</td>\n",
       "      <td>https://www.politifact.com/factchecks/2022/jun...</td>\n",
       "    </tr>\n",
       "    <tr>\n",
       "      <th>2</th>\n",
       "      <td>mostly-true</td>\n",
       "      <td>Kelly Ayotte</td>\n",
       "      <td>Says Maggie Hassan was \"out of state on 30 day...</td>\n",
       "      <td>5/18/2016</td>\n",
       "      <td>news</td>\n",
       "      <td>Clay Wirestone</td>\n",
       "      <td>5/27/2016</td>\n",
       "      <td>https://www.politifact.com/factchecks/2016/may...</td>\n",
       "    </tr>\n",
       "    <tr>\n",
       "      <th>3</th>\n",
       "      <td>false</td>\n",
       "      <td>Bloggers</td>\n",
       "      <td>\"BUSTED: CDC Inflated COVID Numbers, Accused o...</td>\n",
       "      <td>2/1/2021</td>\n",
       "      <td>blog</td>\n",
       "      <td>Madison Czopek</td>\n",
       "      <td>2/5/2021</td>\n",
       "      <td>https://www.politifact.com/factchecks/2021/feb...</td>\n",
       "    </tr>\n",
       "    <tr>\n",
       "      <th>4</th>\n",
       "      <td>half-true</td>\n",
       "      <td>Bobby Jindal</td>\n",
       "      <td>\"I'm the only (Republican) candidate that has ...</td>\n",
       "      <td>8/30/2015</td>\n",
       "      <td>television</td>\n",
       "      <td>Linda Qiu</td>\n",
       "      <td>8/30/2015</td>\n",
       "      <td>https://www.politifact.com/factchecks/2015/aug...</td>\n",
       "    </tr>\n",
       "    <tr>\n",
       "      <th>...</th>\n",
       "      <td>...</td>\n",
       "      <td>...</td>\n",
       "      <td>...</td>\n",
       "      <td>...</td>\n",
       "      <td>...</td>\n",
       "      <td>...</td>\n",
       "      <td>...</td>\n",
       "      <td>...</td>\n",
       "    </tr>\n",
       "    <tr>\n",
       "      <th>21147</th>\n",
       "      <td>mostly-false</td>\n",
       "      <td>Donald Trump</td>\n",
       "      <td>Says the large trade deficit with Japan stems ...</td>\n",
       "      <td>8/13/2019</td>\n",
       "      <td>speech</td>\n",
       "      <td>Jon Greenberg</td>\n",
       "      <td>8/15/2019</td>\n",
       "      <td>https://www.politifact.com/factchecks/2019/aug...</td>\n",
       "    </tr>\n",
       "    <tr>\n",
       "      <th>21148</th>\n",
       "      <td>false</td>\n",
       "      <td>Donald Trump Jr.</td>\n",
       "      <td>\"Tens of thousands\" of people leave New York e...</td>\n",
       "      <td>11/1/2019</td>\n",
       "      <td>social_media</td>\n",
       "      <td>Jill Terreri Ramos</td>\n",
       "      <td>11/8/2019</td>\n",
       "      <td>https://www.politifact.com/factchecks/2019/nov...</td>\n",
       "    </tr>\n",
       "    <tr>\n",
       "      <th>21149</th>\n",
       "      <td>mostly-false</td>\n",
       "      <td>Chris Abele</td>\n",
       "      <td>\"I have fought for our shared values without b...</td>\n",
       "      <td>1/4/2011</td>\n",
       "      <td>news</td>\n",
       "      <td>Dave Umhoefer</td>\n",
       "      <td>1/13/2011</td>\n",
       "      <td>https://www.politifact.com/factchecks/2011/jan...</td>\n",
       "    </tr>\n",
       "    <tr>\n",
       "      <th>21150</th>\n",
       "      <td>false</td>\n",
       "      <td>Bloggers</td>\n",
       "      <td>\"Germany halts all Covid-19 vaccines, says the...</td>\n",
       "      <td>8/27/2021</td>\n",
       "      <td>blog</td>\n",
       "      <td>Ciara O'Rourke</td>\n",
       "      <td>9/9/2021</td>\n",
       "      <td>https://www.politifact.com/factchecks/2021/sep...</td>\n",
       "    </tr>\n",
       "    <tr>\n",
       "      <th>21151</th>\n",
       "      <td>mostly-false</td>\n",
       "      <td>Facebook posts</td>\n",
       "      <td>Says for otherwise healthy people \"experiencin...</td>\n",
       "      <td>3/28/2020</td>\n",
       "      <td>social_media</td>\n",
       "      <td>Tom Kertscher</td>\n",
       "      <td>4/3/2020</td>\n",
       "      <td>https://www.politifact.com/factchecks/2020/apr...</td>\n",
       "    </tr>\n",
       "  </tbody>\n",
       "</table>\n",
       "<p>21152 rows × 8 columns</p>\n",
       "</div>"
      ],
      "text/plain": [
       "            verdict statement_originator  \\\n",
       "0              true         Barack Obama   \n",
       "1             false           Matt Gaetz   \n",
       "2       mostly-true         Kelly Ayotte   \n",
       "3             false             Bloggers   \n",
       "4         half-true         Bobby Jindal   \n",
       "...             ...                  ...   \n",
       "21147  mostly-false         Donald Trump   \n",
       "21148         false     Donald Trump Jr.   \n",
       "21149  mostly-false          Chris Abele   \n",
       "21150         false             Bloggers   \n",
       "21151  mostly-false       Facebook posts   \n",
       "\n",
       "                                               statement statement_date  \\\n",
       "0      John McCain opposed bankruptcy protections for...      6/11/2008   \n",
       "1      \"Bennie Thompson actively cheer-led riots in t...       6/7/2022   \n",
       "2      Says Maggie Hassan was \"out of state on 30 day...      5/18/2016   \n",
       "3      \"BUSTED: CDC Inflated COVID Numbers, Accused o...       2/1/2021   \n",
       "4      \"I'm the only (Republican) candidate that has ...      8/30/2015   \n",
       "...                                                  ...            ...   \n",
       "21147  Says the large trade deficit with Japan stems ...      8/13/2019   \n",
       "21148  \"Tens of thousands\" of people leave New York e...      11/1/2019   \n",
       "21149  \"I have fought for our shared values without b...       1/4/2011   \n",
       "21150  \"Germany halts all Covid-19 vaccines, says the...      8/27/2021   \n",
       "21151  Says for otherwise healthy people \"experiencin...      3/28/2020   \n",
       "\n",
       "      statement_source         factchecker factcheck_date  \\\n",
       "0               speech   Adriel Bettelheim      6/16/2008   \n",
       "1           television         Yacob Reyes      6/13/2022   \n",
       "2                 news      Clay Wirestone      5/27/2016   \n",
       "3                 blog      Madison Czopek       2/5/2021   \n",
       "4           television           Linda Qiu      8/30/2015   \n",
       "...                ...                 ...            ...   \n",
       "21147           speech       Jon Greenberg      8/15/2019   \n",
       "21148     social_media  Jill Terreri Ramos      11/8/2019   \n",
       "21149             news       Dave Umhoefer      1/13/2011   \n",
       "21150             blog      Ciara O'Rourke       9/9/2021   \n",
       "21151     social_media       Tom Kertscher       4/3/2020   \n",
       "\n",
       "                                 factcheck_analysis_link  \n",
       "0      https://www.politifact.com/factchecks/2008/jun...  \n",
       "1      https://www.politifact.com/factchecks/2022/jun...  \n",
       "2      https://www.politifact.com/factchecks/2016/may...  \n",
       "3      https://www.politifact.com/factchecks/2021/feb...  \n",
       "4      https://www.politifact.com/factchecks/2015/aug...  \n",
       "...                                                  ...  \n",
       "21147  https://www.politifact.com/factchecks/2019/aug...  \n",
       "21148  https://www.politifact.com/factchecks/2019/nov...  \n",
       "21149  https://www.politifact.com/factchecks/2011/jan...  \n",
       "21150  https://www.politifact.com/factchecks/2021/sep...  \n",
       "21151  https://www.politifact.com/factchecks/2020/apr...  \n",
       "\n",
       "[21152 rows x 8 columns]"
      ]
     },
     "execution_count": 4,
     "metadata": {},
     "output_type": "execute_result"
    }
   ],
   "source": [
    "pf=  pd.read_json(adrs, lines=True)\n",
    "pf"
   ]
  },
  {
   "cell_type": "code",
   "execution_count": 5,
   "id": "b52be9d7",
   "metadata": {},
   "outputs": [
    {
     "data": {
      "text/html": [
       "<div>\n",
       "<style scoped>\n",
       "    .dataframe tbody tr th:only-of-type {\n",
       "        vertical-align: middle;\n",
       "    }\n",
       "\n",
       "    .dataframe tbody tr th {\n",
       "        vertical-align: top;\n",
       "    }\n",
       "\n",
       "    .dataframe thead th {\n",
       "        text-align: right;\n",
       "    }\n",
       "</style>\n",
       "<table border=\"1\" class=\"dataframe\">\n",
       "  <thead>\n",
       "    <tr style=\"text-align: right;\">\n",
       "      <th></th>\n",
       "      <th>verdict</th>\n",
       "      <th>statement_originator</th>\n",
       "      <th>statement</th>\n",
       "      <th>statement_date</th>\n",
       "      <th>statement_source</th>\n",
       "      <th>factchecker</th>\n",
       "      <th>factcheck_date</th>\n",
       "      <th>factcheck_analysis_link</th>\n",
       "    </tr>\n",
       "  </thead>\n",
       "  <tbody>\n",
       "    <tr>\n",
       "      <th>14161</th>\n",
       "      <td>mostly-true</td>\n",
       "      <td>Bloggers</td>\n",
       "      <td>\"U.S. Embassy Celebrates America’s Independenc...</td>\n",
       "      <td>6/6/2015</td>\n",
       "      <td>social_media</td>\n",
       "      <td>Louis Jacobson</td>\n",
       "      <td>6/10/2015</td>\n",
       "      <td>https://www.politifact.com/factchecks/2015/jun...</td>\n",
       "    </tr>\n",
       "    <tr>\n",
       "      <th>12307</th>\n",
       "      <td>mostly-true</td>\n",
       "      <td>Jim Whelan</td>\n",
       "      <td>\"United States of America is twenty-sixth in s...</td>\n",
       "      <td>1/9/2012</td>\n",
       "      <td>speech</td>\n",
       "      <td>Bill Wichert</td>\n",
       "      <td>2/3/2012</td>\n",
       "      <td>https://www.politifact.com/factchecks/2012/feb...</td>\n",
       "    </tr>\n",
       "    <tr>\n",
       "      <th>5736</th>\n",
       "      <td>pants-fire</td>\n",
       "      <td>Chain email</td>\n",
       "      <td>Says the Obama administration plans to ban all...</td>\n",
       "      <td>11/27/2012</td>\n",
       "      <td>email</td>\n",
       "      <td>W. Gardner Selby</td>\n",
       "      <td>12/11/2012</td>\n",
       "      <td>https://www.politifact.com/factchecks/2012/dec...</td>\n",
       "    </tr>\n",
       "    <tr>\n",
       "      <th>6523</th>\n",
       "      <td>half-true</td>\n",
       "      <td>Rick Perry</td>\n",
       "      <td>Since 2000, \"the Texas clean air program achie...</td>\n",
       "      <td>6/15/2010</td>\n",
       "      <td>news</td>\n",
       "      <td>Meghan Ashford-Grooms</td>\n",
       "      <td>6/16/2010</td>\n",
       "      <td>https://www.politifact.com/factchecks/2010/jun...</td>\n",
       "    </tr>\n",
       "    <tr>\n",
       "      <th>100</th>\n",
       "      <td>mostly-false</td>\n",
       "      <td>Tammy Baldwin</td>\n",
       "      <td>\"I led the fight to require the Coast Guard to...</td>\n",
       "      <td>7/30/2012</td>\n",
       "      <td>advertisement</td>\n",
       "      <td>Tom Kertscher</td>\n",
       "      <td>8/22/2012</td>\n",
       "      <td>https://www.politifact.com/factchecks/2012/aug...</td>\n",
       "    </tr>\n",
       "    <tr>\n",
       "      <th>...</th>\n",
       "      <td>...</td>\n",
       "      <td>...</td>\n",
       "      <td>...</td>\n",
       "      <td>...</td>\n",
       "      <td>...</td>\n",
       "      <td>...</td>\n",
       "      <td>...</td>\n",
       "      <td>...</td>\n",
       "    </tr>\n",
       "    <tr>\n",
       "      <th>17524</th>\n",
       "      <td>mostly-false</td>\n",
       "      <td>Facebook posts</td>\n",
       "      <td>\"FDA approval means nothing when you realize t...</td>\n",
       "      <td>8/23/2021</td>\n",
       "      <td>social_media</td>\n",
       "      <td>Jason Asenso</td>\n",
       "      <td>8/27/2021</td>\n",
       "      <td>https://www.politifact.com/factchecks/2021/aug...</td>\n",
       "    </tr>\n",
       "    <tr>\n",
       "      <th>13653</th>\n",
       "      <td>mostly-false</td>\n",
       "      <td>Charles Koch</td>\n",
       "      <td>\"EPA officials have commended (Koch Industries...</td>\n",
       "      <td>4/2/2014</td>\n",
       "      <td>news</td>\n",
       "      <td>Steve Contorno</td>\n",
       "      <td>4/4/2014</td>\n",
       "      <td>https://www.politifact.com/factchecks/2014/apr...</td>\n",
       "    </tr>\n",
       "    <tr>\n",
       "      <th>20527</th>\n",
       "      <td>half-true</td>\n",
       "      <td>Dave Aronberg</td>\n",
       "      <td>Dave Aronberg \"was the first to demand that BP...</td>\n",
       "      <td>7/26/2010</td>\n",
       "      <td>other</td>\n",
       "      <td>Amy Sherman</td>\n",
       "      <td>7/29/2010</td>\n",
       "      <td>https://www.politifact.com/factchecks/2010/jul...</td>\n",
       "    </tr>\n",
       "    <tr>\n",
       "      <th>84</th>\n",
       "      <td>mostly-false</td>\n",
       "      <td>Facebook posts</td>\n",
       "      <td>\"Heidi Cruz, Ted’s wife, is managing director ...</td>\n",
       "      <td>2/21/2021</td>\n",
       "      <td>social_media</td>\n",
       "      <td>Ciara O'Rourke</td>\n",
       "      <td>2/23/2021</td>\n",
       "      <td>https://www.politifact.com/factchecks/2021/feb...</td>\n",
       "    </tr>\n",
       "    <tr>\n",
       "      <th>10501</th>\n",
       "      <td>pants-fire</td>\n",
       "      <td>Facebook posts</td>\n",
       "      <td>Says a photo of Pete Buttigieg in a military u...</td>\n",
       "      <td>2/25/2020</td>\n",
       "      <td>social_media</td>\n",
       "      <td>Daniel Funke</td>\n",
       "      <td>2/27/2020</td>\n",
       "      <td>https://www.politifact.com/factchecks/2020/feb...</td>\n",
       "    </tr>\n",
       "  </tbody>\n",
       "</table>\n",
       "<p>10000 rows × 8 columns</p>\n",
       "</div>"
      ],
      "text/plain": [
       "            verdict statement_originator  \\\n",
       "14161   mostly-true             Bloggers   \n",
       "12307   mostly-true           Jim Whelan   \n",
       "5736     pants-fire          Chain email   \n",
       "6523      half-true           Rick Perry   \n",
       "100    mostly-false        Tammy Baldwin   \n",
       "...             ...                  ...   \n",
       "17524  mostly-false       Facebook posts   \n",
       "13653  mostly-false         Charles Koch   \n",
       "20527     half-true        Dave Aronberg   \n",
       "84     mostly-false       Facebook posts   \n",
       "10501    pants-fire       Facebook posts   \n",
       "\n",
       "                                               statement statement_date  \\\n",
       "14161  \"U.S. Embassy Celebrates America’s Independenc...       6/6/2015   \n",
       "12307  \"United States of America is twenty-sixth in s...       1/9/2012   \n",
       "5736   Says the Obama administration plans to ban all...     11/27/2012   \n",
       "6523   Since 2000, \"the Texas clean air program achie...      6/15/2010   \n",
       "100    \"I led the fight to require the Coast Guard to...      7/30/2012   \n",
       "...                                                  ...            ...   \n",
       "17524  \"FDA approval means nothing when you realize t...      8/23/2021   \n",
       "13653  \"EPA officials have commended (Koch Industries...       4/2/2014   \n",
       "20527  Dave Aronberg \"was the first to demand that BP...      7/26/2010   \n",
       "84     \"Heidi Cruz, Ted’s wife, is managing director ...      2/21/2021   \n",
       "10501  Says a photo of Pete Buttigieg in a military u...      2/25/2020   \n",
       "\n",
       "      statement_source            factchecker factcheck_date  \\\n",
       "14161     social_media         Louis Jacobson      6/10/2015   \n",
       "12307           speech           Bill Wichert       2/3/2012   \n",
       "5736             email       W. Gardner Selby     12/11/2012   \n",
       "6523              news  Meghan Ashford-Grooms      6/16/2010   \n",
       "100      advertisement          Tom Kertscher      8/22/2012   \n",
       "...                ...                    ...            ...   \n",
       "17524     social_media           Jason Asenso      8/27/2021   \n",
       "13653             news         Steve Contorno       4/4/2014   \n",
       "20527            other            Amy Sherman      7/29/2010   \n",
       "84        social_media         Ciara O'Rourke      2/23/2021   \n",
       "10501     social_media           Daniel Funke      2/27/2020   \n",
       "\n",
       "                                 factcheck_analysis_link  \n",
       "14161  https://www.politifact.com/factchecks/2015/jun...  \n",
       "12307  https://www.politifact.com/factchecks/2012/feb...  \n",
       "5736   https://www.politifact.com/factchecks/2012/dec...  \n",
       "6523   https://www.politifact.com/factchecks/2010/jun...  \n",
       "100    https://www.politifact.com/factchecks/2012/aug...  \n",
       "...                                                  ...  \n",
       "17524  https://www.politifact.com/factchecks/2021/aug...  \n",
       "13653  https://www.politifact.com/factchecks/2014/apr...  \n",
       "20527  https://www.politifact.com/factchecks/2010/jul...  \n",
       "84     https://www.politifact.com/factchecks/2021/feb...  \n",
       "10501  https://www.politifact.com/factchecks/2020/feb...  \n",
       "\n",
       "[10000 rows x 8 columns]"
      ]
     },
     "execution_count": 5,
     "metadata": {},
     "output_type": "execute_result"
    }
   ],
   "source": [
    "# select 10000 rows randomly\n",
    "pf = pf.sample(n=10000, random_state=10)\n",
    "pf"
   ]
  },
  {
   "cell_type": "code",
   "execution_count": 6,
   "id": "b9050a93",
   "metadata": {},
   "outputs": [],
   "source": [
    "# save point 1, converting json to csv\n",
    "pf.to_csv(os.path.join(data_dir,'politifact_factcheck_data.csv'), index= False)\n"
   ]
  },
  {
   "cell_type": "code",
   "execution_count": 7,
   "id": "eb6d56de",
   "metadata": {},
   "outputs": [],
   "source": [
    "PolitiFact= pd.read_csv(os.path.join(data_dir,'politifact_factcheck_data.csv'))"
   ]
  },
  {
   "cell_type": "code",
   "execution_count": 8,
   "id": "255e3491",
   "metadata": {},
   "outputs": [
    {
     "data": {
      "text/html": [
       "<div>\n",
       "<style scoped>\n",
       "    .dataframe tbody tr th:only-of-type {\n",
       "        vertical-align: middle;\n",
       "    }\n",
       "\n",
       "    .dataframe tbody tr th {\n",
       "        vertical-align: top;\n",
       "    }\n",
       "\n",
       "    .dataframe thead th {\n",
       "        text-align: right;\n",
       "    }\n",
       "</style>\n",
       "<table border=\"1\" class=\"dataframe\">\n",
       "  <thead>\n",
       "    <tr style=\"text-align: right;\">\n",
       "      <th></th>\n",
       "      <th>verdict</th>\n",
       "      <th>statement_originator</th>\n",
       "      <th>statement</th>\n",
       "      <th>statement_date</th>\n",
       "      <th>statement_source</th>\n",
       "      <th>factchecker</th>\n",
       "      <th>factcheck_date</th>\n",
       "      <th>factcheck_analysis_link</th>\n",
       "    </tr>\n",
       "  </thead>\n",
       "  <tbody>\n",
       "    <tr>\n",
       "      <th>0</th>\n",
       "      <td>mostly-true</td>\n",
       "      <td>Bloggers</td>\n",
       "      <td>\"U.S. Embassy Celebrates America’s Independenc...</td>\n",
       "      <td>6/6/2015</td>\n",
       "      <td>social_media</td>\n",
       "      <td>Louis Jacobson</td>\n",
       "      <td>6/10/2015</td>\n",
       "      <td>https://www.politifact.com/factchecks/2015/jun...</td>\n",
       "    </tr>\n",
       "    <tr>\n",
       "      <th>1</th>\n",
       "      <td>mostly-true</td>\n",
       "      <td>Jim Whelan</td>\n",
       "      <td>\"United States of America is twenty-sixth in s...</td>\n",
       "      <td>1/9/2012</td>\n",
       "      <td>speech</td>\n",
       "      <td>Bill Wichert</td>\n",
       "      <td>2/3/2012</td>\n",
       "      <td>https://www.politifact.com/factchecks/2012/feb...</td>\n",
       "    </tr>\n",
       "  </tbody>\n",
       "</table>\n",
       "</div>"
      ],
      "text/plain": [
       "       verdict statement_originator  \\\n",
       "0  mostly-true             Bloggers   \n",
       "1  mostly-true           Jim Whelan   \n",
       "\n",
       "                                           statement statement_date  \\\n",
       "0  \"U.S. Embassy Celebrates America’s Independenc...       6/6/2015   \n",
       "1  \"United States of America is twenty-sixth in s...       1/9/2012   \n",
       "\n",
       "  statement_source     factchecker factcheck_date  \\\n",
       "0     social_media  Louis Jacobson      6/10/2015   \n",
       "1           speech    Bill Wichert       2/3/2012   \n",
       "\n",
       "                             factcheck_analysis_link  \n",
       "0  https://www.politifact.com/factchecks/2015/jun...  \n",
       "1  https://www.politifact.com/factchecks/2012/feb...  "
      ]
     },
     "execution_count": 8,
     "metadata": {},
     "output_type": "execute_result"
    }
   ],
   "source": [
    "PolitiFact.head(2)"
   ]
  },
  {
   "cell_type": "markdown",
   "id": "206478a8",
   "metadata": {},
   "source": [
    "###  visualization\n"
   ]
  },
  {
   "cell_type": "code",
   "execution_count": 9,
   "id": "e28af979",
   "metadata": {},
   "outputs": [],
   "source": [
    "def count_news_type(dataset, column):\n",
    "    #Plotting the frequency plot\n",
    "    ax = sns.countplot(y=column, data= dataset,\n",
    "                       facecolor=(0, 0, 0, 0),\n",
    "                       linewidth=1,\n",
    "                       edgecolor=sns.color_palette(\"dark\", 3))\n",
    "\n",
    "    #Setting labels and font size\n",
    "    ax.set(xlabel='Type of news', ylabel='Source of news',title='Count of news')\n",
    "    ax.xaxis.get_label().set_fontsize(15)\n",
    "    ax.yaxis.get_label().set_fontsize(15)"
   ]
  },
  {
   "cell_type": "code",
   "execution_count": 10,
   "id": "ce14933a",
   "metadata": {},
   "outputs": [
    {
     "data": {
      "image/png": "[encoded data removed]",
      "text/plain": [
       "<Figure size 640x480 with 1 Axes>"
      ]
     },
     "metadata": {},
     "output_type": "display_data"
    }
   ],
   "source": [
    "count_news_type(PolitiFact, 'statement_source')"
   ]
  },
  {
   "cell_type": "code",
   "execution_count": 11,
   "id": "4da521b2",
   "metadata": {},
   "outputs": [
    {
     "data": {
      "image/png": "[encoded data removed]",
      "text/plain": [
       "<Figure size 640x480 with 1 Axes>"
      ]
     },
     "metadata": {},
     "output_type": "display_data"
    }
   ],
   "source": [
    "## Count of fake news and true news\n",
    "ax=sns.countplot(x=\"verdict\", data=PolitiFact)\n",
    "#Setting labels and font size\n",
    "ax.set(xlabel='Output', ylabel='Count of fake/true',title='Count of fake and true news')\n",
    "ax.xaxis.get_label().set_fontsize(15)\n",
    "ax.yaxis.get_label().set_fontsize(15)"
   ]
  },
  {
   "cell_type": "code",
   "execution_count": 12,
   "id": "69bfe8da",
   "metadata": {},
   "outputs": [
    {
     "data": {
      "text/plain": [
       "2787"
      ]
     },
     "execution_count": 12,
     "metadata": {},
     "output_type": "execute_result"
    }
   ],
   "source": [
    "len(PolitiFact['statement_originator'].unique())"
   ]
  },
  {
   "cell_type": "code",
   "execution_count": 13,
   "id": "8b5c1f45",
   "metadata": {},
   "outputs": [
    {
     "data": {
      "text/plain": [
       "news             2716\n",
       "social_media     2357\n",
       "speech           1549\n",
       "campaign          570\n",
       "advertisement     562\n",
       "other             502\n",
       "blog              488\n",
       "television        279\n",
       "statement         270\n",
       "radio             262\n",
       "email             204\n",
       "meeting           126\n",
       "testimony         115\n",
       "Name: statement_source, dtype: int64"
      ]
     },
     "execution_count": 13,
     "metadata": {},
     "output_type": "execute_result"
    }
   ],
   "source": [
    "PolitiFact['statement_source'].value_counts()"
   ]
  },
  {
   "cell_type": "code",
   "execution_count": 14,
   "id": "d7e96d5d",
   "metadata": {},
   "outputs": [
    {
     "data": {
      "text/plain": [
       "Facebook posts                      869\n",
       "Donald Trump                        449\n",
       "Viral image                         425\n",
       "Bloggers                            373\n",
       "Barack Obama                        249\n",
       "                                   ... \n",
       "Children's Healthcare of Atlanta      1\n",
       "Jim Huffman                           1\n",
       "Gary Sasse                            1\n",
       "Ed Fallone                            1\n",
       "Dave Aronberg                         1\n",
       "Name: statement_originator, Length: 2787, dtype: int64"
      ]
     },
     "execution_count": 14,
     "metadata": {},
     "output_type": "execute_result"
    }
   ],
   "source": [
    "PolitiFact['statement_originator'].value_counts()"
   ]
  },
  {
   "cell_type": "markdown",
   "id": "4207e9bb",
   "metadata": {},
   "source": [
    "## Cleanning PolitiFact"
   ]
  },
  {
   "cell_type": "code",
   "execution_count": 15,
   "id": "113046c3",
   "metadata": {},
   "outputs": [],
   "source": [
    "PolitiFact.drop(['statement_date', 'factcheck_date', 'factcheck_analysis_link'], axis=1, inplace= True )\n",
    "# PolitiFact.drop(['factcheck_analysis_link'], axis=1, inplace= True )"
   ]
  },
  {
   "cell_type": "code",
   "execution_count": 16,
   "id": "39268cfa",
   "metadata": {},
   "outputs": [
    {
     "data": {
      "text/html": [
       "<div>\n",
       "<style scoped>\n",
       "    .dataframe tbody tr th:only-of-type {\n",
       "        vertical-align: middle;\n",
       "    }\n",
       "\n",
       "    .dataframe tbody tr th {\n",
       "        vertical-align: top;\n",
       "    }\n",
       "\n",
       "    .dataframe thead th {\n",
       "        text-align: right;\n",
       "    }\n",
       "</style>\n",
       "<table border=\"1\" class=\"dataframe\">\n",
       "  <thead>\n",
       "    <tr style=\"text-align: right;\">\n",
       "      <th></th>\n",
       "      <th>label</th>\n",
       "      <th>statement_originator</th>\n",
       "      <th>statement</th>\n",
       "      <th>statement_source</th>\n",
       "      <th>factchecker</th>\n",
       "    </tr>\n",
       "  </thead>\n",
       "  <tbody>\n",
       "    <tr>\n",
       "      <th>0</th>\n",
       "      <td>mostly-true</td>\n",
       "      <td>Bloggers</td>\n",
       "      <td>\"U.S. Embassy Celebrates America’s Independenc...</td>\n",
       "      <td>social_media</td>\n",
       "      <td>Louis Jacobson</td>\n",
       "    </tr>\n",
       "    <tr>\n",
       "      <th>1</th>\n",
       "      <td>mostly-true</td>\n",
       "      <td>Jim Whelan</td>\n",
       "      <td>\"United States of America is twenty-sixth in s...</td>\n",
       "      <td>speech</td>\n",
       "      <td>Bill Wichert</td>\n",
       "    </tr>\n",
       "    <tr>\n",
       "      <th>2</th>\n",
       "      <td>pants-fire</td>\n",
       "      <td>Chain email</td>\n",
       "      <td>Says the Obama administration plans to ban all...</td>\n",
       "      <td>email</td>\n",
       "      <td>W. Gardner Selby</td>\n",
       "    </tr>\n",
       "    <tr>\n",
       "      <th>3</th>\n",
       "      <td>half-true</td>\n",
       "      <td>Rick Perry</td>\n",
       "      <td>Since 2000, \"the Texas clean air program achie...</td>\n",
       "      <td>news</td>\n",
       "      <td>Meghan Ashford-Grooms</td>\n",
       "    </tr>\n",
       "    <tr>\n",
       "      <th>4</th>\n",
       "      <td>mostly-false</td>\n",
       "      <td>Tammy Baldwin</td>\n",
       "      <td>\"I led the fight to require the Coast Guard to...</td>\n",
       "      <td>advertisement</td>\n",
       "      <td>Tom Kertscher</td>\n",
       "    </tr>\n",
       "    <tr>\n",
       "      <th>...</th>\n",
       "      <td>...</td>\n",
       "      <td>...</td>\n",
       "      <td>...</td>\n",
       "      <td>...</td>\n",
       "      <td>...</td>\n",
       "    </tr>\n",
       "    <tr>\n",
       "      <th>9995</th>\n",
       "      <td>mostly-false</td>\n",
       "      <td>Facebook posts</td>\n",
       "      <td>\"FDA approval means nothing when you realize t...</td>\n",
       "      <td>social_media</td>\n",
       "      <td>Jason Asenso</td>\n",
       "    </tr>\n",
       "    <tr>\n",
       "      <th>9996</th>\n",
       "      <td>mostly-false</td>\n",
       "      <td>Charles Koch</td>\n",
       "      <td>\"EPA officials have commended (Koch Industries...</td>\n",
       "      <td>news</td>\n",
       "      <td>Steve Contorno</td>\n",
       "    </tr>\n",
       "    <tr>\n",
       "      <th>9997</th>\n",
       "      <td>half-true</td>\n",
       "      <td>Dave Aronberg</td>\n",
       "      <td>Dave Aronberg \"was the first to demand that BP...</td>\n",
       "      <td>other</td>\n",
       "      <td>Amy Sherman</td>\n",
       "    </tr>\n",
       "    <tr>\n",
       "      <th>9998</th>\n",
       "      <td>mostly-false</td>\n",
       "      <td>Facebook posts</td>\n",
       "      <td>\"Heidi Cruz, Ted’s wife, is managing director ...</td>\n",
       "      <td>social_media</td>\n",
       "      <td>Ciara O'Rourke</td>\n",
       "    </tr>\n",
       "    <tr>\n",
       "      <th>9999</th>\n",
       "      <td>pants-fire</td>\n",
       "      <td>Facebook posts</td>\n",
       "      <td>Says a photo of Pete Buttigieg in a military u...</td>\n",
       "      <td>social_media</td>\n",
       "      <td>Daniel Funke</td>\n",
       "    </tr>\n",
       "  </tbody>\n",
       "</table>\n",
       "<p>10000 rows × 5 columns</p>\n",
       "</div>"
      ],
      "text/plain": [
       "             label statement_originator  \\\n",
       "0      mostly-true             Bloggers   \n",
       "1      mostly-true           Jim Whelan   \n",
       "2       pants-fire          Chain email   \n",
       "3        half-true           Rick Perry   \n",
       "4     mostly-false        Tammy Baldwin   \n",
       "...            ...                  ...   \n",
       "9995  mostly-false       Facebook posts   \n",
       "9996  mostly-false         Charles Koch   \n",
       "9997     half-true        Dave Aronberg   \n",
       "9998  mostly-false       Facebook posts   \n",
       "9999    pants-fire       Facebook posts   \n",
       "\n",
       "                                              statement statement_source  \\\n",
       "0     \"U.S. Embassy Celebrates America’s Independenc...     social_media   \n",
       "1     \"United States of America is twenty-sixth in s...           speech   \n",
       "2     Says the Obama administration plans to ban all...            email   \n",
       "3     Since 2000, \"the Texas clean air program achie...             news   \n",
       "4     \"I led the fight to require the Coast Guard to...    advertisement   \n",
       "...                                                 ...              ...   \n",
       "9995  \"FDA approval means nothing when you realize t...     social_media   \n",
       "9996  \"EPA officials have commended (Koch Industries...             news   \n",
       "9997  Dave Aronberg \"was the first to demand that BP...            other   \n",
       "9998  \"Heidi Cruz, Ted’s wife, is managing director ...     social_media   \n",
       "9999  Says a photo of Pete Buttigieg in a military u...     social_media   \n",
       "\n",
       "                factchecker  \n",
       "0            Louis Jacobson  \n",
       "1              Bill Wichert  \n",
       "2          W. Gardner Selby  \n",
       "3     Meghan Ashford-Grooms  \n",
       "4             Tom Kertscher  \n",
       "...                     ...  \n",
       "9995           Jason Asenso  \n",
       "9996         Steve Contorno  \n",
       "9997            Amy Sherman  \n",
       "9998         Ciara O'Rourke  \n",
       "9999           Daniel Funke  \n",
       "\n",
       "[10000 rows x 5 columns]"
      ]
     },
     "execution_count": 16,
     "metadata": {},
     "output_type": "execute_result"
    }
   ],
   "source": [
    "# PolitiFact['verdict'].value_counts()\n",
    "PolitiFact.rename(columns= {'verdict': 'label'} ,  inplace= True)\n",
    "PolitiFact"
   ]
  },
  {
   "cell_type": "code",
   "execution_count": 17,
   "id": "1d47a63b",
   "metadata": {},
   "outputs": [],
   "source": [
    "# Labeling \n",
    "mask= PolitiFact['label'].str.contains('true', case= False)\n",
    "PolitiFact.loc[mask, 'label'] = 1  # Real\n",
    "\n",
    "mask= PolitiFact['label']!= 1\n",
    "PolitiFact.loc[mask, 'label'] = 0 # Fake"
   ]
  },
  {
   "cell_type": "code",
   "execution_count": 18,
   "id": "59e430d8",
   "metadata": {},
   "outputs": [
    {
     "data": {
      "text/html": [
       "<div>\n",
       "<style scoped>\n",
       "    .dataframe tbody tr th:only-of-type {\n",
       "        vertical-align: middle;\n",
       "    }\n",
       "\n",
       "    .dataframe tbody tr th {\n",
       "        vertical-align: top;\n",
       "    }\n",
       "\n",
       "    .dataframe thead th {\n",
       "        text-align: right;\n",
       "    }\n",
       "</style>\n",
       "<table border=\"1\" class=\"dataframe\">\n",
       "  <thead>\n",
       "    <tr style=\"text-align: right;\">\n",
       "      <th></th>\n",
       "      <th>label</th>\n",
       "      <th>statement_originator</th>\n",
       "      <th>statement</th>\n",
       "      <th>statement_source</th>\n",
       "      <th>factchecker</th>\n",
       "    </tr>\n",
       "  </thead>\n",
       "  <tbody>\n",
       "    <tr>\n",
       "      <th>0</th>\n",
       "      <td>1</td>\n",
       "      <td>Bloggers</td>\n",
       "      <td>\"U.S. Embassy Celebrates America’s Independenc...</td>\n",
       "      <td>social_media</td>\n",
       "      <td>Louis Jacobson</td>\n",
       "    </tr>\n",
       "    <tr>\n",
       "      <th>1</th>\n",
       "      <td>1</td>\n",
       "      <td>Jim Whelan</td>\n",
       "      <td>\"United States of America is twenty-sixth in s...</td>\n",
       "      <td>speech</td>\n",
       "      <td>Bill Wichert</td>\n",
       "    </tr>\n",
       "  </tbody>\n",
       "</table>\n",
       "</div>"
      ],
      "text/plain": [
       "  label statement_originator  \\\n",
       "0     1             Bloggers   \n",
       "1     1           Jim Whelan   \n",
       "\n",
       "                                           statement statement_source  \\\n",
       "0  \"U.S. Embassy Celebrates America’s Independenc...     social_media   \n",
       "1  \"United States of America is twenty-sixth in s...           speech   \n",
       "\n",
       "      factchecker  \n",
       "0  Louis Jacobson  \n",
       "1    Bill Wichert  "
      ]
     },
     "execution_count": 18,
     "metadata": {},
     "output_type": "execute_result"
    }
   ],
   "source": [
    "PolitiFact.head(2)"
   ]
  },
  {
   "cell_type": "code",
   "execution_count": 19,
   "id": "41fceeb9",
   "metadata": {},
   "outputs": [
    {
     "data": {
      "text/plain": [
       "0    5577\n",
       "1    4423\n",
       "Name: label, dtype: int64"
      ]
     },
     "execution_count": 19,
     "metadata": {},
     "output_type": "execute_result"
    }
   ],
   "source": [
    "PolitiFact['label'].value_counts()"
   ]
  },
  {
   "cell_type": "code",
   "execution_count": 20,
   "id": "be965445",
   "metadata": {},
   "outputs": [],
   "source": [
    "# factorizing, converting some columns text to code \n",
    "PolitiFact[\"statement_originator\"] = pd.factorize(PolitiFact[\"statement_originator\"])[0]\n",
    "PolitiFact[\"statement_source\"] = pd.factorize(PolitiFact[\"statement_source\"])[0]\n",
    "PolitiFact[\"factchecker\"]= pd.factorize(PolitiFact['factchecker'])[0]\n",
    "\n"
   ]
  },
  {
   "cell_type": "markdown",
   "id": "f2482f7a",
   "metadata": {},
   "source": [
    "# Stopwords"
   ]
  },
  {
   "cell_type": "code",
   "execution_count": 21,
   "id": "5bc0965e",
   "metadata": {},
   "outputs": [],
   "source": [
    "#task2 : remove marks and stopwords\n",
    "# defining a funtion to make the lowercase and remove links, square brackets, punctuation and words contianing numbers \n",
    "def review_cleaning(text):\n",
    "    '''\n",
    "    make the lowercase and remove links, square brackets, punctuation and words contianing numbers.  \n",
    "    '''\n",
    "    text = str(text).lower()\n",
    "    text = re.sub('\\[.*?\\]', '', text)\n",
    "    text = re.sub('https?://\\S+|www\\.\\S+', '', text)\n",
    "    text = re.sub('<.*?>+', '', text)\n",
    "    text = re.sub('[%s]' % re.escape(string.punctuation), '', text)\n",
    "    text = re.sub('\\n', '', text)\n",
    "    text = re.sub('\\w*\\d\\w*', '', text)\n",
    "    text = re.sub(',()''', '', text)\n",
    "    return text"
   ]
  },
  {
   "cell_type": "code",
   "execution_count": 22,
   "id": "bf655e93",
   "metadata": {},
   "outputs": [],
   "source": [
    "# Tokenization and stopword\n",
    "stop = stopwords.words('english')\n",
    "\n",
    "PolitiFact['statement'] = PolitiFact['statement'].apply(lambda text: review_cleaning(text))\n",
    "\n",
    "PolitiFact['statement']= PolitiFact['statement'].apply(lambda x: ' '.join([word for word in x.split() if word not in (stop)]))\n"
   ]
  },
  {
   "cell_type": "code",
   "execution_count": 23,
   "id": "25881c0a",
   "metadata": {},
   "outputs": [],
   "source": [
    "# save point 2\n",
    "PolitiFact.to_csv(os.path.join(data_dir,'politifact_stp.csv'), index= False)"
   ]
  },
  {
   "cell_type": "code",
   "execution_count": 24,
   "id": "703ca02b",
   "metadata": {},
   "outputs": [],
   "source": [
    "PolitiFact= pd.read_csv(os.path.join(data_dir,'politifact_stp.csv'))"
   ]
  },
  {
   "cell_type": "code",
   "execution_count": 25,
   "id": "1a69b2ec",
   "metadata": {},
   "outputs": [],
   "source": [
    "# fill NaNs with zeros\n",
    "PolitiFact = PolitiFact.fillna(PolitiFact.mean(numeric_only=True))"
   ]
  },
  {
   "cell_type": "code",
   "execution_count": 26,
   "id": "7b3a9c65",
   "metadata": {},
   "outputs": [
    {
     "data": {
      "text/html": [
       "<div>\n",
       "<style scoped>\n",
       "    .dataframe tbody tr th:only-of-type {\n",
       "        vertical-align: middle;\n",
       "    }\n",
       "\n",
       "    .dataframe tbody tr th {\n",
       "        vertical-align: top;\n",
       "    }\n",
       "\n",
       "    .dataframe thead th {\n",
       "        text-align: right;\n",
       "    }\n",
       "</style>\n",
       "<table border=\"1\" class=\"dataframe\">\n",
       "  <thead>\n",
       "    <tr style=\"text-align: right;\">\n",
       "      <th></th>\n",
       "      <th>label</th>\n",
       "      <th>statement_originator</th>\n",
       "      <th>statement</th>\n",
       "      <th>statement_source</th>\n",
       "      <th>factchecker</th>\n",
       "    </tr>\n",
       "  </thead>\n",
       "  <tbody>\n",
       "    <tr>\n",
       "      <th>0</th>\n",
       "      <td>1</td>\n",
       "      <td>0</td>\n",
       "      <td>us embassy celebrates america’s independence j...</td>\n",
       "      <td>0</td>\n",
       "      <td>0</td>\n",
       "    </tr>\n",
       "    <tr>\n",
       "      <th>1</th>\n",
       "      <td>1</td>\n",
       "      <td>1</td>\n",
       "      <td>united states america twentysixth school perfo...</td>\n",
       "      <td>1</td>\n",
       "      <td>1</td>\n",
       "    </tr>\n",
       "  </tbody>\n",
       "</table>\n",
       "</div>"
      ],
      "text/plain": [
       "   label  statement_originator  \\\n",
       "0      1                     0   \n",
       "1      1                     1   \n",
       "\n",
       "                                           statement  statement_source  \\\n",
       "0  us embassy celebrates america’s independence j...                 0   \n",
       "1  united states america twentysixth school perfo...                 1   \n",
       "\n",
       "   factchecker  \n",
       "0            0  \n",
       "1            1  "
      ]
     },
     "execution_count": 26,
     "metadata": {},
     "output_type": "execute_result"
    }
   ],
   "source": [
    "PolitiFact.head(2)"
   ]
  },
  {
   "cell_type": "markdown",
   "id": "2c9c00dc",
   "metadata": {},
   "source": [
    "## Feature Extraction"
   ]
  },
  {
   "cell_type": "code",
   "execution_count": 27,
   "id": "57d87e72",
   "metadata": {},
   "outputs": [],
   "source": [
    "def feature_extraction(News, column):\n",
    "    #Extracting the features from the news\n",
    "    News['polarity'] = News[column].map(lambda text: TextBlob(str(text)).sentiment.polarity)\n",
    "    News['review_len'] = News[column].astype(str).apply(len)\n",
    "    News['word_count'] = News[column].apply(lambda x: len(str(x).split()))\n",
    "\n",
    "    #Plotting the distribution of the extracted feature\n",
    "    plt.figure(figsize = (20, 5))\n",
    "    plt.style.use('seaborn-white')\n",
    "    plt.subplot(131)\n",
    "    sns.distplot(News['polarity'])\n",
    "    fig = plt.gcf()\n",
    "    plt.subplot(132)\n",
    "    sns.distplot(News['review_len'])\n",
    "    fig = plt.gcf()\n",
    "    plt.subplot(133)\n",
    "    sns.distplot(News['word_count'])\n",
    "    fig = plt.gcf();"
   ]
  },
  {
   "cell_type": "code",
   "execution_count": 28,
   "id": "d3f59644",
   "metadata": {},
   "outputs": [
    {
     "name": "stderr",
     "output_type": "stream",
     "text": [
      "C:\\Users\\mahmoud\\AppData\\Local\\Temp\\ipykernel_11560\\1703162373.py:9: MatplotlibDeprecationWarning: The seaborn styles shipped by Matplotlib are deprecated since 3.6, as they no longer correspond to the styles shipped by seaborn. However, they will remain available as 'seaborn-v0_8-<style>'. Alternatively, directly use the seaborn API instead.\n",
      "  plt.style.use('seaborn-white')\n",
      "C:\\Users\\mahmoud\\anaconda3\\lib\\site-packages\\seaborn\\distributions.py:2619: FutureWarning: `distplot` is a deprecated function and will be removed in a future version. Please adapt your code to use either `displot` (a figure-level function with similar flexibility) or `histplot` (an axes-level function for histograms).\n",
      "  warnings.warn(msg, FutureWarning)\n",
      "C:\\Users\\mahmoud\\anaconda3\\lib\\site-packages\\seaborn\\distributions.py:2619: FutureWarning: `distplot` is a deprecated function and will be removed in a future version. Please adapt your code to use either `displot` (a figure-level function with similar flexibility) or `histplot` (an axes-level function for histograms).\n",
      "  warnings.warn(msg, FutureWarning)\n",
      "C:\\Users\\mahmoud\\anaconda3\\lib\\site-packages\\seaborn\\distributions.py:2619: FutureWarning: `distplot` is a deprecated function and will be removed in a future version. Please adapt your code to use either `displot` (a figure-level function with similar flexibility) or `histplot` (an axes-level function for histograms).\n",
      "  warnings.warn(msg, FutureWarning)\n"
     ]
    },
    {
     "data": {
      "image/png": "[encoded data removed]",
      "text/plain": [
       "<Figure size 2000x500 with 3 Axes>"
      ]
     },
     "metadata": {},
     "output_type": "display_data"
    }
   ],
   "source": [
    "feature_extraction(PolitiFact, 'statement')"
   ]
  },
  {
   "cell_type": "code",
   "execution_count": 29,
   "id": "3035fe73",
   "metadata": {},
   "outputs": [
    {
     "data": {
      "text/html": [
       "<div>\n",
       "<style scoped>\n",
       "    .dataframe tbody tr th:only-of-type {\n",
       "        vertical-align: middle;\n",
       "    }\n",
       "\n",
       "    .dataframe tbody tr th {\n",
       "        vertical-align: top;\n",
       "    }\n",
       "\n",
       "    .dataframe thead th {\n",
       "        text-align: right;\n",
       "    }\n",
       "</style>\n",
       "<table border=\"1\" class=\"dataframe\">\n",
       "  <thead>\n",
       "    <tr style=\"text-align: right;\">\n",
       "      <th></th>\n",
       "      <th>label</th>\n",
       "      <th>statement_originator</th>\n",
       "      <th>statement</th>\n",
       "      <th>statement_source</th>\n",
       "      <th>factchecker</th>\n",
       "      <th>polarity</th>\n",
       "      <th>review_len</th>\n",
       "      <th>word_count</th>\n",
       "    </tr>\n",
       "  </thead>\n",
       "  <tbody>\n",
       "    <tr>\n",
       "      <th>0</th>\n",
       "      <td>1</td>\n",
       "      <td>0</td>\n",
       "      <td>us embassy celebrates america’s independence j...</td>\n",
       "      <td>0</td>\n",
       "      <td>0</td>\n",
       "      <td>0.0</td>\n",
       "      <td>75</td>\n",
       "      <td>9</td>\n",
       "    </tr>\n",
       "    <tr>\n",
       "      <th>1</th>\n",
       "      <td>1</td>\n",
       "      <td>1</td>\n",
       "      <td>united states america twentysixth school perfo...</td>\n",
       "      <td>1</td>\n",
       "      <td>1</td>\n",
       "      <td>0.0</td>\n",
       "      <td>58</td>\n",
       "      <td>7</td>\n",
       "    </tr>\n",
       "    <tr>\n",
       "      <th>2</th>\n",
       "      <td>0</td>\n",
       "      <td>2</td>\n",
       "      <td>says obama administration plans ban weapons us...</td>\n",
       "      <td>2</td>\n",
       "      <td>2</td>\n",
       "      <td>0.0</td>\n",
       "      <td>78</td>\n",
       "      <td>10</td>\n",
       "    </tr>\n",
       "  </tbody>\n",
       "</table>\n",
       "</div>"
      ],
      "text/plain": [
       "   label  statement_originator  \\\n",
       "0      1                     0   \n",
       "1      1                     1   \n",
       "2      0                     2   \n",
       "\n",
       "                                           statement  statement_source  \\\n",
       "0  us embassy celebrates america’s independence j...                 0   \n",
       "1  united states america twentysixth school perfo...                 1   \n",
       "2  says obama administration plans ban weapons us...                 2   \n",
       "\n",
       "   factchecker  polarity  review_len  word_count  \n",
       "0            0       0.0          75           9  \n",
       "1            1       0.0          58           7  \n",
       "2            2       0.0          78          10  "
      ]
     },
     "execution_count": 29,
     "metadata": {},
     "output_type": "execute_result"
    }
   ],
   "source": [
    "PolitiFact.head(3)"
   ]
  },
  {
   "cell_type": "markdown",
   "id": "288d52a2",
   "metadata": {},
   "source": [
    "## Feature selection\n",
    "#### Filter method"
   ]
  },
  {
   "cell_type": "code",
   "execution_count": 30,
   "id": "9d85af74",
   "metadata": {},
   "outputs": [
    {
     "data": {
      "text/html": [
       "<div>\n",
       "<style scoped>\n",
       "    .dataframe tbody tr th:only-of-type {\n",
       "        vertical-align: middle;\n",
       "    }\n",
       "\n",
       "    .dataframe tbody tr th {\n",
       "        vertical-align: top;\n",
       "    }\n",
       "\n",
       "    .dataframe thead th {\n",
       "        text-align: right;\n",
       "    }\n",
       "</style>\n",
       "<table border=\"1\" class=\"dataframe\">\n",
       "  <thead>\n",
       "    <tr style=\"text-align: right;\">\n",
       "      <th></th>\n",
       "      <th>statement_originator</th>\n",
       "      <th>statement_source</th>\n",
       "      <th>factchecker</th>\n",
       "      <th>polarity</th>\n",
       "      <th>review_len</th>\n",
       "      <th>word_count</th>\n",
       "    </tr>\n",
       "  </thead>\n",
       "  <tbody>\n",
       "    <tr>\n",
       "      <th>0</th>\n",
       "      <td>0</td>\n",
       "      <td>0</td>\n",
       "      <td>0</td>\n",
       "      <td>0.0</td>\n",
       "      <td>75</td>\n",
       "      <td>9</td>\n",
       "    </tr>\n",
       "    <tr>\n",
       "      <th>1</th>\n",
       "      <td>1</td>\n",
       "      <td>1</td>\n",
       "      <td>1</td>\n",
       "      <td>0.0</td>\n",
       "      <td>58</td>\n",
       "      <td>7</td>\n",
       "    </tr>\n",
       "  </tbody>\n",
       "</table>\n",
       "</div>"
      ],
      "text/plain": [
       "   statement_originator  statement_source  factchecker  polarity  review_len  \\\n",
       "0                     0                 0            0       0.0          75   \n",
       "1                     1                 1            1       0.0          58   \n",
       "\n",
       "   word_count  \n",
       "0           9  \n",
       "1           7  "
      ]
     },
     "execution_count": 30,
     "metadata": {},
     "output_type": "execute_result"
    }
   ],
   "source": [
    "features= PolitiFact.drop(['statement', 'label'], axis= 1)\n",
    "features.head(2)"
   ]
  },
  {
   "cell_type": "markdown",
   "id": "819d510c",
   "metadata": {},
   "source": [
    "## Feature selection\n",
    "#### Filter method"
   ]
  },
  {
   "cell_type": "code",
   "execution_count": 31,
   "id": "1b0138d6",
   "metadata": {},
   "outputs": [
    {
     "data": {
      "text/plain": [
       "{'factchecker',\n",
       " 'polarity',\n",
       " 'review_len',\n",
       " 'statement_originator',\n",
       " 'statement_source',\n",
       " 'word_count'}"
      ]
     },
     "execution_count": 31,
     "metadata": {},
     "output_type": "execute_result"
    }
   ],
   "source": [
    "# mutual_info_classif for feature selection\n",
    "k_best_mi = SelectKBest(mutual_info_classif, k=6)  # Select top 100 features\n",
    "features_selected_mi = k_best_mi.fit_transform(features, PolitiFact['label'])\n",
    "# features_selected_mi\n",
    "selected_feature_indices = k_best_mi.get_support(indices=True)\n",
    "selected_column_mi = set(features.columns[selected_feature_indices])\n",
    "selected_column_mi"
   ]
  },
  {
   "cell_type": "code",
   "execution_count": 32,
   "id": "ae50434f",
   "metadata": {},
   "outputs": [
    {
     "data": {
      "text/plain": [
       "{'factchecker',\n",
       " 'polarity',\n",
       " 'review_len',\n",
       " 'statement_originator',\n",
       " 'statement_source',\n",
       " 'word_count'}"
      ]
     },
     "execution_count": 32,
     "metadata": {},
     "output_type": "execute_result"
    }
   ],
   "source": [
    "# f_classif for feature selection\n",
    "k_best_f = SelectKBest(f_classif, k=6)  # Select top 6 features\n",
    "X_selected_f = k_best_f.fit_transform(features, PolitiFact['label'])\n",
    "selected_feature_indices = k_best_mi.get_support(indices=True)\n",
    "selected_column_f_class = set(features.columns[selected_feature_indices])\n",
    "selected_column_f_class"
   ]
  },
  {
   "cell_type": "code",
   "execution_count": 33,
   "id": "674bd22b",
   "metadata": {},
   "outputs": [
    {
     "data": {
      "text/plain": [
       "{'factchecker',\n",
       " 'polarity',\n",
       " 'review_len',\n",
       " 'statement_originator',\n",
       " 'statement_source',\n",
       " 'word_count'}"
      ]
     },
     "execution_count": 33,
     "metadata": {},
     "output_type": "execute_result"
    }
   ],
   "source": [
    "# LASSO (L1 regularization) for feature selection\n",
    "lasso_model = LogisticRegression(penalty='l1', solver='liblinear')\n",
    "lasso_model.fit(features, PolitiFact['label'])\n",
    "# Get the absolute values of the coefficients\n",
    "abs_coef = abs(lasso_model.coef_[0])\n",
    "\n",
    "# Get the indices of the three largest coefficients (features with highest absolute coefficient values)\n",
    "top_3_indices = abs_coef.argsort()[-6:][::-1]\n",
    "\n",
    "# Get the names of the three best features\n",
    "selected_features_lasso = features.columns[top_3_indices]\n",
    "\n",
    "# Create the final feature matrix with the three selected features\n",
    "features_selected_lasso = set(features[selected_features_lasso])\n",
    "\n",
    "features_selected_lasso"
   ]
  },
  {
   "cell_type": "code",
   "execution_count": 34,
   "id": "9d4f6205",
   "metadata": {},
   "outputs": [
    {
     "data": {
      "text/plain": [
       "{'factchecker',\n",
       " 'label',\n",
       " 'polarity',\n",
       " 'review_len',\n",
       " 'statement_originator',\n",
       " 'statement_source',\n",
       " 'word_count'}"
      ]
     },
     "execution_count": 34,
     "metadata": {},
     "output_type": "execute_result"
    }
   ],
   "source": [
    "# \n",
    "# Calculate the correlation matrix\n",
    "features= PolitiFact.drop(['statement'], axis= 1)\n",
    "correlation_matrix = features.corr()\n",
    "\n",
    "# Select features with high correlation to the target variable (absolute correlation values)\n",
    "threshold = 0.015  \n",
    "selected_features_corr = correlation_matrix[abs(correlation_matrix['label']) > threshold].index\n",
    "\n",
    "# Create the final feature matrix\n",
    "features_selected_corr = set(features[selected_features_corr])\n",
    "features_selected_corr"
   ]
  },
  {
   "cell_type": "markdown",
   "id": "37d8c8fd",
   "metadata": {},
   "source": [
    "#### Wrapper methods\n",
    "##### using lasso for all features including news column"
   ]
  },
  {
   "cell_type": "code",
   "execution_count": 35,
   "id": "21e391bd",
   "metadata": {},
   "outputs": [],
   "source": [
    "# Creating bag of words\n",
    "def bow(corpus):\n",
    "    vectorizer = CountVectorizer()\n",
    "    news_features = vectorizer.fit_transform(corpus).toarray()\n",
    "    return news_features"
   ]
  },
  {
   "cell_type": "code",
   "execution_count": 36,
   "id": "78ecd3fb",
   "metadata": {},
   "outputs": [
    {
     "name": "stdout",
     "output_type": "stream",
     "text": [
      "Shape of bag of words on news:  [[0 0 0 ... 0 0 0]\n",
      " [0 0 0 ... 0 0 0]\n",
      " [0 0 0 ... 0 0 0]\n",
      " ...\n",
      " [0 0 0 ... 0 0 0]\n",
      " [0 0 0 ... 0 0 0]\n",
      " [0 0 0 ... 0 0 0]]\n",
      "The number of new columns is added to dataset is:  12959\n"
     ]
    }
   ],
   "source": [
    "news_bow= bow(PolitiFact['statement'])\n",
    "print('Shape of bag of words on news: ', news_bow)\n",
    "print('The number of new columns is added to dataset is: ', news_bow.shape[1])"
   ]
  },
  {
   "cell_type": "code",
   "execution_count": 37,
   "id": "d669688c",
   "metadata": {},
   "outputs": [],
   "source": [
    "def cancat_two_part(dataset, vertorized_feature):\n",
    "    # Step 1: Scale the numerical features using StandardScaler and convert to a sparse matrix\n",
    "    other_features = dataset.drop(columns=['statement', 'label'])\n",
    "    scaler = StandardScaler()\n",
    "    scaled_other_features = scaler.fit_transform(other_features)\n",
    "    sparse_scaled_other_features = csr_matrix(scaled_other_features)\n",
    "\n",
    "    # Step 2: Concatenate the sparse matrices for 'news' and numerical features\n",
    "    all_features = hstack([vertorized_feature, sparse_scaled_other_features])\n",
    "\n",
    "    return all_features"
   ]
  },
  {
   "cell_type": "code",
   "execution_count": 38,
   "id": "174b621a",
   "metadata": {},
   "outputs": [
    {
     "data": {
      "text/plain": [
       "<10000x12965 sparse matrix of type '<class 'numpy.float64'>'\n",
       "\twith 161652 stored elements in COOrdinate format>"
      ]
     },
     "execution_count": 38,
     "metadata": {},
     "output_type": "execute_result"
    }
   ],
   "source": [
    "PolitiFact_bow= cancat_two_part(PolitiFact, news_bow)\n",
    "PolitiFact_bow"
   ]
  },
  {
   "cell_type": "code",
   "execution_count": 39,
   "id": "6e085c0b",
   "metadata": {},
   "outputs": [
    {
     "data": {
      "text/plain": [
       "Index(['label', 'statement_originator', 'statement', 'statement_source',\n",
       "       'factchecker', 'polarity', 'review_len', 'word_count'],\n",
       "      dtype='object')"
      ]
     },
     "execution_count": 39,
     "metadata": {},
     "output_type": "execute_result"
    }
   ],
   "source": [
    "PolitiFact.columns"
   ]
  },
  {
   "cell_type": "code",
   "execution_count": null,
   "id": "87c76730",
   "metadata": {},
   "outputs": [],
   "source": []
  },
  {
   "cell_type": "code",
   "execution_count": 40,
   "id": "f103ffcb",
   "metadata": {},
   "outputs": [],
   "source": [
    "# Information Gain feature selection method"
   ]
  },
  {
   "cell_type": "code",
   "execution_count": 41,
   "id": "e25fe17c",
   "metadata": {},
   "outputs": [],
   "source": [
    "def informatio_gain(dataset, label):\n",
    "\n",
    "    # Calculate Information Gain using mutual information\n",
    "    information_gains_all = mutual_info_classif(dataset, label)  # Exclude non-numeric columns\n",
    "    # Print Information Gains for each feature\n",
    "    columns = [ 'statement_originator', 'statement', 'statement_source','factchecker',\n",
    "               'polarity', 'review_len', 'word_count']\n",
    "    other_features= len(columns)\n",
    "    selected_features= []\n",
    "    information_gains= information_gains_all[-other_features:]\n",
    "    for i, gain in enumerate(information_gains):\n",
    "        print(f\"Feature {columns[i]}: Information Gain = {gain:.6f}\")\n",
    "        selected_features.append(columns[i])\n",
    "    return selected_features"
   ]
  },
  {
   "cell_type": "code",
   "execution_count": 42,
   "id": "b43df9c3",
   "metadata": {},
   "outputs": [
    {
     "name": "stdout",
     "output_type": "stream",
     "text": [
      "Feature statement_originator: Information Gain = 0.000058\n",
      "Feature statement: Information Gain = 0.306829\n",
      "Feature statement_source: Information Gain = 0.046382\n",
      "Feature factchecker: Information Gain = 0.095264\n",
      "Feature polarity: Information Gain = 0.049737\n",
      "Feature review_len: Information Gain = 0.012963\n",
      "Feature word_count: Information Gain = 0.003732\n"
     ]
    },
    {
     "name": "stderr",
     "output_type": "stream",
     "text": [
      "C:\\Users\\mahmoud\\anaconda3\\lib\\site-packages\\sklearn\\metrics\\cluster\\_supervised.py:65: UserWarning: Clustering metrics expects discrete values but received continuous values for label, and binary values for target\n",
      "  warnings.warn(msg, UserWarning)\n",
      "C:\\Users\\mahmoud\\anaconda3\\lib\\site-packages\\sklearn\\metrics\\cluster\\_supervised.py:65: UserWarning: Clustering metrics expects discrete values but received continuous values for label, and binary values for target\n",
      "  warnings.warn(msg, UserWarning)\n",
      "C:\\Users\\mahmoud\\anaconda3\\lib\\site-packages\\sklearn\\metrics\\cluster\\_supervised.py:65: UserWarning: Clustering metrics expects discrete values but received continuous values for label, and binary values for target\n",
      "  warnings.warn(msg, UserWarning)\n",
      "C:\\Users\\mahmoud\\anaconda3\\lib\\site-packages\\sklearn\\metrics\\cluster\\_supervised.py:65: UserWarning: Clustering metrics expects discrete values but received continuous values for label, and binary values for target\n",
      "  warnings.warn(msg, UserWarning)\n",
      "C:\\Users\\mahmoud\\anaconda3\\lib\\site-packages\\sklearn\\metrics\\cluster\\_supervised.py:65: UserWarning: Clustering metrics expects discrete values but received continuous values for label, and binary values for target\n",
      "  warnings.warn(msg, UserWarning)\n",
      "C:\\Users\\mahmoud\\anaconda3\\lib\\site-packages\\sklearn\\metrics\\cluster\\_supervised.py:65: UserWarning: Clustering metrics expects discrete values but received continuous values for label, and binary values for target\n",
      "  warnings.warn(msg, UserWarning)\n"
     ]
    }
   ],
   "source": [
    "selected_features_ig= informatio_gain(PolitiFact_bow, PolitiFact['label'])"
   ]
  },
  {
   "cell_type": "code",
   "execution_count": 43,
   "id": "94eb5acb",
   "metadata": {},
   "outputs": [
    {
     "data": {
      "text/plain": [
       "['statement_originator',\n",
       " 'statement',\n",
       " 'statement_source',\n",
       " 'factchecker',\n",
       " 'polarity',\n",
       " 'review_len',\n",
       " 'word_count']"
      ]
     },
     "execution_count": 43,
     "metadata": {},
     "output_type": "execute_result"
    }
   ],
   "source": [
    "selected_features_ig"
   ]
  },
  {
   "cell_type": "code",
   "execution_count": 44,
   "id": "639a92e3",
   "metadata": {},
   "outputs": [],
   "source": [
    "## Lasso feature selection "
   ]
  },
  {
   "cell_type": "code",
   "execution_count": 45,
   "id": "e2697782",
   "metadata": {},
   "outputs": [],
   "source": [
    "def lasso_feature_selection(dataset, label):\n",
    "    # getting features (X) and target (y)\n",
    "    X = dataset\n",
    "    y = label\n",
    "\n",
    "    # Split the data into training and testing sets\n",
    "    X_train, X_test, y_train, y_test = train_test_split(X, y, test_size=0.2, random_state=42)\n",
    "\n",
    "    # Train a Lasso regression model\n",
    "    lasso = Lasso(alpha=0.008)  \n",
    "    lasso.fit(X_train, y_train)\n",
    "\n",
    "    # Predict on the test set\n",
    "    y_pred = lasso.predict(X_test)\n",
    "\n",
    "    # Evaluate the model \n",
    "    mse = mean_squared_error(y_test, y_pred)\n",
    "    print(f\"Mean Squared Error: {mse}\")\n",
    "\n",
    "    # Get the selected features (non-zero coefficients)\n",
    "    non_zero_coefficient_indices  = np.where(lasso.coef_ != 0)[0]\n",
    "    return non_zero_coefficient_indices"
   ]
  },
  {
   "cell_type": "code",
   "execution_count": 46,
   "id": "e03e7375",
   "metadata": {},
   "outputs": [
    {
     "name": "stdout",
     "output_type": "stream",
     "text": [
      "Mean Squared Error: 0.23489864655395556\n"
     ]
    },
    {
     "data": {
      "text/plain": [
       "['label',\n",
       " 'statement_originator',\n",
       " 'statement_source',\n",
       " 'factchecker',\n",
       " 'polarity']"
      ]
     },
     "execution_count": 46,
     "metadata": {},
     "output_type": "execute_result"
    }
   ],
   "source": [
    "selected_features_indeces= lasso_feature_selection(PolitiFact_bow, PolitiFact['label'])\n",
    "other_features_indeces= [index - news_bow.shape[1]-1 for index in selected_features_indeces if index - news_bow.shape[1] > 0]\n",
    "features_list= features.columns.to_list()\n",
    "selected_column_lass_wm= [feature for feature in features_list if features_list.index(feature) in other_features_indeces]\n",
    "selected_column_lass_wm"
   ]
  },
  {
   "cell_type": "code",
   "execution_count": 47,
   "id": "12262239",
   "metadata": {},
   "outputs": [
    {
     "data": {
      "text/plain": [
       "[('statement_originator', 5),\n",
       " ('polarity', 5),\n",
       " ('factchecker', 5),\n",
       " ('statement_source', 5),\n",
       " ('review_len', 4),\n",
       " ('word_count', 4),\n",
       " ('label', 2)]"
      ]
     },
     "execution_count": 47,
     "metadata": {},
     "output_type": "execute_result"
    }
   ],
   "source": [
    "combined_list = list(features_selected_corr) + list(selected_column_mi) + list(selected_column_f_class) + \\\n",
    "                list(features_selected_lasso)+ selected_column_lass_wm \n",
    "# Count the occurrences of each element\n",
    "element_counts = Counter(combined_list)\n",
    "most_common_elements = element_counts.most_common()\n",
    "most_common_elements"
   ]
  },
  {
   "cell_type": "code",
   "execution_count": 48,
   "id": "b8cc2148",
   "metadata": {},
   "outputs": [
    {
     "data": {
      "text/plain": [
       "['statement_originator',\n",
       " 'polarity',\n",
       " 'factchecker',\n",
       " 'statement_source',\n",
       " 'review_len',\n",
       " 'word_count']"
      ]
     },
     "execution_count": 48,
     "metadata": {},
     "output_type": "execute_result"
    }
   ],
   "source": [
    "# Retrieve the three most common elements\n",
    "selected_features= [feature[0] for feature in most_common_elements if feature[1]>=4]\n",
    "selected_features"
   ]
  },
  {
   "cell_type": "code",
   "execution_count": 49,
   "id": "77884772",
   "metadata": {},
   "outputs": [
    {
     "name": "stdout",
     "output_type": "stream",
     "text": [
      "['statement', 'statement_originator', 'polarity', 'factchecker', 'statement_source', 'review_len', 'word_count', 'label']\n"
     ]
    },
    {
     "data": {
      "text/html": [
       "<div>\n",
       "<style scoped>\n",
       "    .dataframe tbody tr th:only-of-type {\n",
       "        vertical-align: middle;\n",
       "    }\n",
       "\n",
       "    .dataframe tbody tr th {\n",
       "        vertical-align: top;\n",
       "    }\n",
       "\n",
       "    .dataframe thead th {\n",
       "        text-align: right;\n",
       "    }\n",
       "</style>\n",
       "<table border=\"1\" class=\"dataframe\">\n",
       "  <thead>\n",
       "    <tr style=\"text-align: right;\">\n",
       "      <th></th>\n",
       "      <th>statement</th>\n",
       "      <th>statement_originator</th>\n",
       "      <th>polarity</th>\n",
       "      <th>factchecker</th>\n",
       "      <th>statement_source</th>\n",
       "      <th>review_len</th>\n",
       "      <th>word_count</th>\n",
       "      <th>label</th>\n",
       "    </tr>\n",
       "  </thead>\n",
       "  <tbody>\n",
       "    <tr>\n",
       "      <th>0</th>\n",
       "      <td>us embassy celebrates america’s independence j...</td>\n",
       "      <td>0</td>\n",
       "      <td>0.0</td>\n",
       "      <td>0</td>\n",
       "      <td>0</td>\n",
       "      <td>75</td>\n",
       "      <td>9</td>\n",
       "      <td>1</td>\n",
       "    </tr>\n",
       "    <tr>\n",
       "      <th>1</th>\n",
       "      <td>united states america twentysixth school perfo...</td>\n",
       "      <td>1</td>\n",
       "      <td>0.0</td>\n",
       "      <td>1</td>\n",
       "      <td>1</td>\n",
       "      <td>58</td>\n",
       "      <td>7</td>\n",
       "      <td>1</td>\n",
       "    </tr>\n",
       "  </tbody>\n",
       "</table>\n",
       "</div>"
      ],
      "text/plain": [
       "                                           statement  statement_originator  \\\n",
       "0  us embassy celebrates america’s independence j...                     0   \n",
       "1  united states america twentysixth school perfo...                     1   \n",
       "\n",
       "   polarity  factchecker  statement_source  review_len  word_count  label  \n",
       "0       0.0            0                 0          75           9      1  \n",
       "1       0.0            1                 1          58           7      1  "
      ]
     },
     "execution_count": 49,
     "metadata": {},
     "output_type": "execute_result"
    }
   ],
   "source": [
    "selected_features.insert(0, 'statement')\n",
    "selected_features.append('label')\n",
    "print(selected_features)\n",
    "PolitiFact_selected= PolitiFact[selected_features].copy()\n",
    "PolitiFact_selected.head(2)"
   ]
  },
  {
   "cell_type": "code",
   "execution_count": 50,
   "id": "65a8e61f",
   "metadata": {},
   "outputs": [],
   "source": [
    "# save point 3\n",
    "PolitiFact_selected.to_csv(os.path.join(data_dir,'PolitiFact_stp_fe_fS.csv'), index=False)"
   ]
  },
  {
   "cell_type": "code",
   "execution_count": 51,
   "id": "08277443",
   "metadata": {},
   "outputs": [],
   "source": [
    "PolitiFact= pd.read_csv(os.path.join(data_dir,'PolitiFact_stp_fe_fS.csv'))\n"
   ]
  },
  {
   "cell_type": "code",
   "execution_count": 52,
   "id": "17b3bd4f",
   "metadata": {},
   "outputs": [
    {
     "data": {
      "image/png": "[encoded data removed]",
      "text/plain": [
       "<Figure size 640x480 with 1 Axes>"
      ]
     },
     "metadata": {},
     "output_type": "display_data"
    }
   ],
   "source": [
    "## Count of fake news and true news\n",
    "ax=sns.countplot(x=\"label\", data=PolitiFact)\n",
    "#Setting labels and font size\n",
    "ax.set(xlabel='Output', ylabel='Count of fake/true',title='Count of fake and true news')\n",
    "ax.xaxis.get_label().set_fontsize(15)\n",
    "ax.yaxis.get_label().set_fontsize(15)"
   ]
  },
  {
   "cell_type": "code",
   "execution_count": null,
   "id": "d5063f9f",
   "metadata": {},
   "outputs": [],
   "source": []
  },
  {
   "cell_type": "markdown",
   "id": "11e9449a",
   "metadata": {},
   "source": [
    "### Stemming"
   ]
  },
  {
   "cell_type": "code",
   "execution_count": 53,
   "id": "0ba82956",
   "metadata": {},
   "outputs": [],
   "source": [
    "def stemming(column):\n",
    "    stop_words = set(stopwords.words(\"english\"))\n",
    "    #Performing stemming on the review dataframe\n",
    "    ps = PorterStemmer()\n",
    "\n",
    "    #splitting and adding the stemmed words except stopwords\n",
    "    corpus = []\n",
    "    for i in range(0, len(PolitiFact)):\n",
    "        news = re.sub('[^a-zA-Z]', ' ', str(PolitiFact[column][i]))\n",
    "        news= news.lower()\n",
    "        news = news.split()\n",
    "        news = [ps.stem(word) for word in news if not word in stop_words]\n",
    "        news = ' '.join(news)\n",
    "        corpus.append(news) "
   ]
  },
  {
   "cell_type": "code",
   "execution_count": 54,
   "id": "7dfa1de8",
   "metadata": {},
   "outputs": [],
   "source": [
    "stemming('statement')"
   ]
  },
  {
   "cell_type": "code",
   "execution_count": 55,
   "id": "739ffc05",
   "metadata": {},
   "outputs": [
    {
     "data": {
      "text/html": [
       "<div>\n",
       "<style scoped>\n",
       "    .dataframe tbody tr th:only-of-type {\n",
       "        vertical-align: middle;\n",
       "    }\n",
       "\n",
       "    .dataframe tbody tr th {\n",
       "        vertical-align: top;\n",
       "    }\n",
       "\n",
       "    .dataframe thead th {\n",
       "        text-align: right;\n",
       "    }\n",
       "</style>\n",
       "<table border=\"1\" class=\"dataframe\">\n",
       "  <thead>\n",
       "    <tr style=\"text-align: right;\">\n",
       "      <th></th>\n",
       "      <th>statement</th>\n",
       "      <th>statement_originator</th>\n",
       "      <th>polarity</th>\n",
       "      <th>factchecker</th>\n",
       "      <th>statement_source</th>\n",
       "      <th>review_len</th>\n",
       "      <th>word_count</th>\n",
       "      <th>label</th>\n",
       "    </tr>\n",
       "  </thead>\n",
       "  <tbody>\n",
       "    <tr>\n",
       "      <th>0</th>\n",
       "      <td>us embassy celebrates america’s independence j...</td>\n",
       "      <td>0</td>\n",
       "      <td>0.0</td>\n",
       "      <td>0</td>\n",
       "      <td>0</td>\n",
       "      <td>75</td>\n",
       "      <td>9</td>\n",
       "      <td>1</td>\n",
       "    </tr>\n",
       "    <tr>\n",
       "      <th>1</th>\n",
       "      <td>united states america twentysixth school perfo...</td>\n",
       "      <td>1</td>\n",
       "      <td>0.0</td>\n",
       "      <td>1</td>\n",
       "      <td>1</td>\n",
       "      <td>58</td>\n",
       "      <td>7</td>\n",
       "      <td>1</td>\n",
       "    </tr>\n",
       "  </tbody>\n",
       "</table>\n",
       "</div>"
      ],
      "text/plain": [
       "                                           statement  statement_originator  \\\n",
       "0  us embassy celebrates america’s independence j...                     0   \n",
       "1  united states america twentysixth school perfo...                     1   \n",
       "\n",
       "   polarity  factchecker  statement_source  review_len  word_count  label  \n",
       "0       0.0            0                 0          75           9      1  \n",
       "1       0.0            1                 1          58           7      1  "
      ]
     },
     "execution_count": 55,
     "metadata": {},
     "output_type": "execute_result"
    }
   ],
   "source": [
    "PolitiFact.head(2)"
   ]
  },
  {
   "cell_type": "code",
   "execution_count": 56,
   "id": "488eba9e",
   "metadata": {},
   "outputs": [],
   "source": [
    "#save point 4 after stemming \n",
    "PolitiFact.to_csv(os.path.join(data_dir,'PolitiFact_stp_fS_fe_stm.csv'), index=False)"
   ]
  },
  {
   "cell_type": "code",
   "execution_count": 57,
   "id": "d51c45c4",
   "metadata": {},
   "outputs": [
    {
     "data": {
      "text/html": [
       "<div>\n",
       "<style scoped>\n",
       "    .dataframe tbody tr th:only-of-type {\n",
       "        vertical-align: middle;\n",
       "    }\n",
       "\n",
       "    .dataframe tbody tr th {\n",
       "        vertical-align: top;\n",
       "    }\n",
       "\n",
       "    .dataframe thead th {\n",
       "        text-align: right;\n",
       "    }\n",
       "</style>\n",
       "<table border=\"1\" class=\"dataframe\">\n",
       "  <thead>\n",
       "    <tr style=\"text-align: right;\">\n",
       "      <th></th>\n",
       "      <th>statement</th>\n",
       "      <th>statement_originator</th>\n",
       "      <th>polarity</th>\n",
       "      <th>factchecker</th>\n",
       "      <th>statement_source</th>\n",
       "      <th>review_len</th>\n",
       "      <th>word_count</th>\n",
       "      <th>label</th>\n",
       "    </tr>\n",
       "  </thead>\n",
       "  <tbody>\n",
       "    <tr>\n",
       "      <th>0</th>\n",
       "      <td>us embassy celebrates america’s independence j...</td>\n",
       "      <td>0</td>\n",
       "      <td>0.000000</td>\n",
       "      <td>0</td>\n",
       "      <td>0</td>\n",
       "      <td>75</td>\n",
       "      <td>9</td>\n",
       "      <td>1</td>\n",
       "    </tr>\n",
       "    <tr>\n",
       "      <th>1</th>\n",
       "      <td>united states america twentysixth school perfo...</td>\n",
       "      <td>1</td>\n",
       "      <td>0.000000</td>\n",
       "      <td>1</td>\n",
       "      <td>1</td>\n",
       "      <td>58</td>\n",
       "      <td>7</td>\n",
       "      <td>1</td>\n",
       "    </tr>\n",
       "    <tr>\n",
       "      <th>2</th>\n",
       "      <td>says obama administration plans ban weapons us...</td>\n",
       "      <td>2</td>\n",
       "      <td>0.000000</td>\n",
       "      <td>2</td>\n",
       "      <td>2</td>\n",
       "      <td>78</td>\n",
       "      <td>10</td>\n",
       "      <td>0</td>\n",
       "    </tr>\n",
       "    <tr>\n",
       "      <th>3</th>\n",
       "      <td>since texas clean air program achieved percent...</td>\n",
       "      <td>3</td>\n",
       "      <td>0.366667</td>\n",
       "      <td>3</td>\n",
       "      <td>3</td>\n",
       "      <td>93</td>\n",
       "      <td>13</td>\n",
       "      <td>1</td>\n",
       "    </tr>\n",
       "    <tr>\n",
       "      <th>4</th>\n",
       "      <td>led fight require coast guard buy engines us f...</td>\n",
       "      <td>4</td>\n",
       "      <td>-0.125000</td>\n",
       "      <td>4</td>\n",
       "      <td>4</td>\n",
       "      <td>62</td>\n",
       "      <td>10</td>\n",
       "      <td>0</td>\n",
       "    </tr>\n",
       "    <tr>\n",
       "      <th>...</th>\n",
       "      <td>...</td>\n",
       "      <td>...</td>\n",
       "      <td>...</td>\n",
       "      <td>...</td>\n",
       "      <td>...</td>\n",
       "      <td>...</td>\n",
       "      <td>...</td>\n",
       "      <td>...</td>\n",
       "    </tr>\n",
       "    <tr>\n",
       "      <th>9995</th>\n",
       "      <td>fda approval means nothing realize fda also ap...</td>\n",
       "      <td>5</td>\n",
       "      <td>0.000000</td>\n",
       "      <td>358</td>\n",
       "      <td>0</td>\n",
       "      <td>68</td>\n",
       "      <td>10</td>\n",
       "      <td>0</td>\n",
       "    </tr>\n",
       "    <tr>\n",
       "      <th>9996</th>\n",
       "      <td>epa officials commended koch industries ‘commi...</td>\n",
       "      <td>2785</td>\n",
       "      <td>0.000000</td>\n",
       "      <td>111</td>\n",
       "      <td>3</td>\n",
       "      <td>102</td>\n",
       "      <td>13</td>\n",
       "      <td>0</td>\n",
       "    </tr>\n",
       "    <tr>\n",
       "      <th>9997</th>\n",
       "      <td>dave aronberg first demand bp create billiondo...</td>\n",
       "      <td>2786</td>\n",
       "      <td>0.250000</td>\n",
       "      <td>6</td>\n",
       "      <td>8</td>\n",
       "      <td>71</td>\n",
       "      <td>10</td>\n",
       "      <td>1</td>\n",
       "    </tr>\n",
       "    <tr>\n",
       "      <th>9998</th>\n",
       "      <td>heidi cruz ted’s wife managing director goldma...</td>\n",
       "      <td>5</td>\n",
       "      <td>0.000000</td>\n",
       "      <td>12</td>\n",
       "      <td>0</td>\n",
       "      <td>77</td>\n",
       "      <td>11</td>\n",
       "      <td>0</td>\n",
       "    </tr>\n",
       "    <tr>\n",
       "      <th>9999</th>\n",
       "      <td>says photo pete buttigieg military uniform staged</td>\n",
       "      <td>5</td>\n",
       "      <td>-0.100000</td>\n",
       "      <td>86</td>\n",
       "      <td>0</td>\n",
       "      <td>49</td>\n",
       "      <td>7</td>\n",
       "      <td>0</td>\n",
       "    </tr>\n",
       "  </tbody>\n",
       "</table>\n",
       "<p>10000 rows × 8 columns</p>\n",
       "</div>"
      ],
      "text/plain": [
       "                                              statement  statement_originator  \\\n",
       "0     us embassy celebrates america’s independence j...                     0   \n",
       "1     united states america twentysixth school perfo...                     1   \n",
       "2     says obama administration plans ban weapons us...                     2   \n",
       "3     since texas clean air program achieved percent...                     3   \n",
       "4     led fight require coast guard buy engines us f...                     4   \n",
       "...                                                 ...                   ...   \n",
       "9995  fda approval means nothing realize fda also ap...                     5   \n",
       "9996  epa officials commended koch industries ‘commi...                  2785   \n",
       "9997  dave aronberg first demand bp create billiondo...                  2786   \n",
       "9998  heidi cruz ted’s wife managing director goldma...                     5   \n",
       "9999  says photo pete buttigieg military uniform staged                     5   \n",
       "\n",
       "      polarity  factchecker  statement_source  review_len  word_count  label  \n",
       "0     0.000000            0                 0          75           9      1  \n",
       "1     0.000000            1                 1          58           7      1  \n",
       "2     0.000000            2                 2          78          10      0  \n",
       "3     0.366667            3                 3          93          13      1  \n",
       "4    -0.125000            4                 4          62          10      0  \n",
       "...        ...          ...               ...         ...         ...    ...  \n",
       "9995  0.000000          358                 0          68          10      0  \n",
       "9996  0.000000          111                 3         102          13      0  \n",
       "9997  0.250000            6                 8          71          10      1  \n",
       "9998  0.000000           12                 0          77          11      0  \n",
       "9999 -0.100000           86                 0          49           7      0  \n",
       "\n",
       "[10000 rows x 8 columns]"
      ]
     },
     "execution_count": 57,
     "metadata": {},
     "output_type": "execute_result"
    }
   ],
   "source": [
    "PolitiFact= pd.read_csv(os.path.join(data_dir,'PolitiFact_stp_fS_fe_stm.csv'))\n",
    "PolitiFact"
   ]
  },
  {
   "cell_type": "code",
   "execution_count": 58,
   "id": "b38417a6",
   "metadata": {},
   "outputs": [],
   "source": [
    "train_dataset_adrs= os.path.join(data_dir,'train_data')\n",
    "try:\n",
    "    os.mkdir(train_dataset_adrs)\n",
    "except  FileExistsError:\n",
    "    pass"
   ]
  },
  {
   "cell_type": "markdown",
   "id": "b6a46fe5",
   "metadata": {},
   "source": [
    "## Vectorization news column"
   ]
  },
  {
   "cell_type": "markdown",
   "id": "f10dcea7",
   "metadata": {},
   "source": [
    "### Bag of words"
   ]
  },
  {
   "cell_type": "code",
   "execution_count": 59,
   "id": "1fe9ceb4",
   "metadata": {},
   "outputs": [],
   "source": [
    "# bag of words\n",
    "def bow(data):\n",
    "    # Create a CountVectorizer object\n",
    "    vectorizer = CountVectorizer()\n",
    "    # Fit and transform the \"news\" column\n",
    "    news_vectorized = vectorizer.fit_transform(data['statement'])\n",
    "    # converting rest of features to sparse matrix to and concatenate with news columns which has been just vectorized\n",
    "    rest= csr_matrix(data.drop(['statement', 'label'],axis= 1).values) \n",
    "    vectorized_data= hstack([news_vectorized,rest]) \n",
    "    return vectorized_data\n"
   ]
  },
  {
   "cell_type": "code",
   "execution_count": 60,
   "id": "adff1b62",
   "metadata": {},
   "outputs": [],
   "source": [
    "PolitiFact_bow= bow(PolitiFact)\n",
    "# from now, the name of datasets will be changed based on vectorization techniques\n",
    "#save point 5, PolitiFact bag of words\n",
    "scipy.sparse.save_npz(os.path.join(train_dataset_adrs,'PolitiFact_bow.npz'), PolitiFact_bow)\n",
    "vec_tech_list= ['PolitiFact_bow.npz']"
   ]
  },
  {
   "cell_type": "markdown",
   "id": "b4e080db",
   "metadata": {},
   "source": [
    "### N-gram analysis"
   ]
  },
  {
   "cell_type": "code",
   "execution_count": 61,
   "id": "12b55279",
   "metadata": {},
   "outputs": [],
   "source": [
    "# one gram \n",
    "def one_gram(data):\n",
    "    # Create a CountVectorizer object with unigrams\n",
    "    vectorizer = CountVectorizer(ngram_range=(1, 1))\n",
    "    # Fit and transform the \"news\" column\n",
    "    news_vectorized = vectorizer.fit_transform(data['statement'])\n",
    "    # converting rest of features to sparse matrix to and concatenate with news columns which has been just vectorized\n",
    "    rest= csr_matrix(data.drop(['statement', 'label'], axis= 1).values)\n",
    "    vectorized_data= hstack([news_vectorized,rest])\n",
    "    return vectorized_data"
   ]
  },
  {
   "cell_type": "code",
   "execution_count": 62,
   "id": "9aa76acb",
   "metadata": {},
   "outputs": [],
   "source": [
    "PolitiFact_one_gram= one_gram(PolitiFact)\n",
    "#save point 6, PolitiFact one gram\n",
    "vec_tech_list.append('PolitiFact_one_gram.npz')\n",
    "scipy.sparse.save_npz(os.path.join(train_dataset_adrs,'PolitiFact_one_gram.npz'), PolitiFact_one_gram)"
   ]
  },
  {
   "cell_type": "code",
   "execution_count": null,
   "id": "86b2f726",
   "metadata": {},
   "outputs": [],
   "source": []
  },
  {
   "cell_type": "code",
   "execution_count": 63,
   "id": "d351e5c2",
   "metadata": {},
   "outputs": [],
   "source": [
    "# bigram \n",
    "def bigram(data):\n",
    "    # Create a CountVectorizer object with unigrams\n",
    "    vectorizer = CountVectorizer(ngram_range=(2, 2))\n",
    "    # Fit and transform the \"news\" column\n",
    "    news_vectorized = vectorizer.fit_transform(data['statement'])\n",
    "    # converting rest of features to sparse matrix to and concatenate with news columns which has been just vectorized\n",
    "    rest= csr_matrix(data.drop(['statement', 'label'], axis= 1).values)\n",
    "    vectorized_data= hstack([news_vectorized,rest])\n",
    "    return vectorized_data"
   ]
  },
  {
   "cell_type": "code",
   "execution_count": 64,
   "id": "8eefda7a",
   "metadata": {},
   "outputs": [],
   "source": [
    "PolitiFact_bigram= bigram(PolitiFact)\n",
    "#save point 8, PolitiFact bigram\n",
    "vec_tech_list.append('PolitiFact_bigram.npz')\n",
    "scipy.sparse.save_npz(os.path.join(train_dataset_adrs,'PolitiFact_bigram.npz'), PolitiFact_bigram)"
   ]
  },
  {
   "cell_type": "code",
   "execution_count": null,
   "id": "be51a987",
   "metadata": {},
   "outputs": [],
   "source": []
  },
  {
   "cell_type": "code",
   "execution_count": 65,
   "id": "8a55c711",
   "metadata": {},
   "outputs": [],
   "source": [
    "# trigram \n",
    "def trigram(data):\n",
    "    # Create a CountVectorizer object with trigrams\n",
    "    vectorizer = CountVectorizer(max_features=10000, ngram_range=(3, 3))\n",
    "    # Fit and transform the \"news\" column\n",
    "    news_vectorized = vectorizer.fit_transform(data['statement'])\n",
    "    # converting rest of features to sparse matrix to and concatenate with news columns which has been just vectorized\n",
    "    rest= csr_matrix(data.drop(['statement', 'label'], axis= 1).values)\n",
    "    vectorized_data= hstack([news_vectorized,rest])\n",
    "    return vectorized_data"
   ]
  },
  {
   "cell_type": "code",
   "execution_count": 66,
   "id": "0ffd4f51",
   "metadata": {},
   "outputs": [],
   "source": [
    "PolitiFact_trigram= trigram(PolitiFact)\n",
    "#save point 9, PolitiFact trigram\n",
    "vec_tech_list.append('PolitiFact_trigram.npz')\n",
    "scipy.sparse.save_npz(os.path.join(train_dataset_adrs,'PolitiFact_trigram.npz'), PolitiFact_trigram)"
   ]
  },
  {
   "cell_type": "code",
   "execution_count": null,
   "id": "705d9520",
   "metadata": {},
   "outputs": [],
   "source": []
  },
  {
   "cell_type": "code",
   "execution_count": 67,
   "id": "88a84c8a",
   "metadata": {},
   "outputs": [],
   "source": [
    "# one to trigram \n",
    "def one_to_trigram(data):\n",
    "    # Create a CountVectorizer object with unigrams\n",
    "    vectorizer = CountVectorizer(ngram_range=(1, 3))\n",
    "    # Fit and transform the \"news\" column\n",
    "    news_vectorized = vectorizer.fit_transform(data['statement'])\n",
    "    # converting rest of features to sparse matrix to and concatenate with news columns which has been just vectorized\n",
    "    rest= csr_matrix(data.drop(['statement', 'label'], axis= 1).values)\n",
    "    vectorized_data= hstack([news_vectorized,rest])\n",
    "    return vectorized_data"
   ]
  },
  {
   "cell_type": "code",
   "execution_count": 68,
   "id": "f62b3e95",
   "metadata": {},
   "outputs": [],
   "source": [
    "PolitiFact_one_to_trigram= one_to_trigram(PolitiFact)\n",
    "#save point 10, PolitiFact one to trigram\n",
    "vec_tech_list.append('PolitiFact_one_to_trigram.npz')\n",
    "scipy.sparse.save_npz(os.path.join(train_dataset_adrs,'PolitiFact_one_to_trigram.npz'), PolitiFact_one_to_trigram)"
   ]
  },
  {
   "cell_type": "code",
   "execution_count": 69,
   "id": "a16f40f3",
   "metadata": {},
   "outputs": [],
   "source": [
    "# TFIDF \n",
    "def TFIDF(data):\n",
    "    # Create a TfidfVectorizer object with unigrams and bigrams\n",
    "    vectorizer = TfidfVectorizer( ngram_range=(1, 2))\n",
    "    # Fit and transform the \"news\" column\n",
    "    news_vectorized = vectorizer.fit_transform(data['statement'])\n",
    "    # converting rest of features to sparse matrix to and concatenate with news columns which has been just vectorized\n",
    "    rest= csr_matrix(data.drop(['statement', 'label'], axis= 1).values)\n",
    "    vectorized_data= hstack([news_vectorized,rest])\n",
    "    return vectorized_data"
   ]
  },
  {
   "cell_type": "code",
   "execution_count": 70,
   "id": "baa38ed9",
   "metadata": {},
   "outputs": [],
   "source": [
    "PolitiFact_TFIDF= TFIDF(PolitiFact)\n",
    "#save point 11, PolitiFact TF\n",
    "vec_tech_list.append('PolitiFact_TFIDF.npz')\n",
    "scipy.sparse.save_npz(os.path.join(train_dataset_adrs,'PolitiFact_TFIDF.npz'), PolitiFact_TFIDF)"
   ]
  },
  {
   "cell_type": "code",
   "execution_count": 71,
   "id": "a3040e6b",
   "metadata": {},
   "outputs": [],
   "source": [
    "# Word to Vector\n",
    "def W2V(data):\n",
    "    # Tokenize the text data\n",
    "    tokenized_news = [word_tokenize(news) for news in data['statement']]\n",
    "    # Train Word2Vec model\n",
    "    model = Word2Vec(sentences=tokenized_news, vector_size=100, window=5, min_count=1, sg=0)\n",
    "    news_vectors = [model.wv[words] for words in tokenized_news]\n",
    "    #converting vectorized list to np.array\n",
    "#     news_vectors_array = np.array(news_vectors)\n",
    "    news_vectors_mean = np.array([np.mean(vector_list, axis=0) for vector_list in news_vectors])\n",
    "    rest= data.drop(['statement', 'label'], axis= 1).values\n",
    "    combined_features = np.hstack((news_vectors_mean, rest))\n",
    "    return csr_matrix(combined_features)"
   ]
  },
  {
   "cell_type": "code",
   "execution_count": 72,
   "id": "0c709f7c",
   "metadata": {},
   "outputs": [],
   "source": [
    "PolitiFact_W2V= W2V(PolitiFact)\n",
    "#save point 12, PolitiFact Word to vector\n",
    "vec_tech_list.append('PolitiFact_W2V.npz')\n",
    "scipy.sparse.save_npz(os.path.join(train_dataset_adrs,'PolitiFact_W2V.npz'), PolitiFact_W2V)"
   ]
  },
  {
   "cell_type": "markdown",
   "id": "1bdd889f",
   "metadata": {},
   "source": [
    "### combined vectorization techniques "
   ]
  },
  {
   "cell_type": "code",
   "execution_count": 73,
   "id": "872945cb",
   "metadata": {},
   "outputs": [],
   "source": [
    "# Combine Bag-of-Words and Word2Vec vectorization methods\n",
    "def bow_w2v(data):\n",
    "    # Bag-of-Words (BoW) vectorization\n",
    "    bow_vectorizer = CountVectorizer()\n",
    "    bow_matrix = bow_vectorizer.fit_transform(data['statement']).toarray()\n",
    "    \n",
    "    # Tokenize the text data for Word2Vec\n",
    "    tokenized_news = [word_tokenize(news) for news in data['statement']]\n",
    "    \n",
    "    # Train Word2Vec model\n",
    "    w2v_model = Word2Vec(sentences=tokenized_news, vector_size=100, window=5, min_count=1, sg=0)\n",
    "    \n",
    "    # Compute the mean of word vectors for each news article\n",
    "    w2v_vectors = [np.mean(w2v_model.wv[words], axis=0) for words in tokenized_news]\n",
    "    \n",
    "    # Convert the list of mean vectors to a 2D array\n",
    "    w2v_vectors_array = np.array(w2v_vectors)\n",
    "    # taking rest of selected features\n",
    "    rest= data.drop(['statement', 'label'], axis= 1).values\n",
    "    # Combine BoW and Word2Vec vectors\n",
    "    combined_vectors = np.hstack((bow_matrix, w2v_vectors_array, rest))\n",
    "    \n",
    "    return csr_matrix(combined_vectors)"
   ]
  },
  {
   "cell_type": "code",
   "execution_count": 74,
   "id": "38a0c4e9",
   "metadata": {},
   "outputs": [],
   "source": [
    "# Call the vectorization function\n",
    "PolitiFact_bow_w2v = bow_w2v(PolitiFact)\n",
    "#save point 13, PolitiFact bag of word and  Word to vector combined dataset\n",
    "vec_tech_list.append('PolitiFact_bow_w2v.npz')\n",
    "scipy.sparse.save_npz(os.path.join(train_dataset_adrs,'PolitiFact_bow_w2v.npz'), PolitiFact_bow_w2v)\n"
   ]
  },
  {
   "cell_type": "code",
   "execution_count": null,
   "id": "3b8f9ee7",
   "metadata": {},
   "outputs": [],
   "source": []
  },
  {
   "cell_type": "code",
   "execution_count": 75,
   "id": "e443774a",
   "metadata": {},
   "outputs": [],
   "source": [
    "'''\n",
    "Enhancing the result of Bag-of-Words (BoW) using Word2Vec can be done through\n",
    "a technique known as \"word embedding augmentation.\" The idea is to use the \n",
    "word vectors from Word2Vec to enhance the BoW representation of text. \n",
    "This can capture more semantic information and context compared to traditional BoW.\n",
    "'''\n",
    "def enhanc_bow_w2v(data):\n",
    "    # Create BoW vectors using CountVectorizer\n",
    "    bow_vectorizer = CountVectorizer()\n",
    "    bow_matrix = bow_vectorizer.fit_transform(data['statement']).toarray()\n",
    "\n",
    "    # Tokenize the text data for Word2Vec\n",
    "    tokenized_news = [word_tokenize(news) for news in data['statement']]\n",
    "\n",
    "    # Load a pre-trained Word2Vec model\n",
    "    tokenized_news = [word_tokenize(news) for news in data['statement']]\n",
    "    # Train Word2Vec model\n",
    "    w2v_model = Word2Vec(sentences=tokenized_news, vector_size=100, window=5, min_count=1, sg=0)\n",
    "\n",
    "    # Enhance BoW using Word2Vec\n",
    "    enhanced_bow_matrix = []\n",
    "    for doc_tokens in tokenized_news:\n",
    "        enhanced_bow_vector = np.zeros(len(bow_vectorizer.get_feature_names_out()))\n",
    "        for token in doc_tokens:\n",
    "            if token in w2v_model.wv:\n",
    "                w2v_vector = w2v_model.wv[token]\n",
    "                bow_index = bow_vectorizer.vocabulary_.get(token)\n",
    "                enhanced_bow_vector[bow_index] = np.mean(w2v_vector)\n",
    "        enhanced_bow_matrix.append(enhanced_bow_vector)\n",
    "\n",
    "    enhanced_bow_matrix = np.array(enhanced_bow_matrix)\n",
    "    rest= data.drop(['statement', 'label'], axis= 1).values\n",
    "    # Combine BoW and Word2Vec vectors\n",
    "    combined_vectors = np.hstack((enhanced_bow_matrix, rest))\n",
    "    # Convert the list of enhanced BoW vectors to a NumPy array\n",
    "    return csr_matrix(combined_vectors)\n",
    "\n"
   ]
  },
  {
   "cell_type": "code",
   "execution_count": 76,
   "id": "724671a4",
   "metadata": {},
   "outputs": [],
   "source": [
    "PolitiFact_enhanc_bow_w2v= enhanc_bow_w2v(PolitiFact)\n",
    "#save point 14, PolitiFact bag of word and Word to vector enhanced combined dataset\n",
    "vec_tech_list.append('PolitiFact_enhanc_bow_w2v.npz')\n",
    "scipy.sparse.save_npz(os.path.join(train_dataset_adrs,'PolitiFact_enhanc_bow_w2v.npz'), PolitiFact_enhanc_bow_w2v)"
   ]
  },
  {
   "cell_type": "code",
   "execution_count": null,
   "id": "fb29025a",
   "metadata": {},
   "outputs": [],
   "source": []
  },
  {
   "cell_type": "code",
   "execution_count": 77,
   "id": "cc03804c",
   "metadata": {},
   "outputs": [],
   "source": [
    "# Combine TFIDF and Word2Vec vectorization methods\n",
    "def TFIDF_w2v(data):\n",
    "    # Create a TfidfVectorizer object with unigrams and bigrams\n",
    "    vectorizer = TfidfVectorizer( ngram_range=(1, 2))\n",
    "    # Fit and transform the \"news\" column\n",
    "    TFIDF_vectorized = vectorizer.fit_transform(data['statement'])\n",
    "    # Tokenize the text data for Word2Vec\n",
    "    tokenized_news = [word_tokenize(news) for news in data['statement']]\n",
    "    # Train Word2Vec model\n",
    "    w2v_model = Word2Vec(sentences=tokenized_news, vector_size=100, window=5, min_count=1, sg=0)  \n",
    "    # Compute the mean of word vectors for each news article\n",
    "    w2v_vectors = [np.mean(w2v_model.wv[words], axis=0) for words in tokenized_news]\n",
    "    # Convert the list of mean vectors to a 2D array\n",
    "    w2v_vectors_array = csr_matrix(w2v_vectors)\n",
    "    # taking rest of selected features\n",
    "    rest= csr_matrix(data.drop(['statement', 'label'], axis= 1).values)\n",
    "    # Combine BoW and Word2Vec vectors\n",
    "    combined_vectors = hstack((TFIDF_vectorized, w2v_vectors_array, rest))\n",
    "    \n",
    "    return combined_vectors"
   ]
  },
  {
   "cell_type": "code",
   "execution_count": 78,
   "id": "c2de5947",
   "metadata": {},
   "outputs": [],
   "source": [
    "# Call the vectorization function\n",
    "PolitiFact_TFIDF_w2v = TFIDF_w2v(PolitiFact)\n",
    "#save point 15, PolitiFact TFIDF and  Word to vector combined dataset\n",
    "# vec_tech_list.append('PolitiFact_TFIDF_w2v.npz')\n",
    "scipy.sparse.save_npz(os.path.join(train_dataset_adrs,'PolitiFact_TFIDF_w2v.npz'), PolitiFact_TFIDF_w2v)"
   ]
  },
  {
   "cell_type": "code",
   "execution_count": 79,
   "id": "622f3be2",
   "metadata": {},
   "outputs": [
    {
     "data": {
      "text/plain": [
       "<10000x85359 sparse matrix of type '<class 'numpy.float64'>'\n",
       "\twith 1247626 stored elements in Compressed Sparse Row format>"
      ]
     },
     "execution_count": 79,
     "metadata": {},
     "output_type": "execute_result"
    }
   ],
   "source": [
    "PolitiFact_TFIDF_w2v"
   ]
  },
  {
   "cell_type": "code",
   "execution_count": 80,
   "id": "ffdee522",
   "metadata": {},
   "outputs": [],
   "source": [
    "'''\n",
    "Enhancing the result of TFIDF using Word2Vec can be done through\n",
    "a technique known as \"word embedding augmentation.\" The idea is to use the \n",
    "word vectors from Word2Vec to enhance the BoW representation of text. \n",
    "This can capture more semantic information and context compared to traditional BoW.\n",
    "'''\n",
    "def enhance_TFIDF_w2v(data):\n",
    "    # Create TF-IDF vectors using TfidfVectorizer\n",
    "    tfidf_vectorizer = TfidfVectorizer()\n",
    "    tfidf_matrix = tfidf_vectorizer.fit_transform(data['statement']).toarray()\n",
    "\n",
    "    # Tokenize the text data for Word2Vec\n",
    "    tokenized_news = [word_tokenize(news) for news in data['statement']]\n",
    "\n",
    "    # Load a pre-trained Word2Vec model\n",
    "    tokenized_news = [word_tokenize(news) for news in data['statement']]\n",
    "    # Train Word2Vec model\n",
    "    w2v_model = Word2Vec(sentences=tokenized_news, vector_size=100, window=5, min_count=1, sg=0)\n",
    "\n",
    "    # Enhance BoW using Word2Vec\n",
    "    enhanced_bow_matrix = []\n",
    "    for doc_tokens in tokenized_news:\n",
    "        enhanced_bow_vector = np.zeros(len(tfidf_vectorizer.get_feature_names_out()))\n",
    "        for token in doc_tokens:\n",
    "            if token in w2v_model.wv:\n",
    "                w2v_vector = w2v_model.wv[token]\n",
    "                bow_index = tfidf_vectorizer.vocabulary_.get(token)\n",
    "                enhanced_bow_vector[bow_index] = np.mean(w2v_vector)\n",
    "        enhanced_bow_matrix.append(enhanced_bow_vector)\n",
    "\n",
    "    enhanced_bow_matrix = np.array(enhanced_bow_matrix)\n",
    "    rest= data.drop(['statement', 'label'], axis= 1).values\n",
    "    # Combine BoW and Word2Vec vectors\n",
    "    combined_vectors = np.hstack((enhanced_bow_matrix, rest))\n",
    "    # Convert the list of enhanced BoW vectors to a NumPy array\n",
    "    return csr_matrix(combined_vectors)"
   ]
  },
  {
   "cell_type": "code",
   "execution_count": 81,
   "id": "c1f296e9",
   "metadata": {},
   "outputs": [],
   "source": [
    "PolitiFact_enhance_TFIDF_w2v= enhance_TFIDF_w2v(PolitiFact)\n",
    "# save point 16, PolitiFact bag of word and  Word to vector enhanced combined dataset\n",
    "vec_tech_list.append('PolitiFact_enhance_TFIDF_w2v.npz')\n",
    "scipy.sparse.save_npz(os.path.join(train_dataset_adrs,'PolitiFact_enhance_TFIDF_w2v.npz'), PolitiFact_enhance_TFIDF_w2v)"
   ]
  },
  {
   "cell_type": "code",
   "execution_count": 82,
   "id": "908df72b",
   "metadata": {},
   "outputs": [
    {
     "data": {
      "text/plain": [
       "(10000, 12965)"
      ]
     },
     "execution_count": 82,
     "metadata": {},
     "output_type": "execute_result"
    }
   ],
   "source": [
    "PolitiFact_enhance_TFIDF_w2v.shape"
   ]
  },
  {
   "cell_type": "code",
   "execution_count": 83,
   "id": "a8a57e21",
   "metadata": {},
   "outputs": [
    {
     "data": {
      "text/plain": [
       "(10000,)"
      ]
     },
     "execution_count": 83,
     "metadata": {},
     "output_type": "execute_result"
    }
   ],
   "source": [
    "label= PolitiFact['label']\n",
    "label.shape"
   ]
  },
  {
   "cell_type": "code",
   "execution_count": 84,
   "id": "17fb2c4e",
   "metadata": {},
   "outputs": [],
   "source": [
    "# saving label column in a sperate sparce matrix file\n",
    "label.to_csv(os.path.join(train_dataset_adrs, 'PolitiFact_label.csv'), index= False)"
   ]
  },
  {
   "cell_type": "code",
   "execution_count": 85,
   "id": "368b7a70",
   "metadata": {},
   "outputs": [
    {
     "data": {
      "text/plain": [
       "['PolitiFact_bow.npz',\n",
       " 'PolitiFact_one_gram.npz',\n",
       " 'PolitiFact_bigram.npz',\n",
       " 'PolitiFact_trigram.npz',\n",
       " 'PolitiFact_one_to_trigram.npz',\n",
       " 'PolitiFact_TFIDF.npz',\n",
       " 'PolitiFact_W2V.npz',\n",
       " 'PolitiFact_bow_w2v.npz',\n",
       " 'PolitiFact_enhanc_bow_w2v.npz',\n",
       " 'PolitiFact_TFIDF_w2v.npz',\n",
       " 'PolitiFact_enhance_TFIDF_w2v.npz']"
      ]
     },
     "execution_count": 85,
     "metadata": {},
     "output_type": "execute_result"
    }
   ],
   "source": [
    "vec_tech_list"
   ]
  },
  {
   "cell_type": "code",
   "execution_count": null,
   "id": "bee00899",
   "metadata": {},
   "outputs": [],
   "source": []
  }
 ],
 "metadata": {
  "kernelspec": {
   "display_name": "Python 3 (ipykernel)",
   "language": "python",
   "name": "python3"
  },
  "language_info": {
   "codemirror_mode": {
    "name": "ipython",
    "version": 3
   },
   "file_extension": ".py",
   "mimetype": "text/x-python",
   "name": "python",
   "nbconvert_exporter": "python",
   "pygments_lexer": "ipython3",
   "version": "3.9.13"
  }
 },
 "nbformat": 4,
 "nbformat_minor": 5
}
