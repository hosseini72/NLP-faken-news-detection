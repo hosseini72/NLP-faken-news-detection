{
 "cells": [
  {
   "cell_type": "markdown",
   "id": "247eac14",
   "metadata": {},
   "source": [
    "##  Liar"
   ]
  },
  {
   "cell_type": "code",
   "execution_count": 91,
   "id": "fa4435bd",
   "metadata": {},
   "outputs": [],
   "source": [
    "import numpy as np\n",
    "import pandas as pd\n",
    "import os\n",
    "import nltk\n",
    "import re\n",
    "import string\n",
    "from nltk.corpus import stopwords\n",
    "from nltk import  pos_tag\n",
    "from nltk.stem.porter import PorterStemmer\n",
    "from nltk.tokenize import word_tokenize\n",
    "from gensim.models import Word2Vec\n",
    "\n",
    "\n",
    "from textblob import TextBlob\n",
    "\n",
    "import matplotlib.pyplot as plt \n",
    "from matplotlib import rcParams\n",
    "\n",
    "import seaborn as sns\n",
    "\n",
    "from sklearn.feature_selection import SelectKBest, chi2, mutual_info_classif, f_classif\n",
    "from sklearn.feature_selection import mutual_info_classif\n",
    "\n",
    "from sklearn.preprocessing import StandardScaler\n",
    "\n",
    "\n",
    "from sklearn.linear_model import LogisticRegression\n",
    "\n",
    "from collections import Counter\n",
    "\n",
    "import scipy.sparse  \n",
    "from scipy.sparse import hstack, csr_matrix\n",
    "\n",
    "\n",
    "from sklearn.feature_extraction.text import CountVectorizer\n",
    "from sklearn.feature_extraction.text import TfidfVectorizer\n",
    "\n",
    "\n",
    "from sklearn.model_selection import train_test_split\n",
    "from sklearn.linear_model import Lasso\n",
    "from sklearn.metrics import mean_squared_error\n",
    "\n"
   ]
  },
  {
   "cell_type": "code",
   "execution_count": 2,
   "id": "30f3e654",
   "metadata": {},
   "outputs": [],
   "source": [
    "#nltk.download('averaged_perceptron_tagger')\n",
    "#nltk.download('punkt')\n"
   ]
  },
  {
   "cell_type": "code",
   "execution_count": 3,
   "id": "f067620f",
   "metadata": {},
   "outputs": [],
   "source": [
    "base_dir= '.' \n",
    "dataset= 'liar_dataset'\n",
    "data_dir= os.path.join(base_dir, dataset)"
   ]
  },
  {
   "cell_type": "code",
   "execution_count": 4,
   "id": "c155b8eb",
   "metadata": {},
   "outputs": [],
   "source": [
    "file= 'politifact_factcheck_data.json'\n",
    "adrs= os.path.join(data_dir, file)"
   ]
  },
  {
   "cell_type": "code",
   "execution_count": 5,
   "id": "0bec4692",
   "metadata": {},
   "outputs": [],
   "source": [
    "Liar_train= pd.read_csv(os.path.join(data_dir,'train.tsv'), sep='\\t')\n",
    "Liar_test= pd.read_csv(os.path.join(data_dir, 'test.tsv'), sep='\\t')\n"
   ]
  },
  {
   "cell_type": "markdown",
   "id": "242bed54",
   "metadata": {},
   "source": [
    "## Cleanning Liar"
   ]
  },
  {
   "cell_type": "code",
   "execution_count": 6,
   "id": "56a26538",
   "metadata": {},
   "outputs": [],
   "source": [
    "Liar_train.columns= ['[ID].json','label','statement','subject','speaker',\"speaker's job title\",'state info','party affiliation','barely true counts',\n",
    "'false counts','half true counts','mostly true counts','pants on fire counts','the context']\n",
    "Liar_test.columns= ['[ID].json','label','statement','subject','speaker',\"speaker's job title\",'state info','party affiliation','barely true counts',\n",
    "'false counts','half true counts','mostly true counts','pants on fire counts','the context']"
   ]
  },
  {
   "cell_type": "code",
   "execution_count": 7,
   "id": "27e69915",
   "metadata": {},
   "outputs": [],
   "source": [
    "Liar= pd.concat([Liar_train, Liar_test], axis= 0)\n"
   ]
  },
  {
   "cell_type": "code",
   "execution_count": 8,
   "id": "959881a2",
   "metadata": {},
   "outputs": [
    {
     "data": {
      "text/html": [
       "<div>\n",
       "<style scoped>\n",
       "    .dataframe tbody tr th:only-of-type {\n",
       "        vertical-align: middle;\n",
       "    }\n",
       "\n",
       "    .dataframe tbody tr th {\n",
       "        vertical-align: top;\n",
       "    }\n",
       "\n",
       "    .dataframe thead th {\n",
       "        text-align: right;\n",
       "    }\n",
       "</style>\n",
       "<table border=\"1\" class=\"dataframe\">\n",
       "  <thead>\n",
       "    <tr style=\"text-align: right;\">\n",
       "      <th></th>\n",
       "      <th>[ID].json</th>\n",
       "      <th>label</th>\n",
       "      <th>statement</th>\n",
       "      <th>subject</th>\n",
       "      <th>speaker</th>\n",
       "      <th>speaker's job title</th>\n",
       "      <th>state info</th>\n",
       "      <th>party affiliation</th>\n",
       "      <th>barely true counts</th>\n",
       "      <th>false counts</th>\n",
       "      <th>half true counts</th>\n",
       "      <th>mostly true counts</th>\n",
       "      <th>pants on fire counts</th>\n",
       "      <th>the context</th>\n",
       "    </tr>\n",
       "  </thead>\n",
       "  <tbody>\n",
       "    <tr>\n",
       "      <th>0</th>\n",
       "      <td>10540.json</td>\n",
       "      <td>half-true</td>\n",
       "      <td>When did the decline of coal start? It started...</td>\n",
       "      <td>energy,history,job-accomplishments</td>\n",
       "      <td>scott-surovell</td>\n",
       "      <td>State delegate</td>\n",
       "      <td>Virginia</td>\n",
       "      <td>democrat</td>\n",
       "      <td>0.0</td>\n",
       "      <td>0.0</td>\n",
       "      <td>1.0</td>\n",
       "      <td>1.0</td>\n",
       "      <td>0.0</td>\n",
       "      <td>a floor speech.</td>\n",
       "    </tr>\n",
       "    <tr>\n",
       "      <th>1</th>\n",
       "      <td>324.json</td>\n",
       "      <td>mostly-true</td>\n",
       "      <td>Hillary Clinton agrees with John McCain \"by vo...</td>\n",
       "      <td>foreign-policy</td>\n",
       "      <td>barack-obama</td>\n",
       "      <td>President</td>\n",
       "      <td>Illinois</td>\n",
       "      <td>democrat</td>\n",
       "      <td>70.0</td>\n",
       "      <td>71.0</td>\n",
       "      <td>160.0</td>\n",
       "      <td>163.0</td>\n",
       "      <td>9.0</td>\n",
       "      <td>Denver</td>\n",
       "    </tr>\n",
       "    <tr>\n",
       "      <th>2</th>\n",
       "      <td>1123.json</td>\n",
       "      <td>false</td>\n",
       "      <td>Health care reform legislation is likely to ma...</td>\n",
       "      <td>health-care</td>\n",
       "      <td>blog-posting</td>\n",
       "      <td>NaN</td>\n",
       "      <td>NaN</td>\n",
       "      <td>none</td>\n",
       "      <td>7.0</td>\n",
       "      <td>19.0</td>\n",
       "      <td>3.0</td>\n",
       "      <td>5.0</td>\n",
       "      <td>44.0</td>\n",
       "      <td>a news release</td>\n",
       "    </tr>\n",
       "  </tbody>\n",
       "</table>\n",
       "</div>"
      ],
      "text/plain": [
       "    [ID].json        label                                          statement  \\\n",
       "0  10540.json    half-true  When did the decline of coal start? It started...   \n",
       "1    324.json  mostly-true  Hillary Clinton agrees with John McCain \"by vo...   \n",
       "2   1123.json        false  Health care reform legislation is likely to ma...   \n",
       "\n",
       "                              subject         speaker speaker's job title  \\\n",
       "0  energy,history,job-accomplishments  scott-surovell      State delegate   \n",
       "1                      foreign-policy    barack-obama           President   \n",
       "2                         health-care    blog-posting                 NaN   \n",
       "\n",
       "  state info party affiliation  barely true counts  false counts  \\\n",
       "0   Virginia          democrat                 0.0           0.0   \n",
       "1   Illinois          democrat                70.0          71.0   \n",
       "2        NaN              none                 7.0          19.0   \n",
       "\n",
       "   half true counts  mostly true counts  pants on fire counts      the context  \n",
       "0               1.0                 1.0                   0.0  a floor speech.  \n",
       "1             160.0               163.0                   9.0           Denver  \n",
       "2               3.0                 5.0                  44.0   a news release  "
      ]
     },
     "execution_count": 8,
     "metadata": {},
     "output_type": "execute_result"
    }
   ],
   "source": [
    "Liar.head(3)"
   ]
  },
  {
   "cell_type": "code",
   "execution_count": 9,
   "id": "b602ebb4",
   "metadata": {},
   "outputs": [],
   "source": [
    "Liar['subject']= Liar['subject'].apply(lambda x: str(x).replace(',', ' '))"
   ]
  },
  {
   "cell_type": "code",
   "execution_count": 10,
   "id": "dfc4a290",
   "metadata": {},
   "outputs": [
    {
     "data": {
      "text/html": [
       "<div>\n",
       "<style scoped>\n",
       "    .dataframe tbody tr th:only-of-type {\n",
       "        vertical-align: middle;\n",
       "    }\n",
       "\n",
       "    .dataframe tbody tr th {\n",
       "        vertical-align: top;\n",
       "    }\n",
       "\n",
       "    .dataframe thead th {\n",
       "        text-align: right;\n",
       "    }\n",
       "</style>\n",
       "<table border=\"1\" class=\"dataframe\">\n",
       "  <thead>\n",
       "    <tr style=\"text-align: right;\">\n",
       "      <th></th>\n",
       "      <th>[ID].json</th>\n",
       "      <th>label</th>\n",
       "      <th>statement</th>\n",
       "      <th>subject</th>\n",
       "      <th>speaker</th>\n",
       "      <th>speaker's job title</th>\n",
       "      <th>state info</th>\n",
       "      <th>party affiliation</th>\n",
       "      <th>barely true counts</th>\n",
       "      <th>false counts</th>\n",
       "      <th>half true counts</th>\n",
       "      <th>mostly true counts</th>\n",
       "      <th>pants on fire counts</th>\n",
       "      <th>the context</th>\n",
       "    </tr>\n",
       "  </thead>\n",
       "  <tbody>\n",
       "    <tr>\n",
       "      <th>0</th>\n",
       "      <td>10540.json</td>\n",
       "      <td>half-true</td>\n",
       "      <td>When did the decline of coal start? It started...</td>\n",
       "      <td>energy history job-accomplishments</td>\n",
       "      <td>scott-surovell</td>\n",
       "      <td>State delegate</td>\n",
       "      <td>Virginia</td>\n",
       "      <td>democrat</td>\n",
       "      <td>0.0</td>\n",
       "      <td>0.0</td>\n",
       "      <td>1.0</td>\n",
       "      <td>1.0</td>\n",
       "      <td>0.0</td>\n",
       "      <td>a floor speech.</td>\n",
       "    </tr>\n",
       "    <tr>\n",
       "      <th>1</th>\n",
       "      <td>324.json</td>\n",
       "      <td>mostly-true</td>\n",
       "      <td>Hillary Clinton agrees with John McCain \"by vo...</td>\n",
       "      <td>foreign-policy</td>\n",
       "      <td>barack-obama</td>\n",
       "      <td>President</td>\n",
       "      <td>Illinois</td>\n",
       "      <td>democrat</td>\n",
       "      <td>70.0</td>\n",
       "      <td>71.0</td>\n",
       "      <td>160.0</td>\n",
       "      <td>163.0</td>\n",
       "      <td>9.0</td>\n",
       "      <td>Denver</td>\n",
       "    </tr>\n",
       "    <tr>\n",
       "      <th>2</th>\n",
       "      <td>1123.json</td>\n",
       "      <td>false</td>\n",
       "      <td>Health care reform legislation is likely to ma...</td>\n",
       "      <td>health-care</td>\n",
       "      <td>blog-posting</td>\n",
       "      <td>NaN</td>\n",
       "      <td>NaN</td>\n",
       "      <td>none</td>\n",
       "      <td>7.0</td>\n",
       "      <td>19.0</td>\n",
       "      <td>3.0</td>\n",
       "      <td>5.0</td>\n",
       "      <td>44.0</td>\n",
       "      <td>a news release</td>\n",
       "    </tr>\n",
       "  </tbody>\n",
       "</table>\n",
       "</div>"
      ],
      "text/plain": [
       "    [ID].json        label                                          statement  \\\n",
       "0  10540.json    half-true  When did the decline of coal start? It started...   \n",
       "1    324.json  mostly-true  Hillary Clinton agrees with John McCain \"by vo...   \n",
       "2   1123.json        false  Health care reform legislation is likely to ma...   \n",
       "\n",
       "                              subject         speaker speaker's job title  \\\n",
       "0  energy history job-accomplishments  scott-surovell      State delegate   \n",
       "1                      foreign-policy    barack-obama           President   \n",
       "2                         health-care    blog-posting                 NaN   \n",
       "\n",
       "  state info party affiliation  barely true counts  false counts  \\\n",
       "0   Virginia          democrat                 0.0           0.0   \n",
       "1   Illinois          democrat                70.0          71.0   \n",
       "2        NaN              none                 7.0          19.0   \n",
       "\n",
       "   half true counts  mostly true counts  pants on fire counts      the context  \n",
       "0               1.0                 1.0                   0.0  a floor speech.  \n",
       "1             160.0               163.0                   9.0           Denver  \n",
       "2               3.0                 5.0                  44.0   a news release  "
      ]
     },
     "execution_count": 10,
     "metadata": {},
     "output_type": "execute_result"
    }
   ],
   "source": [
    "Liar.head(3)"
   ]
  },
  {
   "cell_type": "code",
   "execution_count": 11,
   "id": "1a0c3fb4",
   "metadata": {},
   "outputs": [
    {
     "data": {
      "text/plain": [
       "Texas             1131\n",
       "Florida           1114\n",
       "Wisconsin          814\n",
       "New York           742\n",
       "Illinois           624\n",
       "                  ... \n",
       "United Kingdom       1\n",
       "China                1\n",
       "Rhode island         1\n",
       "New Hampshire        1\n",
       "Rhode Island         1\n",
       "Name: state info, Length: 84, dtype: int64"
      ]
     },
     "execution_count": 11,
     "metadata": {},
     "output_type": "execute_result"
    }
   ],
   "source": [
    "count_of_source =Liar['state info'].value_counts()\n",
    "count_of_source"
   ]
  },
  {
   "cell_type": "code",
   "execution_count": 12,
   "id": "59c38dca",
   "metadata": {},
   "outputs": [
    {
     "data": {
      "text/plain": [
       "Texas             1131\n",
       "Florida           1114\n",
       "Wisconsin          814\n",
       "New York           742\n",
       "Illinois           624\n",
       "                  ... \n",
       "United Kingdom       1\n",
       "China                1\n",
       "Rhode island         1\n",
       "New Hampshire        1\n",
       "Rhode Island         1\n",
       "Name: state info, Length: 84, dtype: int64"
      ]
     },
     "execution_count": 12,
     "metadata": {},
     "output_type": "execute_result"
    }
   ],
   "source": [
    "count_of_source =Liar['state info'].value_counts()\n",
    "count_of_source"
   ]
  },
  {
   "cell_type": "code",
   "execution_count": 13,
   "id": "1262e3ce",
   "metadata": {},
   "outputs": [
    {
     "data": {
      "text/plain": [
       "republican                      5066\n",
       "democrat                        3742\n",
       "none                            1958\n",
       "organization                     246\n",
       "independent                      161\n",
       "newsmaker                         57\n",
       "journalist                        47\n",
       "libertarian                       45\n",
       "columnist                         42\n",
       "activist                          41\n",
       "talk-show-host                    29\n",
       "state-official                    24\n",
       "labor-leader                      11\n",
       "business-leader                   10\n",
       "tea-party-member                  10\n",
       "green                              3\n",
       "education-official                 2\n",
       "government-body                    2\n",
       "constitution-party                 2\n",
       "liberal-party-canada               1\n",
       "Moderate                           1\n",
       "democratic-farmer-labor            1\n",
       "ocean-state-tea-party-action       1\n",
       "county-commissioner                1\n",
       "Name: party affiliation, dtype: int64"
      ]
     },
     "execution_count": 13,
     "metadata": {},
     "output_type": "execute_result"
    }
   ],
   "source": [
    "count_of_source =Liar['party affiliation'].value_counts()\n",
    "count_of_source"
   ]
  },
  {
   "cell_type": "code",
   "execution_count": 14,
   "id": "dce40733",
   "metadata": {},
   "outputs": [],
   "source": [
    "# merging two columns \n",
    "Liar['news']= Liar['subject']+ Liar['statement']"
   ]
  },
  {
   "cell_type": "code",
   "execution_count": 15,
   "id": "46926877",
   "metadata": {},
   "outputs": [],
   "source": [
    "# factorizing, converting some columns text to code \n",
    "Liar[\"speaker\"] = pd.factorize(Liar[\"speaker\"])[0]\n",
    "Liar[\"speaker's job title\"] = pd.factorize(Liar[\"speaker's job title\"])[0]\n",
    "Liar[\"state info\"]= pd.factorize(Liar['state info'])[0]\n",
    "Liar[\"party affiliation\"]= pd.factorize(Liar['party affiliation'])[0]\n",
    "Liar[\"the context\"]= pd.factorize(Liar['the context'])[0]\n"
   ]
  },
  {
   "cell_type": "code",
   "execution_count": 16,
   "id": "e04f8792",
   "metadata": {},
   "outputs": [],
   "source": [
    "Liar.drop(['[ID].json', 'subject','statement', 'barely true counts', \n",
    "           'false counts','half true counts', 'mostly true counts',\n",
    "          'pants on fire counts'], inplace= True ,   axis= 1)"
   ]
  },
  {
   "cell_type": "code",
   "execution_count": 17,
   "id": "f8f1dcb9",
   "metadata": {},
   "outputs": [
    {
     "data": {
      "text/html": [
       "<div>\n",
       "<style scoped>\n",
       "    .dataframe tbody tr th:only-of-type {\n",
       "        vertical-align: middle;\n",
       "    }\n",
       "\n",
       "    .dataframe tbody tr th {\n",
       "        vertical-align: top;\n",
       "    }\n",
       "\n",
       "    .dataframe thead th {\n",
       "        text-align: right;\n",
       "    }\n",
       "</style>\n",
       "<table border=\"1\" class=\"dataframe\">\n",
       "  <thead>\n",
       "    <tr style=\"text-align: right;\">\n",
       "      <th></th>\n",
       "      <th>label</th>\n",
       "      <th>speaker</th>\n",
       "      <th>speaker's job title</th>\n",
       "      <th>state info</th>\n",
       "      <th>party affiliation</th>\n",
       "      <th>the context</th>\n",
       "      <th>news</th>\n",
       "    </tr>\n",
       "  </thead>\n",
       "  <tbody>\n",
       "    <tr>\n",
       "      <th>0</th>\n",
       "      <td>half-true</td>\n",
       "      <td>0</td>\n",
       "      <td>0</td>\n",
       "      <td>0</td>\n",
       "      <td>0</td>\n",
       "      <td>0</td>\n",
       "      <td>energy history job-accomplishmentsWhen did the...</td>\n",
       "    </tr>\n",
       "    <tr>\n",
       "      <th>1</th>\n",
       "      <td>mostly-true</td>\n",
       "      <td>1</td>\n",
       "      <td>1</td>\n",
       "      <td>1</td>\n",
       "      <td>0</td>\n",
       "      <td>1</td>\n",
       "      <td>foreign-policyHillary Clinton agrees with John...</td>\n",
       "    </tr>\n",
       "  </tbody>\n",
       "</table>\n",
       "</div>"
      ],
      "text/plain": [
       "         label  speaker  speaker's job title  state info  party affiliation  \\\n",
       "0    half-true        0                    0           0                  0   \n",
       "1  mostly-true        1                    1           1                  0   \n",
       "\n",
       "   the context                                               news  \n",
       "0            0  energy history job-accomplishmentsWhen did the...  \n",
       "1            1  foreign-policyHillary Clinton agrees with John...  "
      ]
     },
     "execution_count": 17,
     "metadata": {},
     "output_type": "execute_result"
    }
   ],
   "source": [
    "Liar.head(2)"
   ]
  },
  {
   "cell_type": "code",
   "execution_count": 18,
   "id": "53ee4e0b",
   "metadata": {},
   "outputs": [
    {
     "data": {
      "text/plain": [
       "half-true      2379\n",
       "false          2243\n",
       "mostly-true    2203\n",
       "true           1883\n",
       "barely-true    1866\n",
       "pants-fire      931\n",
       "Name: label, dtype: int64"
      ]
     },
     "execution_count": 18,
     "metadata": {},
     "output_type": "execute_result"
    }
   ],
   "source": [
    "Liar['label'].value_counts()"
   ]
  },
  {
   "cell_type": "code",
   "execution_count": 19,
   "id": "193376d2",
   "metadata": {},
   "outputs": [],
   "source": [
    "# Labeling \n",
    "mask= Liar['label'].str.contains('barely-true', case= False)\n",
    "Liar.loc[mask, 'label'] = 'false' # change barely-true lable to False \n",
    "\n",
    "mask= Liar['label'].str.contains('true', case= False)\n",
    "Liar.loc[mask, 'label'] = 1  # Real\n",
    "\n",
    "mask= Liar['label']!= 1\n",
    "Liar.loc[mask, 'label'] = 0 # Fake"
   ]
  },
  {
   "cell_type": "code",
   "execution_count": 20,
   "id": "0fe9c0fb",
   "metadata": {},
   "outputs": [
    {
     "data": {
      "text/html": [
       "<div>\n",
       "<style scoped>\n",
       "    .dataframe tbody tr th:only-of-type {\n",
       "        vertical-align: middle;\n",
       "    }\n",
       "\n",
       "    .dataframe tbody tr th {\n",
       "        vertical-align: top;\n",
       "    }\n",
       "\n",
       "    .dataframe thead th {\n",
       "        text-align: right;\n",
       "    }\n",
       "</style>\n",
       "<table border=\"1\" class=\"dataframe\">\n",
       "  <thead>\n",
       "    <tr style=\"text-align: right;\">\n",
       "      <th></th>\n",
       "      <th>label</th>\n",
       "      <th>speaker</th>\n",
       "      <th>speaker's job title</th>\n",
       "      <th>state info</th>\n",
       "      <th>party affiliation</th>\n",
       "      <th>the context</th>\n",
       "      <th>news</th>\n",
       "    </tr>\n",
       "  </thead>\n",
       "  <tbody>\n",
       "    <tr>\n",
       "      <th>0</th>\n",
       "      <td>1</td>\n",
       "      <td>0</td>\n",
       "      <td>0</td>\n",
       "      <td>0</td>\n",
       "      <td>0</td>\n",
       "      <td>0</td>\n",
       "      <td>energy history job-accomplishmentsWhen did the...</td>\n",
       "    </tr>\n",
       "    <tr>\n",
       "      <th>1</th>\n",
       "      <td>1</td>\n",
       "      <td>1</td>\n",
       "      <td>1</td>\n",
       "      <td>1</td>\n",
       "      <td>0</td>\n",
       "      <td>1</td>\n",
       "      <td>foreign-policyHillary Clinton agrees with John...</td>\n",
       "    </tr>\n",
       "  </tbody>\n",
       "</table>\n",
       "</div>"
      ],
      "text/plain": [
       "  label  speaker  speaker's job title  state info  party affiliation  \\\n",
       "0     1        0                    0           0                  0   \n",
       "1     1        1                    1           1                  0   \n",
       "\n",
       "   the context                                               news  \n",
       "0            0  energy history job-accomplishmentsWhen did the...  \n",
       "1            1  foreign-policyHillary Clinton agrees with John...  "
      ]
     },
     "execution_count": 20,
     "metadata": {},
     "output_type": "execute_result"
    }
   ],
   "source": [
    "Liar.head(2)"
   ]
  },
  {
   "cell_type": "code",
   "execution_count": 21,
   "id": "798bc720",
   "metadata": {},
   "outputs": [],
   "source": [
    "#save point one\n",
    "Liar.to_csv(os.path.join(data_dir, 'Liar.csv'), index=False)"
   ]
  },
  {
   "cell_type": "markdown",
   "id": "fd176681",
   "metadata": {},
   "source": [
    "# Stopwords"
   ]
  },
  {
   "cell_type": "code",
   "execution_count": 22,
   "id": "e9378038",
   "metadata": {},
   "outputs": [],
   "source": [
    "#task2 : remove marks and stopwords\n",
    "# defining a funtion to make the lowercase and remove links, square brackets, punctuation and words contianing numbers \n",
    "def review_cleaning(text):\n",
    "    '''\n",
    "    make the lowercase and remove links, square brackets, punctuation and words contianing numbers.  \n",
    "    '''\n",
    "    text = str(text).lower()\n",
    "    text = re.sub('\\[.*?\\]', '', text)\n",
    "    text = re.sub('https?://\\S+|www\\.\\S+', '', text)\n",
    "    text = re.sub('<.*?>+', '', text)\n",
    "    text = re.sub('[%s]' % re.escape(string.punctuation), '', text)\n",
    "    text = re.sub('\\n', '', text)\n",
    "    text = re.sub('\\w*\\d\\w*', '', text)\n",
    "    text = re.sub(',()''', '', text)\n",
    "    return text"
   ]
  },
  {
   "cell_type": "code",
   "execution_count": 23,
   "id": "ae0e93f9",
   "metadata": {},
   "outputs": [],
   "source": [
    "# Tokenization and stopword\n",
    "stop = stopwords.words('english')\n",
    "\n",
    "Liar['news'] = Liar['news'].apply(lambda text: review_cleaning(text))\n",
    "\n",
    "Liar['news']= Liar['news'].apply(lambda x: ' '.join([word for word in x.split() if word not in (stop)]))\n"
   ]
  },
  {
   "cell_type": "code",
   "execution_count": 24,
   "id": "3963b0e1",
   "metadata": {},
   "outputs": [],
   "source": [
    "# Applying Part of Speech\n",
    "Liar['news']= pos_tag(Liar['news'])"
   ]
  },
  {
   "cell_type": "code",
   "execution_count": 25,
   "id": "2c5051f9",
   "metadata": {},
   "outputs": [],
   "source": [
    "# Save point 2 \n",
    "Liar.to_csv(os.path.join(data_dir,'Liar_Stpwrd.csv'), index=False)"
   ]
  },
  {
   "cell_type": "code",
   "execution_count": 26,
   "id": "344d6bae",
   "metadata": {},
   "outputs": [],
   "source": [
    "## EDA "
   ]
  },
  {
   "cell_type": "code",
   "execution_count": 27,
   "id": "ba597065",
   "metadata": {},
   "outputs": [],
   "source": [
    "# Liar_Stpwrd after stopword and tokenization\n",
    "Liar= pd.read_csv(os.path.join(data_dir,'Liar_Stpwrd.csv'))\n"
   ]
  },
  {
   "cell_type": "code",
   "execution_count": 28,
   "id": "e1a2b024",
   "metadata": {},
   "outputs": [
    {
     "data": {
      "text/html": [
       "<div>\n",
       "<style scoped>\n",
       "    .dataframe tbody tr th:only-of-type {\n",
       "        vertical-align: middle;\n",
       "    }\n",
       "\n",
       "    .dataframe tbody tr th {\n",
       "        vertical-align: top;\n",
       "    }\n",
       "\n",
       "    .dataframe thead th {\n",
       "        text-align: right;\n",
       "    }\n",
       "</style>\n",
       "<table border=\"1\" class=\"dataframe\">\n",
       "  <thead>\n",
       "    <tr style=\"text-align: right;\">\n",
       "      <th></th>\n",
       "      <th>label</th>\n",
       "      <th>speaker</th>\n",
       "      <th>speaker's job title</th>\n",
       "      <th>state info</th>\n",
       "      <th>party affiliation</th>\n",
       "      <th>the context</th>\n",
       "      <th>news</th>\n",
       "    </tr>\n",
       "  </thead>\n",
       "  <tbody>\n",
       "    <tr>\n",
       "      <th>0</th>\n",
       "      <td>1</td>\n",
       "      <td>0</td>\n",
       "      <td>0</td>\n",
       "      <td>0</td>\n",
       "      <td>0</td>\n",
       "      <td>0</td>\n",
       "      <td>('energy history jobaccomplishmentswhen declin...</td>\n",
       "    </tr>\n",
       "    <tr>\n",
       "      <th>1</th>\n",
       "      <td>1</td>\n",
       "      <td>1</td>\n",
       "      <td>1</td>\n",
       "      <td>1</td>\n",
       "      <td>0</td>\n",
       "      <td>1</td>\n",
       "      <td>('foreignpolicyhillary clinton agrees john mcc...</td>\n",
       "    </tr>\n",
       "    <tr>\n",
       "      <th>2</th>\n",
       "      <td>0</td>\n",
       "      <td>2</td>\n",
       "      <td>-1</td>\n",
       "      <td>-1</td>\n",
       "      <td>1</td>\n",
       "      <td>2</td>\n",
       "      <td>('healthcarehealth care reform legislation lik...</td>\n",
       "    </tr>\n",
       "    <tr>\n",
       "      <th>3</th>\n",
       "      <td>1</td>\n",
       "      <td>3</td>\n",
       "      <td>-1</td>\n",
       "      <td>2</td>\n",
       "      <td>0</td>\n",
       "      <td>3</td>\n",
       "      <td>('economy jobsthe economic turnaround started ...</td>\n",
       "    </tr>\n",
       "    <tr>\n",
       "      <th>4</th>\n",
       "      <td>1</td>\n",
       "      <td>4</td>\n",
       "      <td>2</td>\n",
       "      <td>3</td>\n",
       "      <td>2</td>\n",
       "      <td>4</td>\n",
       "      <td>('educationthe chicago bears starting quarterb...</td>\n",
       "    </tr>\n",
       "  </tbody>\n",
       "</table>\n",
       "</div>"
      ],
      "text/plain": [
       "   label  speaker  speaker's job title  state info  party affiliation  \\\n",
       "0      1        0                    0           0                  0   \n",
       "1      1        1                    1           1                  0   \n",
       "2      0        2                   -1          -1                  1   \n",
       "3      1        3                   -1           2                  0   \n",
       "4      1        4                    2           3                  2   \n",
       "\n",
       "   the context                                               news  \n",
       "0            0  ('energy history jobaccomplishmentswhen declin...  \n",
       "1            1  ('foreignpolicyhillary clinton agrees john mcc...  \n",
       "2            2  ('healthcarehealth care reform legislation lik...  \n",
       "3            3  ('economy jobsthe economic turnaround started ...  \n",
       "4            4  ('educationthe chicago bears starting quarterb...  "
      ]
     },
     "execution_count": 28,
     "metadata": {},
     "output_type": "execute_result"
    }
   ],
   "source": [
    "Liar.head()"
   ]
  },
  {
   "cell_type": "code",
   "execution_count": 29,
   "id": "5df885f0",
   "metadata": {},
   "outputs": [
    {
     "data": {
      "text/plain": [
       "[]"
      ]
     },
     "execution_count": 29,
     "metadata": {},
     "output_type": "execute_result"
    }
   ],
   "source": [
    "# finding columns which has NaN\n",
    "columns_with_nan = Liar.columns[Liar.isnull().any()].tolist()\n",
    "columns_with_nan"
   ]
  },
  {
   "cell_type": "code",
   "execution_count": 30,
   "id": "9594179a",
   "metadata": {},
   "outputs": [],
   "source": [
    "# fill NaNs with zeros\n",
    "Liar = Liar.fillna(Liar.mean(numeric_only=True))\n"
   ]
  },
  {
   "cell_type": "code",
   "execution_count": 31,
   "id": "85579ba8",
   "metadata": {},
   "outputs": [
    {
     "data": {
      "text/plain": [
       "Index(['news'], dtype='object')"
      ]
     },
     "execution_count": 31,
     "metadata": {},
     "output_type": "execute_result"
    }
   ],
   "source": [
    "non_numeric_columns = Liar.select_dtypes(exclude=['number']).columns\n",
    "non_numeric_columns"
   ]
  },
  {
   "cell_type": "markdown",
   "id": "59f2e473",
   "metadata": {},
   "source": [
    "## Feature Extraction"
   ]
  },
  {
   "cell_type": "code",
   "execution_count": 32,
   "id": "517d5c7e",
   "metadata": {},
   "outputs": [],
   "source": [
    "def feature_extraction(News, column):\n",
    "    #Extracting the features from the news\n",
    "    News['polarity'] = News[column].map(lambda text: TextBlob(str(text)).sentiment.polarity)\n",
    "    News['review_len'] = News[column].astype(str).apply(len)\n",
    "    News['word_count'] = News[column].apply(lambda x: len(str(x).split()))\n",
    "\n",
    "    #Plotting the distribution of the extracted feature\n",
    "    plt.figure(figsize = (20, 5))\n",
    "    plt.style.use('seaborn-white')\n",
    "    plt.subplot(131)\n",
    "    sns.distplot(News['polarity'])\n",
    "    fig = plt.gcf()\n",
    "    plt.subplot(132)\n",
    "    sns.distplot(News['review_len'])\n",
    "    fig = plt.gcf()\n",
    "    plt.subplot(133)\n",
    "    sns.distplot(News['word_count'])\n",
    "    fig = plt.gcf();"
   ]
  },
  {
   "cell_type": "code",
   "execution_count": 33,
   "id": "98304201",
   "metadata": {},
   "outputs": [
    {
     "name": "stderr",
     "output_type": "stream",
     "text": [
      "C:\\Users\\mahmoud\\AppData\\Local\\Temp\\ipykernel_6976\\1703162373.py:9: MatplotlibDeprecationWarning: The seaborn styles shipped by Matplotlib are deprecated since 3.6, as they no longer correspond to the styles shipped by seaborn. However, they will remain available as 'seaborn-v0_8-<style>'. Alternatively, directly use the seaborn API instead.\n",
      "  plt.style.use('seaborn-white')\n",
      "C:\\Users\\mahmoud\\anaconda3\\lib\\site-packages\\seaborn\\distributions.py:2619: FutureWarning: `distplot` is a deprecated function and will be removed in a future version. Please adapt your code to use either `displot` (a figure-level function with similar flexibility) or `histplot` (an axes-level function for histograms).\n",
      "  warnings.warn(msg, FutureWarning)\n",
      "C:\\Users\\mahmoud\\anaconda3\\lib\\site-packages\\seaborn\\distributions.py:2619: FutureWarning: `distplot` is a deprecated function and will be removed in a future version. Please adapt your code to use either `displot` (a figure-level function with similar flexibility) or `histplot` (an axes-level function for histograms).\n",
      "  warnings.warn(msg, FutureWarning)\n",
      "C:\\Users\\mahmoud\\anaconda3\\lib\\site-packages\\seaborn\\distributions.py:2619: FutureWarning: `distplot` is a deprecated function and will be removed in a future version. Please adapt your code to use either `displot` (a figure-level function with similar flexibility) or `histplot` (an axes-level function for histograms).\n",
      "  warnings.warn(msg, FutureWarning)\n"
     ]
    },
    {
     "data": {
      "image/png": "[encoded data removed]",
      "text/plain": [
       "<Figure size 2000x500 with 3 Axes>"
      ]
     },
     "metadata": {},
     "output_type": "display_data"
    }
   ],
   "source": [
    "feature_extraction(Liar, 'news')"
   ]
  },
  {
   "cell_type": "code",
   "execution_count": 34,
   "id": "c9132ce2",
   "metadata": {},
   "outputs": [
    {
     "data": {
      "text/html": [
       "<div>\n",
       "<style scoped>\n",
       "    .dataframe tbody tr th:only-of-type {\n",
       "        vertical-align: middle;\n",
       "    }\n",
       "\n",
       "    .dataframe tbody tr th {\n",
       "        vertical-align: top;\n",
       "    }\n",
       "\n",
       "    .dataframe thead th {\n",
       "        text-align: right;\n",
       "    }\n",
       "</style>\n",
       "<table border=\"1\" class=\"dataframe\">\n",
       "  <thead>\n",
       "    <tr style=\"text-align: right;\">\n",
       "      <th></th>\n",
       "      <th>label</th>\n",
       "      <th>speaker</th>\n",
       "      <th>speaker's job title</th>\n",
       "      <th>state info</th>\n",
       "      <th>party affiliation</th>\n",
       "      <th>the context</th>\n",
       "      <th>news</th>\n",
       "      <th>polarity</th>\n",
       "      <th>review_len</th>\n",
       "      <th>word_count</th>\n",
       "    </tr>\n",
       "  </thead>\n",
       "  <tbody>\n",
       "    <tr>\n",
       "      <th>0</th>\n",
       "      <td>1</td>\n",
       "      <td>0</td>\n",
       "      <td>0</td>\n",
       "      <td>0</td>\n",
       "      <td>0</td>\n",
       "      <td>0</td>\n",
       "      <td>('energy history jobaccomplishmentswhen declin...</td>\n",
       "      <td>0.1</td>\n",
       "      <td>145</td>\n",
       "      <td>18</td>\n",
       "    </tr>\n",
       "    <tr>\n",
       "      <th>1</th>\n",
       "      <td>1</td>\n",
       "      <td>1</td>\n",
       "      <td>1</td>\n",
       "      <td>1</td>\n",
       "      <td>0</td>\n",
       "      <td>1</td>\n",
       "      <td>('foreignpolicyhillary clinton agrees john mcc...</td>\n",
       "      <td>0.0</td>\n",
       "      <td>100</td>\n",
       "      <td>13</td>\n",
       "    </tr>\n",
       "    <tr>\n",
       "      <th>2</th>\n",
       "      <td>0</td>\n",
       "      <td>2</td>\n",
       "      <td>-1</td>\n",
       "      <td>-1</td>\n",
       "      <td>1</td>\n",
       "      <td>2</td>\n",
       "      <td>('healthcarehealth care reform legislation lik...</td>\n",
       "      <td>0.2</td>\n",
       "      <td>92</td>\n",
       "      <td>11</td>\n",
       "    </tr>\n",
       "  </tbody>\n",
       "</table>\n",
       "</div>"
      ],
      "text/plain": [
       "   label  speaker  speaker's job title  state info  party affiliation  \\\n",
       "0      1        0                    0           0                  0   \n",
       "1      1        1                    1           1                  0   \n",
       "2      0        2                   -1          -1                  1   \n",
       "\n",
       "   the context                                               news  polarity  \\\n",
       "0            0  ('energy history jobaccomplishmentswhen declin...       0.1   \n",
       "1            1  ('foreignpolicyhillary clinton agrees john mcc...       0.0   \n",
       "2            2  ('healthcarehealth care reform legislation lik...       0.2   \n",
       "\n",
       "   review_len  word_count  \n",
       "0         145          18  \n",
       "1         100          13  \n",
       "2          92          11  "
      ]
     },
     "execution_count": 34,
     "metadata": {},
     "output_type": "execute_result"
    }
   ],
   "source": [
    "Liar.head(3)"
   ]
  },
  {
   "cell_type": "markdown",
   "id": "024db1c0",
   "metadata": {},
   "source": [
    "## Feature selection\n",
    "#### Filter method"
   ]
  },
  {
   "cell_type": "code",
   "execution_count": 35,
   "id": "265391ea",
   "metadata": {},
   "outputs": [
    {
     "data": {
      "text/html": [
       "<div>\n",
       "<style scoped>\n",
       "    .dataframe tbody tr th:only-of-type {\n",
       "        vertical-align: middle;\n",
       "    }\n",
       "\n",
       "    .dataframe tbody tr th {\n",
       "        vertical-align: top;\n",
       "    }\n",
       "\n",
       "    .dataframe thead th {\n",
       "        text-align: right;\n",
       "    }\n",
       "</style>\n",
       "<table border=\"1\" class=\"dataframe\">\n",
       "  <thead>\n",
       "    <tr style=\"text-align: right;\">\n",
       "      <th></th>\n",
       "      <th>speaker</th>\n",
       "      <th>speaker's job title</th>\n",
       "      <th>state info</th>\n",
       "      <th>party affiliation</th>\n",
       "      <th>the context</th>\n",
       "      <th>polarity</th>\n",
       "      <th>review_len</th>\n",
       "      <th>word_count</th>\n",
       "    </tr>\n",
       "  </thead>\n",
       "  <tbody>\n",
       "    <tr>\n",
       "      <th>0</th>\n",
       "      <td>0</td>\n",
       "      <td>0</td>\n",
       "      <td>0</td>\n",
       "      <td>0</td>\n",
       "      <td>0</td>\n",
       "      <td>0.1</td>\n",
       "      <td>145</td>\n",
       "      <td>18</td>\n",
       "    </tr>\n",
       "    <tr>\n",
       "      <th>1</th>\n",
       "      <td>1</td>\n",
       "      <td>1</td>\n",
       "      <td>1</td>\n",
       "      <td>0</td>\n",
       "      <td>1</td>\n",
       "      <td>0.0</td>\n",
       "      <td>100</td>\n",
       "      <td>13</td>\n",
       "    </tr>\n",
       "  </tbody>\n",
       "</table>\n",
       "</div>"
      ],
      "text/plain": [
       "   speaker  speaker's job title  state info  party affiliation  the context  \\\n",
       "0        0                    0           0                  0            0   \n",
       "1        1                    1           1                  0            1   \n",
       "\n",
       "   polarity  review_len  word_count  \n",
       "0       0.1         145          18  \n",
       "1       0.0         100          13  "
      ]
     },
     "execution_count": 35,
     "metadata": {},
     "output_type": "execute_result"
    }
   ],
   "source": [
    "features= Liar.drop(['news', 'label'], axis= 1)\n",
    "features.head(2)"
   ]
  },
  {
   "cell_type": "code",
   "execution_count": 36,
   "id": "377cec0c",
   "metadata": {},
   "outputs": [
    {
     "data": {
      "text/plain": [
       "{'party affiliation',\n",
       " 'polarity',\n",
       " 'speaker',\n",
       " \"speaker's job title\",\n",
       " 'state info',\n",
       " 'the context'}"
      ]
     },
     "execution_count": 36,
     "metadata": {},
     "output_type": "execute_result"
    }
   ],
   "source": [
    "# mutual_info_classif for feature selection\n",
    "k_best_mi = SelectKBest(mutual_info_classif, k=6)  # Select top 6 features\n",
    "features_selected_mi = k_best_mi.fit_transform(features, Liar['label'])\n",
    "# features_selected_mi\n",
    "selected_feature_indices = k_best_mi.get_support(indices=True)\n",
    "selected_column_mi = set(features.columns[selected_feature_indices])\n",
    "selected_column_mi"
   ]
  },
  {
   "cell_type": "code",
   "execution_count": 37,
   "id": "4c2235cd",
   "metadata": {},
   "outputs": [
    {
     "data": {
      "text/plain": [
       "{'party affiliation',\n",
       " 'polarity',\n",
       " 'speaker',\n",
       " \"speaker's job title\",\n",
       " 'state info',\n",
       " 'the context'}"
      ]
     },
     "execution_count": 37,
     "metadata": {},
     "output_type": "execute_result"
    }
   ],
   "source": [
    "# f_classif for feature selection\n",
    "k_best_f = SelectKBest(f_classif, k=6)  # Select top 6 features\n",
    "X_selected_f = k_best_f.fit_transform(features, Liar['label'])\n",
    "selected_feature_indices = k_best_mi.get_support(indices=True)\n",
    "selected_column_f_class = set(features.columns[selected_feature_indices])\n",
    "selected_column_f_class"
   ]
  },
  {
   "cell_type": "code",
   "execution_count": 38,
   "id": "665e6cd3",
   "metadata": {},
   "outputs": [
    {
     "data": {
      "text/plain": [
       "{'party affiliation',\n",
       " 'polarity',\n",
       " 'review_len',\n",
       " \"speaker's job title\",\n",
       " 'state info',\n",
       " 'word_count'}"
      ]
     },
     "execution_count": 38,
     "metadata": {},
     "output_type": "execute_result"
    }
   ],
   "source": [
    "# LASSO (L1 regularization) for feature selection\n",
    "lasso_model = LogisticRegression(penalty='l1', solver='liblinear')\n",
    "lasso_model.fit(features, Liar['label'])\n",
    "# Get the absolute values of the coefficients\n",
    "abs_coef = abs(lasso_model.coef_[0])\n",
    "\n",
    "# Get the indices of the three largest coefficients (features with highest absolute coefficient values)\n",
    "top_3_indices = abs_coef.argsort()[-6:][::-1]\n",
    "\n",
    "# Get the names of the three best features\n",
    "selected_features_lasso = features.columns[top_3_indices]\n",
    "\n",
    "# Create the final feature matrix with the three selected features\n",
    "features_selected_lasso = set(features[selected_features_lasso])\n",
    "\n",
    "features_selected_lasso"
   ]
  },
  {
   "cell_type": "code",
   "execution_count": 39,
   "id": "1fbe6b2a",
   "metadata": {},
   "outputs": [
    {
     "data": {
      "text/plain": [
       "{'label', 'party affiliation', 'state info', 'word_count'}"
      ]
     },
     "execution_count": 39,
     "metadata": {},
     "output_type": "execute_result"
    }
   ],
   "source": [
    "# \n",
    "# Calculate the correlation matrix\n",
    "features= Liar.drop(['news'], axis= 1)\n",
    "correlation_matrix = features.corr()\n",
    "\n",
    "# Select features with high correlation to the target variable (absolute correlation values)\n",
    "threshold = 0.015  \n",
    "selected_features_corr = correlation_matrix[abs(correlation_matrix['label']) > threshold].index\n",
    "\n",
    "# Create the final feature matrix\n",
    "features_selected_corr = set(features[selected_features_corr])\n",
    "features_selected_corr"
   ]
  },
  {
   "cell_type": "markdown",
   "id": "5cb0f91f",
   "metadata": {},
   "source": [
    "#### Wrapper methods\n",
    "##### using lasso for all features including news column"
   ]
  },
  {
   "cell_type": "code",
   "execution_count": 40,
   "id": "e794b92e",
   "metadata": {},
   "outputs": [],
   "source": [
    "# Creating bag of words\n",
    "def bow(corpus):\n",
    "    vectorizer = CountVectorizer()\n",
    "    news_features = vectorizer.fit_transform(corpus).toarray()\n",
    "    return news_features"
   ]
  },
  {
   "cell_type": "code",
   "execution_count": 41,
   "id": "244cb0a3",
   "metadata": {},
   "outputs": [
    {
     "name": "stdout",
     "output_type": "stream",
     "text": [
      "Shape of bag of words on news:  [[0 0 0 ... 0 0 0]\n",
      " [0 0 0 ... 0 0 0]\n",
      " [0 0 0 ... 0 0 0]\n",
      " ...\n",
      " [0 0 0 ... 0 0 0]\n",
      " [0 0 0 ... 0 0 0]\n",
      " [0 0 0 ... 0 0 0]]\n",
      "The number of new columns is added to dataset is:  17578\n"
     ]
    }
   ],
   "source": [
    "news_bow= bow(Liar['news'])\n",
    "print('Shape of bag of words on news: ', news_bow)\n",
    "print('The number of new columns is added to dataset is: ', news_bow.shape[1])\n"
   ]
  },
  {
   "cell_type": "code",
   "execution_count": 42,
   "id": "71d63bb0",
   "metadata": {},
   "outputs": [
    {
     "data": {
      "text/plain": [
       "numpy.ndarray"
      ]
     },
     "execution_count": 42,
     "metadata": {},
     "output_type": "execute_result"
    }
   ],
   "source": [
    "type(news_bow)"
   ]
  },
  {
   "cell_type": "code",
   "execution_count": 43,
   "id": "4cfd0965",
   "metadata": {},
   "outputs": [],
   "source": [
    "def cancat_two_part(dataset, vertorized_feature):\n",
    "    # Step 1: Scale the numerical features using StandardScaler and convert to a sparse matrix\n",
    "    other_features = dataset.drop(columns=['news', 'label'])\n",
    "    scaler = StandardScaler()\n",
    "    scaled_other_features = scaler.fit_transform(other_features)\n",
    "    sparse_scaled_other_features = csr_matrix(scaled_other_features)\n",
    "\n",
    "    # Step 2: Concatenate the sparse matrices for 'news' and numerical features\n",
    "    all_features = hstack([vertorized_feature, sparse_scaled_other_features])\n",
    "\n",
    "    return all_features"
   ]
  },
  {
   "cell_type": "code",
   "execution_count": 44,
   "id": "ef0076d3",
   "metadata": {},
   "outputs": [
    {
     "data": {
      "text/plain": [
       "<11505x17586 sparse matrix of type '<class 'numpy.float64'>'\n",
       "\twith 236370 stored elements in COOrdinate format>"
      ]
     },
     "execution_count": 44,
     "metadata": {},
     "output_type": "execute_result"
    }
   ],
   "source": [
    "Liar_bow= cancat_two_part(Liar, news_bow)\n",
    "Liar_bow"
   ]
  },
  {
   "cell_type": "code",
   "execution_count": 45,
   "id": "f103ffcb",
   "metadata": {},
   "outputs": [],
   "source": [
    "# Information Gain feature selection method"
   ]
  },
  {
   "cell_type": "code",
   "execution_count": 46,
   "id": "85c0ac83",
   "metadata": {},
   "outputs": [],
   "source": [
    "def informatio_gain(dataset, label):\n",
    "\n",
    "    # Calculate Information Gain using mutual information\n",
    "    information_gains_all = mutual_info_classif(dataset, label)  # Exclude non-numeric columns\n",
    "    # Print Information Gains for each feature\n",
    "    columns = [ 'speaker',\"speaker's job title\",'state info','party affiliation','the context','polarity','review_len', 'word_count'] \n",
    "    other_features= len(columns)\n",
    "    selected_features= []\n",
    "    information_gains= information_gains_all[-other_features:]\n",
    "    for i, gain in enumerate(information_gains):\n",
    "        print(f\"Feature {columns[i]}: Information Gain = {gain:.6f}\")\n",
    "        selected_features.append(columns[i])\n",
    "    return selected_features"
   ]
  },
  {
   "cell_type": "code",
   "execution_count": 47,
   "id": "dd73c95c",
   "metadata": {},
   "outputs": [
    {
     "name": "stdout",
     "output_type": "stream",
     "text": [
      "Feature speaker: Information Gain = 0.226210\n",
      "Feature speaker's job title: Information Gain = 0.097415\n",
      "Feature state info: Information Gain = 0.014501\n",
      "Feature party affiliation: Information Gain = 0.013820\n",
      "Feature the context: Information Gain = 0.297633\n",
      "Feature polarity: Information Gain = 0.044486\n",
      "Feature review_len: Information Gain = 0.011056\n",
      "Feature word_count: Information Gain = 0.002222\n"
     ]
    },
    {
     "name": "stderr",
     "output_type": "stream",
     "text": [
      "C:\\Users\\mahmoud\\anaconda3\\lib\\site-packages\\sklearn\\metrics\\cluster\\_supervised.py:65: UserWarning: Clustering metrics expects discrete values but received continuous values for label, and binary values for target\n",
      "  warnings.warn(msg, UserWarning)\n",
      "C:\\Users\\mahmoud\\anaconda3\\lib\\site-packages\\sklearn\\metrics\\cluster\\_supervised.py:65: UserWarning: Clustering metrics expects discrete values but received continuous values for label, and binary values for target\n",
      "  warnings.warn(msg, UserWarning)\n",
      "C:\\Users\\mahmoud\\anaconda3\\lib\\site-packages\\sklearn\\metrics\\cluster\\_supervised.py:65: UserWarning: Clustering metrics expects discrete values but received continuous values for label, and binary values for target\n",
      "  warnings.warn(msg, UserWarning)\n",
      "C:\\Users\\mahmoud\\anaconda3\\lib\\site-packages\\sklearn\\metrics\\cluster\\_supervised.py:65: UserWarning: Clustering metrics expects discrete values but received continuous values for label, and binary values for target\n",
      "  warnings.warn(msg, UserWarning)\n",
      "C:\\Users\\mahmoud\\anaconda3\\lib\\site-packages\\sklearn\\metrics\\cluster\\_supervised.py:65: UserWarning: Clustering metrics expects discrete values but received continuous values for label, and binary values for target\n",
      "  warnings.warn(msg, UserWarning)\n",
      "C:\\Users\\mahmoud\\anaconda3\\lib\\site-packages\\sklearn\\metrics\\cluster\\_supervised.py:65: UserWarning: Clustering metrics expects discrete values but received continuous values for label, and binary values for target\n",
      "  warnings.warn(msg, UserWarning)\n",
      "C:\\Users\\mahmoud\\anaconda3\\lib\\site-packages\\sklearn\\metrics\\cluster\\_supervised.py:65: UserWarning: Clustering metrics expects discrete values but received continuous values for label, and binary values for target\n",
      "  warnings.warn(msg, UserWarning)\n",
      "C:\\Users\\mahmoud\\anaconda3\\lib\\site-packages\\sklearn\\metrics\\cluster\\_supervised.py:65: UserWarning: Clustering metrics expects discrete values but received continuous values for label, and binary values for target\n",
      "  warnings.warn(msg, UserWarning)\n"
     ]
    }
   ],
   "source": [
    "selected_features_ig= informatio_gain(Liar_bow, Liar['label'])"
   ]
  },
  {
   "cell_type": "code",
   "execution_count": 48,
   "id": "fdfbc9e5",
   "metadata": {},
   "outputs": [
    {
     "data": {
      "text/plain": [
       "['speaker',\n",
       " \"speaker's job title\",\n",
       " 'state info',\n",
       " 'party affiliation',\n",
       " 'the context',\n",
       " 'polarity',\n",
       " 'review_len',\n",
       " 'word_count']"
      ]
     },
     "execution_count": 48,
     "metadata": {},
     "output_type": "execute_result"
    }
   ],
   "source": [
    "selected_features_ig"
   ]
  },
  {
   "cell_type": "code",
   "execution_count": 49,
   "id": "edd970b3",
   "metadata": {},
   "outputs": [],
   "source": [
    "# Lasso feature selection method\n",
    "def lasso_feature_selection(dataset, label):\n",
    "    # getting features (X) and target (y)\n",
    "    X = dataset\n",
    "    y = label\n",
    "\n",
    "    # Split the data into training and testing sets\n",
    "    X_train, X_test, y_train, y_test = train_test_split(X, y, test_size=0.2, random_state=42)\n",
    "\n",
    "    # Train a Lasso regression model\n",
    "    lasso = Lasso(alpha=0.008)  \n",
    "    lasso.fit(X_train, y_train)\n",
    "\n",
    "    # Predict on the test set\n",
    "    y_pred = lasso.predict(X_test)\n",
    "\n",
    "    # Evaluate the model \n",
    "    mse = mean_squared_error(y_test, y_pred)\n",
    "    print(f\"Mean Squared Error: {mse}\")\n",
    "\n",
    "    # Get the selected features (non-zero coefficients)\n",
    "    non_zero_coefficient_indices  = np.where(lasso.coef_ != 0)[0]\n",
    "    return non_zero_coefficient_indices"
   ]
  },
  {
   "cell_type": "code",
   "execution_count": 50,
   "id": "661f5fc4",
   "metadata": {},
   "outputs": [
    {
     "name": "stdout",
     "output_type": "stream",
     "text": [
      "Mean Squared Error: 0.2436383441555955\n"
     ]
    },
    {
     "data": {
      "text/plain": [
       "['speaker', \"speaker's job title\", 'state info', 'polarity']"
      ]
     },
     "execution_count": 50,
     "metadata": {},
     "output_type": "execute_result"
    }
   ],
   "source": [
    "selected_features_indeces= lasso_feature_selection(Liar_bow, Liar['label'])\n",
    "other_features_indeces= [index - news_bow.shape[1]-1 for index in selected_features_indeces if index - news_bow.shape[1] > 0]\n",
    "features_list= features.columns.to_list()\n",
    "selected_column_lass_wm= [feature for feature in features_list if features_list.index(feature) in other_features_indeces]\n",
    "selected_column_lass_wm"
   ]
  },
  {
   "cell_type": "code",
   "execution_count": 51,
   "id": "3cde00b5",
   "metadata": {},
   "outputs": [
    {
     "data": {
      "text/plain": [
       "[('state info', 6),\n",
       " ('party affiliation', 5),\n",
       " (\"speaker's job title\", 5),\n",
       " ('polarity', 5),\n",
       " ('speaker', 4),\n",
       " ('word_count', 3),\n",
       " ('the context', 3),\n",
       " ('review_len', 2),\n",
       " ('label', 1)]"
      ]
     },
     "execution_count": 51,
     "metadata": {},
     "output_type": "execute_result"
    }
   ],
   "source": [
    "combined_list = list(features_selected_corr) + list(selected_column_mi) + list(selected_column_f_class) + \\\n",
    "                list(features_selected_lasso)+ selected_column_lass_wm + selected_features_ig\n",
    "# Count the occurrences of each element\n",
    "element_counts = Counter(combined_list)\n",
    "most_common_elements = element_counts.most_common()\n",
    "most_common_elements"
   ]
  },
  {
   "cell_type": "code",
   "execution_count": 52,
   "id": "174122c2",
   "metadata": {},
   "outputs": [
    {
     "data": {
      "text/plain": [
       "['state info',\n",
       " 'party affiliation',\n",
       " \"speaker's job title\",\n",
       " 'polarity',\n",
       " 'speaker',\n",
       " 'word_count',\n",
       " 'the context']"
      ]
     },
     "execution_count": 52,
     "metadata": {},
     "output_type": "execute_result"
    }
   ],
   "source": [
    "# Retrieve the three most common elements\n",
    "selected_features= [feature[0] for feature in most_common_elements if feature[1]>=3]\n",
    "selected_features"
   ]
  },
  {
   "cell_type": "code",
   "execution_count": 53,
   "id": "22446c44",
   "metadata": {},
   "outputs": [
    {
     "name": "stdout",
     "output_type": "stream",
     "text": [
      "['news', 'state info', 'party affiliation', \"speaker's job title\", 'polarity', 'speaker', 'word_count', 'the context', 'label']\n"
     ]
    },
    {
     "data": {
      "text/html": [
       "<div>\n",
       "<style scoped>\n",
       "    .dataframe tbody tr th:only-of-type {\n",
       "        vertical-align: middle;\n",
       "    }\n",
       "\n",
       "    .dataframe tbody tr th {\n",
       "        vertical-align: top;\n",
       "    }\n",
       "\n",
       "    .dataframe thead th {\n",
       "        text-align: right;\n",
       "    }\n",
       "</style>\n",
       "<table border=\"1\" class=\"dataframe\">\n",
       "  <thead>\n",
       "    <tr style=\"text-align: right;\">\n",
       "      <th></th>\n",
       "      <th>news</th>\n",
       "      <th>state info</th>\n",
       "      <th>party affiliation</th>\n",
       "      <th>speaker's job title</th>\n",
       "      <th>polarity</th>\n",
       "      <th>speaker</th>\n",
       "      <th>word_count</th>\n",
       "      <th>the context</th>\n",
       "      <th>label</th>\n",
       "    </tr>\n",
       "  </thead>\n",
       "  <tbody>\n",
       "    <tr>\n",
       "      <th>0</th>\n",
       "      <td>('energy history jobaccomplishmentswhen declin...</td>\n",
       "      <td>0</td>\n",
       "      <td>0</td>\n",
       "      <td>0</td>\n",
       "      <td>0.1</td>\n",
       "      <td>0</td>\n",
       "      <td>18</td>\n",
       "      <td>0</td>\n",
       "      <td>1</td>\n",
       "    </tr>\n",
       "    <tr>\n",
       "      <th>1</th>\n",
       "      <td>('foreignpolicyhillary clinton agrees john mcc...</td>\n",
       "      <td>1</td>\n",
       "      <td>0</td>\n",
       "      <td>1</td>\n",
       "      <td>0.0</td>\n",
       "      <td>1</td>\n",
       "      <td>13</td>\n",
       "      <td>1</td>\n",
       "      <td>1</td>\n",
       "    </tr>\n",
       "  </tbody>\n",
       "</table>\n",
       "</div>"
      ],
      "text/plain": [
       "                                                news  state info  \\\n",
       "0  ('energy history jobaccomplishmentswhen declin...           0   \n",
       "1  ('foreignpolicyhillary clinton agrees john mcc...           1   \n",
       "\n",
       "   party affiliation  speaker's job title  polarity  speaker  word_count  \\\n",
       "0                  0                    0       0.1        0          18   \n",
       "1                  0                    1       0.0        1          13   \n",
       "\n",
       "   the context  label  \n",
       "0            0      1  \n",
       "1            1      1  "
      ]
     },
     "execution_count": 53,
     "metadata": {},
     "output_type": "execute_result"
    }
   ],
   "source": [
    "selected_features.insert(0, 'news')\n",
    "selected_features.append('label')\n",
    "print(selected_features)\n",
    "Liar_selected= Liar[selected_features].copy()\n",
    "Liar_selected.head(2)"
   ]
  },
  {
   "cell_type": "code",
   "execution_count": 54,
   "id": "1a5d553c",
   "metadata": {},
   "outputs": [],
   "source": [
    "# save point 3\n",
    "Liar_selected.to_csv(os.path.join(data_dir,'Liar_stp_fe_fS.csv'), index=False)"
   ]
  },
  {
   "cell_type": "code",
   "execution_count": 55,
   "id": "a6da5933",
   "metadata": {},
   "outputs": [],
   "source": [
    "Liar= pd.read_csv(os.path.join(data_dir,'Liar_stp_fe_fS.csv'))\n"
   ]
  },
  {
   "cell_type": "code",
   "execution_count": 56,
   "id": "b4a42ddb",
   "metadata": {},
   "outputs": [
    {
     "data": {
      "text/html": [
       "<div>\n",
       "<style scoped>\n",
       "    .dataframe tbody tr th:only-of-type {\n",
       "        vertical-align: middle;\n",
       "    }\n",
       "\n",
       "    .dataframe tbody tr th {\n",
       "        vertical-align: top;\n",
       "    }\n",
       "\n",
       "    .dataframe thead th {\n",
       "        text-align: right;\n",
       "    }\n",
       "</style>\n",
       "<table border=\"1\" class=\"dataframe\">\n",
       "  <thead>\n",
       "    <tr style=\"text-align: right;\">\n",
       "      <th></th>\n",
       "      <th>news</th>\n",
       "      <th>state info</th>\n",
       "      <th>party affiliation</th>\n",
       "      <th>speaker's job title</th>\n",
       "      <th>polarity</th>\n",
       "      <th>speaker</th>\n",
       "      <th>word_count</th>\n",
       "      <th>the context</th>\n",
       "      <th>label</th>\n",
       "    </tr>\n",
       "  </thead>\n",
       "  <tbody>\n",
       "    <tr>\n",
       "      <th>0</th>\n",
       "      <td>('energy history jobaccomplishmentswhen declin...</td>\n",
       "      <td>0</td>\n",
       "      <td>0</td>\n",
       "      <td>0</td>\n",
       "      <td>0.1</td>\n",
       "      <td>0</td>\n",
       "      <td>18</td>\n",
       "      <td>0</td>\n",
       "      <td>1</td>\n",
       "    </tr>\n",
       "    <tr>\n",
       "      <th>1</th>\n",
       "      <td>('foreignpolicyhillary clinton agrees john mcc...</td>\n",
       "      <td>1</td>\n",
       "      <td>0</td>\n",
       "      <td>1</td>\n",
       "      <td>0.0</td>\n",
       "      <td>1</td>\n",
       "      <td>13</td>\n",
       "      <td>1</td>\n",
       "      <td>1</td>\n",
       "    </tr>\n",
       "    <tr>\n",
       "      <th>2</th>\n",
       "      <td>('healthcarehealth care reform legislation lik...</td>\n",
       "      <td>-1</td>\n",
       "      <td>1</td>\n",
       "      <td>-1</td>\n",
       "      <td>0.2</td>\n",
       "      <td>2</td>\n",
       "      <td>11</td>\n",
       "      <td>2</td>\n",
       "      <td>0</td>\n",
       "    </tr>\n",
       "  </tbody>\n",
       "</table>\n",
       "</div>"
      ],
      "text/plain": [
       "                                                news  state info  \\\n",
       "0  ('energy history jobaccomplishmentswhen declin...           0   \n",
       "1  ('foreignpolicyhillary clinton agrees john mcc...           1   \n",
       "2  ('healthcarehealth care reform legislation lik...          -1   \n",
       "\n",
       "   party affiliation  speaker's job title  polarity  speaker  word_count  \\\n",
       "0                  0                    0       0.1        0          18   \n",
       "1                  0                    1       0.0        1          13   \n",
       "2                  1                   -1       0.2        2          11   \n",
       "\n",
       "   the context  label  \n",
       "0            0      1  \n",
       "1            1      1  \n",
       "2            2      0  "
      ]
     },
     "execution_count": 56,
     "metadata": {},
     "output_type": "execute_result"
    }
   ],
   "source": [
    "Liar.head(3)"
   ]
  },
  {
   "cell_type": "code",
   "execution_count": 57,
   "id": "6d0bf6c5",
   "metadata": {},
   "outputs": [
    {
     "data": {
      "image/png": "[encoded data removed]",
      "text/plain": [
       "<Figure size 640x480 with 1 Axes>"
      ]
     },
     "metadata": {},
     "output_type": "display_data"
    }
   ],
   "source": [
    "## Count of fake news and true news\n",
    "ax=sns.countplot(x=\"label\", data=Liar)\n",
    "#Setting labels and font size\n",
    "ax.set(xlabel='Output', ylabel='Count of fake/true',title='Count of fake and true news')\n",
    "ax.xaxis.get_label().set_fontsize(15)\n",
    "ax.yaxis.get_label().set_fontsize(15)"
   ]
  },
  {
   "cell_type": "code",
   "execution_count": 58,
   "id": "dca2421c",
   "metadata": {},
   "outputs": [
    {
     "data": {
      "text/plain": [
       "1    6465\n",
       "0    5040\n",
       "Name: label, dtype: int64"
      ]
     },
     "execution_count": 58,
     "metadata": {},
     "output_type": "execute_result"
    }
   ],
   "source": [
    "Liar['label'].value_counts()"
   ]
  },
  {
   "cell_type": "markdown",
   "id": "466805aa",
   "metadata": {},
   "source": [
    "### Stemming"
   ]
  },
  {
   "cell_type": "code",
   "execution_count": 59,
   "id": "1fd38d87",
   "metadata": {},
   "outputs": [],
   "source": [
    "stop_words = set(stopwords.words(\"english\"))\n",
    "#Performing stemming on the review dataframe\n",
    "ps = PorterStemmer()\n",
    "\n",
    "#splitting and adding the stemmed words except stopwords\n",
    "corpus = []\n",
    "for i in range(0, len(Liar)):\n",
    "    news = re.sub('[^a-zA-Z]', ' ', str(Liar['news'][i]))\n",
    "    news= news.lower()\n",
    "    news = news.split()\n",
    "    news = [ps.stem(word) for word in news if not word in stop_words]\n",
    "    news = ' '.join(news)\n",
    "    corpus.append(news) "
   ]
  },
  {
   "cell_type": "code",
   "execution_count": 60,
   "id": "c69c7ba0",
   "metadata": {},
   "outputs": [
    {
     "data": {
      "text/html": [
       "<div>\n",
       "<style scoped>\n",
       "    .dataframe tbody tr th:only-of-type {\n",
       "        vertical-align: middle;\n",
       "    }\n",
       "\n",
       "    .dataframe tbody tr th {\n",
       "        vertical-align: top;\n",
       "    }\n",
       "\n",
       "    .dataframe thead th {\n",
       "        text-align: right;\n",
       "    }\n",
       "</style>\n",
       "<table border=\"1\" class=\"dataframe\">\n",
       "  <thead>\n",
       "    <tr style=\"text-align: right;\">\n",
       "      <th></th>\n",
       "      <th>news</th>\n",
       "      <th>state info</th>\n",
       "      <th>party affiliation</th>\n",
       "      <th>speaker's job title</th>\n",
       "      <th>polarity</th>\n",
       "      <th>speaker</th>\n",
       "      <th>word_count</th>\n",
       "      <th>the context</th>\n",
       "      <th>label</th>\n",
       "    </tr>\n",
       "  </thead>\n",
       "  <tbody>\n",
       "    <tr>\n",
       "      <th>0</th>\n",
       "      <td>('energy history jobaccomplishmentswhen declin...</td>\n",
       "      <td>0</td>\n",
       "      <td>0</td>\n",
       "      <td>0</td>\n",
       "      <td>0.1</td>\n",
       "      <td>0</td>\n",
       "      <td>18</td>\n",
       "      <td>0</td>\n",
       "      <td>1</td>\n",
       "    </tr>\n",
       "    <tr>\n",
       "      <th>1</th>\n",
       "      <td>('foreignpolicyhillary clinton agrees john mcc...</td>\n",
       "      <td>1</td>\n",
       "      <td>0</td>\n",
       "      <td>1</td>\n",
       "      <td>0.0</td>\n",
       "      <td>1</td>\n",
       "      <td>13</td>\n",
       "      <td>1</td>\n",
       "      <td>1</td>\n",
       "    </tr>\n",
       "    <tr>\n",
       "      <th>2</th>\n",
       "      <td>('healthcarehealth care reform legislation lik...</td>\n",
       "      <td>-1</td>\n",
       "      <td>1</td>\n",
       "      <td>-1</td>\n",
       "      <td>0.2</td>\n",
       "      <td>2</td>\n",
       "      <td>11</td>\n",
       "      <td>2</td>\n",
       "      <td>0</td>\n",
       "    </tr>\n",
       "  </tbody>\n",
       "</table>\n",
       "</div>"
      ],
      "text/plain": [
       "                                                news  state info  \\\n",
       "0  ('energy history jobaccomplishmentswhen declin...           0   \n",
       "1  ('foreignpolicyhillary clinton agrees john mcc...           1   \n",
       "2  ('healthcarehealth care reform legislation lik...          -1   \n",
       "\n",
       "   party affiliation  speaker's job title  polarity  speaker  word_count  \\\n",
       "0                  0                    0       0.1        0          18   \n",
       "1                  0                    1       0.0        1          13   \n",
       "2                  1                   -1       0.2        2          11   \n",
       "\n",
       "   the context  label  \n",
       "0            0      1  \n",
       "1            1      1  \n",
       "2            2      0  "
      ]
     },
     "execution_count": 60,
     "metadata": {},
     "output_type": "execute_result"
    }
   ],
   "source": [
    "Liar.head(3)"
   ]
  },
  {
   "cell_type": "code",
   "execution_count": 61,
   "id": "c8b5a96c",
   "metadata": {},
   "outputs": [],
   "source": [
    "#save point 4 after stemming \n",
    "Liar.to_csv(os.path.join(data_dir, 'Liar_stp_fS_fe_stm.csv'), index=False)"
   ]
  },
  {
   "cell_type": "code",
   "execution_count": 62,
   "id": "f60bbd5f",
   "metadata": {},
   "outputs": [
    {
     "data": {
      "text/html": [
       "<div>\n",
       "<style scoped>\n",
       "    .dataframe tbody tr th:only-of-type {\n",
       "        vertical-align: middle;\n",
       "    }\n",
       "\n",
       "    .dataframe tbody tr th {\n",
       "        vertical-align: top;\n",
       "    }\n",
       "\n",
       "    .dataframe thead th {\n",
       "        text-align: right;\n",
       "    }\n",
       "</style>\n",
       "<table border=\"1\" class=\"dataframe\">\n",
       "  <thead>\n",
       "    <tr style=\"text-align: right;\">\n",
       "      <th></th>\n",
       "      <th>news</th>\n",
       "      <th>state info</th>\n",
       "      <th>party affiliation</th>\n",
       "      <th>speaker's job title</th>\n",
       "      <th>polarity</th>\n",
       "      <th>speaker</th>\n",
       "      <th>word_count</th>\n",
       "      <th>the context</th>\n",
       "      <th>label</th>\n",
       "    </tr>\n",
       "  </thead>\n",
       "  <tbody>\n",
       "    <tr>\n",
       "      <th>0</th>\n",
       "      <td>('energy history jobaccomplishmentswhen declin...</td>\n",
       "      <td>0</td>\n",
       "      <td>0</td>\n",
       "      <td>0</td>\n",
       "      <td>0.100000</td>\n",
       "      <td>0</td>\n",
       "      <td>18</td>\n",
       "      <td>0</td>\n",
       "      <td>1</td>\n",
       "    </tr>\n",
       "    <tr>\n",
       "      <th>1</th>\n",
       "      <td>('foreignpolicyhillary clinton agrees john mcc...</td>\n",
       "      <td>1</td>\n",
       "      <td>0</td>\n",
       "      <td>1</td>\n",
       "      <td>0.000000</td>\n",
       "      <td>1</td>\n",
       "      <td>13</td>\n",
       "      <td>1</td>\n",
       "      <td>1</td>\n",
       "    </tr>\n",
       "    <tr>\n",
       "      <th>2</th>\n",
       "      <td>('healthcarehealth care reform legislation lik...</td>\n",
       "      <td>-1</td>\n",
       "      <td>1</td>\n",
       "      <td>-1</td>\n",
       "      <td>0.200000</td>\n",
       "      <td>2</td>\n",
       "      <td>11</td>\n",
       "      <td>2</td>\n",
       "      <td>0</td>\n",
       "    </tr>\n",
       "    <tr>\n",
       "      <th>3</th>\n",
       "      <td>('economy jobsthe economic turnaround started ...</td>\n",
       "      <td>2</td>\n",
       "      <td>0</td>\n",
       "      <td>-1</td>\n",
       "      <td>0.200000</td>\n",
       "      <td>3</td>\n",
       "      <td>8</td>\n",
       "      <td>3</td>\n",
       "      <td>1</td>\n",
       "    </tr>\n",
       "    <tr>\n",
       "      <th>4</th>\n",
       "      <td>('educationthe chicago bears starting quarterb...</td>\n",
       "      <td>3</td>\n",
       "      <td>2</td>\n",
       "      <td>2</td>\n",
       "      <td>0.000000</td>\n",
       "      <td>4</td>\n",
       "      <td>17</td>\n",
       "      <td>4</td>\n",
       "      <td>1</td>\n",
       "    </tr>\n",
       "    <tr>\n",
       "      <th>...</th>\n",
       "      <td>...</td>\n",
       "      <td>...</td>\n",
       "      <td>...</td>\n",
       "      <td>...</td>\n",
       "      <td>...</td>\n",
       "      <td>...</td>\n",
       "      <td>...</td>\n",
       "      <td>...</td>\n",
       "      <td>...</td>\n",
       "    </tr>\n",
       "    <tr>\n",
       "      <th>11500</th>\n",
       "      <td>('educationsays budget provides highest state ...</td>\n",
       "      <td>2</td>\n",
       "      <td>2</td>\n",
       "      <td>19</td>\n",
       "      <td>0.000000</td>\n",
       "      <td>27</td>\n",
       "      <td>10</td>\n",
       "      <td>22</td>\n",
       "      <td>1</td>\n",
       "    </tr>\n",
       "    <tr>\n",
       "      <th>11501</th>\n",
       "      <td>('civilrights crime criminaljusticeive almost ...</td>\n",
       "      <td>14</td>\n",
       "      <td>0</td>\n",
       "      <td>19</td>\n",
       "      <td>0.000000</td>\n",
       "      <td>1045</td>\n",
       "      <td>7</td>\n",
       "      <td>3799</td>\n",
       "      <td>0</td>\n",
       "    </tr>\n",
       "    <tr>\n",
       "      <th>11502</th>\n",
       "      <td>('bipartisanship congress foreignpolicy histor...</td>\n",
       "      <td>15</td>\n",
       "      <td>5</td>\n",
       "      <td>1273</td>\n",
       "      <td>-0.150000</td>\n",
       "      <td>3101</td>\n",
       "      <td>20</td>\n",
       "      <td>434</td>\n",
       "      <td>0</td>\n",
       "    </tr>\n",
       "    <tr>\n",
       "      <th>11503</th>\n",
       "      <td>('environment governmentefficiencysays epa per...</td>\n",
       "      <td>19</td>\n",
       "      <td>2</td>\n",
       "      <td>91</td>\n",
       "      <td>0.136364</td>\n",
       "      <td>163</td>\n",
       "      <td>14</td>\n",
       "      <td>22</td>\n",
       "      <td>0</td>\n",
       "    </tr>\n",
       "    <tr>\n",
       "      <th>11504</th>\n",
       "      <td>('statebudget statefinances taxessays governor...</td>\n",
       "      <td>-1</td>\n",
       "      <td>0</td>\n",
       "      <td>-1</td>\n",
       "      <td>0.250000</td>\n",
       "      <td>1928</td>\n",
       "      <td>20</td>\n",
       "      <td>3446</td>\n",
       "      <td>0</td>\n",
       "    </tr>\n",
       "  </tbody>\n",
       "</table>\n",
       "<p>11505 rows × 9 columns</p>\n",
       "</div>"
      ],
      "text/plain": [
       "                                                    news  state info  \\\n",
       "0      ('energy history jobaccomplishmentswhen declin...           0   \n",
       "1      ('foreignpolicyhillary clinton agrees john mcc...           1   \n",
       "2      ('healthcarehealth care reform legislation lik...          -1   \n",
       "3      ('economy jobsthe economic turnaround started ...           2   \n",
       "4      ('educationthe chicago bears starting quarterb...           3   \n",
       "...                                                  ...         ...   \n",
       "11500  ('educationsays budget provides highest state ...           2   \n",
       "11501  ('civilrights crime criminaljusticeive almost ...          14   \n",
       "11502  ('bipartisanship congress foreignpolicy histor...          15   \n",
       "11503  ('environment governmentefficiencysays epa per...          19   \n",
       "11504  ('statebudget statefinances taxessays governor...          -1   \n",
       "\n",
       "       party affiliation  speaker's job title  polarity  speaker  word_count  \\\n",
       "0                      0                    0  0.100000        0          18   \n",
       "1                      0                    1  0.000000        1          13   \n",
       "2                      1                   -1  0.200000        2          11   \n",
       "3                      0                   -1  0.200000        3           8   \n",
       "4                      2                    2  0.000000        4          17   \n",
       "...                  ...                  ...       ...      ...         ...   \n",
       "11500                  2                   19  0.000000       27          10   \n",
       "11501                  0                   19  0.000000     1045           7   \n",
       "11502                  5                 1273 -0.150000     3101          20   \n",
       "11503                  2                   91  0.136364      163          14   \n",
       "11504                  0                   -1  0.250000     1928          20   \n",
       "\n",
       "       the context  label  \n",
       "0                0      1  \n",
       "1                1      1  \n",
       "2                2      0  \n",
       "3                3      1  \n",
       "4                4      1  \n",
       "...            ...    ...  \n",
       "11500           22      1  \n",
       "11501         3799      0  \n",
       "11502          434      0  \n",
       "11503           22      0  \n",
       "11504         3446      0  \n",
       "\n",
       "[11505 rows x 9 columns]"
      ]
     },
     "execution_count": 62,
     "metadata": {},
     "output_type": "execute_result"
    }
   ],
   "source": [
    "Liar= pd.read_csv(os.path.join(data_dir,'Liar_stp_fS_fe_stm.csv'))\n",
    "Liar"
   ]
  },
  {
   "cell_type": "code",
   "execution_count": 63,
   "id": "45350945",
   "metadata": {},
   "outputs": [],
   "source": [
    "train_dataset_adrs= os.path.join(data_dir,'train_data')\n",
    "try:\n",
    "    os.mkdir(train_dataset_adrs)\n",
    "except  FileExistsError:\n",
    "    pass"
   ]
  },
  {
   "cell_type": "markdown",
   "id": "68294792",
   "metadata": {},
   "source": [
    "## Vectorization news column"
   ]
  },
  {
   "cell_type": "markdown",
   "id": "f10dcea7",
   "metadata": {},
   "source": [
    "### Bag of words"
   ]
  },
  {
   "cell_type": "code",
   "execution_count": 92,
   "id": "1fe9ceb4",
   "metadata": {},
   "outputs": [],
   "source": [
    "# bag of words\n",
    "def bow(data):\n",
    "    # Create a CountVectorizer object\n",
    "    vectorizer = CountVectorizer()\n",
    "    # Fit and transform the \"news\" column\n",
    "    news_vectorized = vectorizer.fit_transform(data['news'])\n",
    "    # converting rest of features to sparse matrix to and concatenate with news columns which has been just vectorized\n",
    "    rest= csr_matrix(data.drop(['news', 'label'],axis= 1).values) \n",
    "    vectorized_data= hstack([news_vectorized,rest]) \n",
    "    return vectorized_data\n"
   ]
  },
  {
   "cell_type": "code",
   "execution_count": 93,
   "id": "adff1b62",
   "metadata": {},
   "outputs": [],
   "source": [
    "Liar_bow= bow(Liar)\n",
    "# from now, the name of datasets will be changed based on vectorization techniques\n",
    "#save point 5, Liar bag of words\n",
    "scipy.sparse.save_npz(os.path.join(train_dataset_adrs,'Liar_bow.npz'), Liar_bow)\n",
    "vec_tech_list= ['Liar_bow.npz']"
   ]
  },
  {
   "cell_type": "markdown",
   "id": "b4e080db",
   "metadata": {},
   "source": [
    "### N-gram analysis"
   ]
  },
  {
   "cell_type": "code",
   "execution_count": 68,
   "id": "12b55279",
   "metadata": {},
   "outputs": [],
   "source": [
    "# one gram \n",
    "def one_gram(data):\n",
    "    # Create a CountVectorizer object with unigrams\n",
    "    vectorizer = CountVectorizer(ngram_range=(1, 1))\n",
    "    # Fit and transform the \"news\" column\n",
    "    news_vectorized = vectorizer.fit_transform(data['news'])\n",
    "    # converting rest of features to sparse matrix to and concatenate with news columns which has been just vectorized\n",
    "    rest= csr_matrix(data.drop(['news', 'label'], axis= 1).values)\n",
    "    vectorized_data= hstack([news_vectorized,rest])\n",
    "    return vectorized_data"
   ]
  },
  {
   "cell_type": "code",
   "execution_count": 69,
   "id": "9aa76acb",
   "metadata": {},
   "outputs": [],
   "source": [
    "Liar_one_gram= one_gram(Liar)\n",
    "#save point 7, Liar one gram\n",
    "vec_tech_list.append('Liar_one_gram.npz')\n",
    "scipy.sparse.save_npz(os.path.join(train_dataset_adrs,'Liar_one_gram.npz'), Liar_one_gram)"
   ]
  },
  {
   "cell_type": "code",
   "execution_count": null,
   "id": "86b2f726",
   "metadata": {},
   "outputs": [],
   "source": []
  },
  {
   "cell_type": "code",
   "execution_count": 70,
   "id": "d351e5c2",
   "metadata": {},
   "outputs": [],
   "source": [
    "# bigram \n",
    "def bigram(data):\n",
    "    # Create a CountVectorizer object with unigrams\n",
    "    vectorizer = CountVectorizer(ngram_range=(2, 2))\n",
    "    # Fit and transform the \"news\" column\n",
    "    news_vectorized = vectorizer.fit_transform(data['news'])\n",
    "    # converting rest of features to sparse matrix to and concatenate with news columns which has been just vectorized\n",
    "    rest= csr_matrix(data.drop(['news', 'label'], axis= 1).values)\n",
    "    vectorized_data= hstack([news_vectorized,rest])\n",
    "    return vectorized_data"
   ]
  },
  {
   "cell_type": "code",
   "execution_count": 71,
   "id": "8eefda7a",
   "metadata": {},
   "outputs": [],
   "source": [
    "Liar_bigram= bigram(Liar)\n",
    "#save point 8, Liar bigram\n",
    "vec_tech_list.append('Liar_bigram.npz')\n",
    "scipy.sparse.save_npz(os.path.join(train_dataset_adrs,'Liar_bigram.npz'), Liar_bigram)"
   ]
  },
  {
   "cell_type": "code",
   "execution_count": null,
   "id": "be51a987",
   "metadata": {},
   "outputs": [],
   "source": []
  },
  {
   "cell_type": "code",
   "execution_count": 72,
   "id": "8a55c711",
   "metadata": {},
   "outputs": [],
   "source": [
    "# trigram \n",
    "def trigram(data):\n",
    "    # Create a CountVectorizer object with trigrams\n",
    "    vectorizer = CountVectorizer(max_features=10000, ngram_range=(3, 3))\n",
    "    # Fit and transform the \"news\" column\n",
    "    news_vectorized = vectorizer.fit_transform(data['news'])\n",
    "    # converting rest of features to sparse matrix to and concatenate with news columns which has been just vectorized\n",
    "    rest= csr_matrix(data.drop(['news', 'label'], axis= 1).values)\n",
    "    vectorized_data= hstack([news_vectorized,rest])\n",
    "    return vectorized_data"
   ]
  },
  {
   "cell_type": "code",
   "execution_count": 73,
   "id": "0ffd4f51",
   "metadata": {},
   "outputs": [],
   "source": [
    "Liar_trigram= trigram(Liar)\n",
    "#save point 9, Liar trigram\n",
    "vec_tech_list.append('Liar_trigram.npz')\n",
    "scipy.sparse.save_npz(os.path.join(train_dataset_adrs,'Liar_trigram.npz'), Liar_trigram)"
   ]
  },
  {
   "cell_type": "code",
   "execution_count": null,
   "id": "705d9520",
   "metadata": {},
   "outputs": [],
   "source": []
  },
  {
   "cell_type": "code",
   "execution_count": 74,
   "id": "88a84c8a",
   "metadata": {},
   "outputs": [],
   "source": [
    "# one to trigram \n",
    "def one_to_trigram(data):\n",
    "    # Create a CountVectorizer object with unigrams\n",
    "    vectorizer = CountVectorizer(ngram_range=(1, 3))\n",
    "    # Fit and transform the \"news\" column\n",
    "    news_vectorized = vectorizer.fit_transform(data['news'])\n",
    "    # converting rest of features to sparse matrix to and concatenate with news columns which has been just vectorized\n",
    "    rest= csr_matrix(data.drop(['news', 'label'], axis= 1).values)\n",
    "    vectorized_data= hstack([news_vectorized,rest])\n",
    "    return vectorized_data"
   ]
  },
  {
   "cell_type": "code",
   "execution_count": 75,
   "id": "f62b3e95",
   "metadata": {},
   "outputs": [],
   "source": [
    "Liar_one_to_trigram= one_to_trigram(Liar)\n",
    "#save point 10, Liar one to trigram\n",
    "vec_tech_list.append('Liar_one_to_trigram.npz')\n",
    "scipy.sparse.save_npz(os.path.join(train_dataset_adrs,'Liar_one_to_trigram.npz'), Liar_one_to_trigram)"
   ]
  },
  {
   "cell_type": "code",
   "execution_count": 76,
   "id": "a16f40f3",
   "metadata": {},
   "outputs": [],
   "source": [
    "# TFIDF \n",
    "def TFIDF(data):\n",
    "    # Create a TfidfVectorizer object with unigrams and bigrams\n",
    "    vectorizer = TfidfVectorizer( ngram_range=(1, 2))\n",
    "    # Fit and transform the \"news\" column\n",
    "    news_vectorized = vectorizer.fit_transform(data['news'])\n",
    "    # converting rest of features to sparse matrix to and concatenate with news columns which has been just vectorized\n",
    "    rest= csr_matrix(data.drop(['news', 'label'], axis= 1).values)\n",
    "    vectorized_data= hstack([news_vectorized,rest])\n",
    "    return vectorized_data"
   ]
  },
  {
   "cell_type": "code",
   "execution_count": 77,
   "id": "baa38ed9",
   "metadata": {},
   "outputs": [],
   "source": [
    "Liar_TFIDF= TFIDF(Liar)\n",
    "#save point 11, Liar TF\n",
    "vec_tech_list.append('Liar_TFIDF.npz')\n",
    "scipy.sparse.save_npz(os.path.join(train_dataset_adrs,'Liar_TFIDF.npz'), Liar_TFIDF)"
   ]
  },
  {
   "cell_type": "code",
   "execution_count": 78,
   "id": "a3040e6b",
   "metadata": {},
   "outputs": [],
   "source": [
    "# Word to Vector\n",
    "def W2V(data):\n",
    "    # Tokenize the text data\n",
    "    tokenized_news = [word_tokenize(news) for news in data['news']]\n",
    "    # Train Word2Vec model\n",
    "    model = Word2Vec(sentences=tokenized_news, vector_size=100, window=5, min_count=1, sg=0)\n",
    "    news_vectors = [model.wv[words] for words in tokenized_news]\n",
    "    #converting vectorized list to np.array\n",
    "#     news_vectors_array = np.array(news_vectors)\n",
    "    news_vectors_mean = np.array([np.mean(vector_list, axis=0) for vector_list in news_vectors])\n",
    "    rest= data.drop(['news','label'], axis= 1).values\n",
    "    combined_features = np.hstack((news_vectors_mean, rest))\n",
    "    return csr_matrix(combined_features)"
   ]
  },
  {
   "cell_type": "code",
   "execution_count": 79,
   "id": "0c709f7c",
   "metadata": {},
   "outputs": [],
   "source": [
    "Liar_W2V= W2V(Liar)\n",
    "#save point 12, Liar Word to vector\n",
    "vec_tech_list.append('Liar_W2V.npz')\n",
    "scipy.sparse.save_npz(os.path.join(train_dataset_adrs,'Liar_W2V.npz'), Liar_W2V)"
   ]
  },
  {
   "cell_type": "markdown",
   "id": "1bdd889f",
   "metadata": {},
   "source": [
    "### combined vectorization techniques "
   ]
  },
  {
   "cell_type": "code",
   "execution_count": 80,
   "id": "872945cb",
   "metadata": {},
   "outputs": [],
   "source": [
    "# Combine Bag-of-Words and Word2Vec vectorization methods\n",
    "def bow_w2v(data):\n",
    "    # Bag-of-Words (BoW) vectorization\n",
    "    bow_vectorizer = CountVectorizer()\n",
    "    bow_matrix = bow_vectorizer.fit_transform(data['news']).toarray()\n",
    "    \n",
    "    # Tokenize the text data for Word2Vec\n",
    "    tokenized_news = [word_tokenize(news) for news in data['news']]\n",
    "    \n",
    "    # Train Word2Vec model\n",
    "    w2v_model = Word2Vec(sentences=tokenized_news, vector_size=100, window=5, min_count=1, sg=0)\n",
    "    \n",
    "    # Compute the mean of word vectors for each news article\n",
    "    w2v_vectors = [np.mean(w2v_model.wv[words], axis=0) for words in tokenized_news]\n",
    "    \n",
    "    # Convert the list of mean vectors to a 2D array\n",
    "    w2v_vectors_array = np.array(w2v_vectors)\n",
    "    # taking rest of selected features\n",
    "    rest= data.drop(['news', 'label'], axis= 1).values\n",
    "    # Combine BoW and Word2Vec vectors\n",
    "    combined_vectors = np.hstack((bow_matrix, w2v_vectors_array, rest))\n",
    "    \n",
    "    return csr_matrix(combined_vectors)"
   ]
  },
  {
   "cell_type": "code",
   "execution_count": 81,
   "id": "38a0c4e9",
   "metadata": {},
   "outputs": [],
   "source": [
    "# Call the vectorization function\n",
    "Liar_bow_w2v = bow_w2v(Liar)\n",
    "#save point 13, Liar bag of word and  Word to vector combined dataset\n",
    "vec_tech_list.append('Liar_bow_w2v.npz')\n",
    "scipy.sparse.save_npz(os.path.join(train_dataset_adrs,'Liar_bow_w2v.npz'), Liar_bow_w2v)\n"
   ]
  },
  {
   "cell_type": "code",
   "execution_count": null,
   "id": "3b8f9ee7",
   "metadata": {},
   "outputs": [],
   "source": []
  },
  {
   "cell_type": "code",
   "execution_count": 82,
   "id": "e443774a",
   "metadata": {},
   "outputs": [],
   "source": [
    "'''\n",
    "Enhancing the result of Bag-of-Words (BoW) using Word2Vec can be done through\n",
    "a technique known as \"word embedding augmentation.\" The idea is to use the \n",
    "word vectors from Word2Vec to enhance the BoW representation of text. \n",
    "This can capture more semantic information and context compared to traditional BoW.\n",
    "'''\n",
    "def enhanc_bow_w2v(data):\n",
    "    # Create BoW vectors using CountVectorizer\n",
    "    bow_vectorizer = CountVectorizer()\n",
    "    bow_matrix = bow_vectorizer.fit_transform(data['news']).toarray()\n",
    "\n",
    "    # Tokenize the text data for Word2Vec\n",
    "    tokenized_news = [word_tokenize(news) for news in data['news']]\n",
    "\n",
    "    # Load a pre-trained Word2Vec model\n",
    "    tokenized_news = [word_tokenize(news) for news in data['news']]\n",
    "    # Train Word2Vec model\n",
    "    w2v_model = Word2Vec(sentences=tokenized_news, vector_size=100, window=5, min_count=1, sg=0)\n",
    "\n",
    "    # Enhance BoW using Word2Vec\n",
    "    enhanced_bow_matrix = []\n",
    "    for doc_tokens in tokenized_news:\n",
    "        enhanced_bow_vector = np.zeros(len(bow_vectorizer.get_feature_names_out()))\n",
    "        for token in doc_tokens:\n",
    "            if token in w2v_model.wv:\n",
    "                w2v_vector = w2v_model.wv[token]\n",
    "                bow_index = bow_vectorizer.vocabulary_.get(token)\n",
    "                enhanced_bow_vector[bow_index] = np.mean(w2v_vector)\n",
    "        enhanced_bow_matrix.append(enhanced_bow_vector)\n",
    "\n",
    "    enhanced_bow_matrix = np.array(enhanced_bow_matrix)\n",
    "    rest= data.drop(['news', 'label'], axis= 1).values\n",
    "    # Combine BoW and Word2Vec vectors\n",
    "    combined_vectors = np.hstack((enhanced_bow_matrix, rest))\n",
    "    # Convert the list of enhanced BoW vectors to a NumPy array\n",
    "    return csr_matrix(combined_vectors)\n",
    "\n"
   ]
  },
  {
   "cell_type": "code",
   "execution_count": 83,
   "id": "724671a4",
   "metadata": {},
   "outputs": [],
   "source": [
    "Liar_enhanc_bow_w2v= enhanc_bow_w2v(Liar)\n",
    "#save point 14, Liar bag of word and Word to vector enhanced combined dataset\n",
    "vec_tech_list.append('Liar_enhanc_bow_w2v.npz')\n",
    "scipy.sparse.save_npz(os.path.join(train_dataset_adrs,'Liar_enhanc_bow_w2v.npz'), Liar_enhanc_bow_w2v)"
   ]
  },
  {
   "cell_type": "code",
   "execution_count": null,
   "id": "fb29025a",
   "metadata": {},
   "outputs": [],
   "source": []
  },
  {
   "cell_type": "code",
   "execution_count": 84,
   "id": "cc03804c",
   "metadata": {},
   "outputs": [],
   "source": [
    "# Combine TFIDF and Word2Vec vectorization methods\n",
    "def TFIDF_w2v(data):\n",
    "    # Create a TfidfVectorizer object with unigrams and bigrams\n",
    "    vectorizer = TfidfVectorizer( ngram_range=(1, 2))\n",
    "    # Fit and transform the \"news\" column\n",
    "    TFIDF_vectorized = vectorizer.fit_transform(data['news']).toarray()\n",
    "    # Tokenize the text data for Word2Vec\n",
    "    tokenized_news = [word_tokenize(news) for news in data['news']]\n",
    "    # Train Word2Vec model\n",
    "    w2v_model = Word2Vec(sentences=tokenized_news, vector_size=100, window=5, min_count=1, sg=0)  \n",
    "    # Compute the mean of word vectors for each news article\n",
    "    w2v_vectors = [np.mean(w2v_model.wv[words], axis=0) for words in tokenized_news] \n",
    "    # Convert the list of mean vectors to a 2D array\n",
    "    w2v_vectors_array = np.array(w2v_vectors)\n",
    "    # taking rest of selected features\n",
    "    rest= data.drop(['news', 'label'], axis= 1).values\n",
    "    # Combine BoW and Word2Vec vectors\n",
    "    combined_vectors = np.hstack((TFIDF_vectorized, w2v_vectors_array, rest))\n",
    "    \n",
    "    return csr_matrix(combined_vectors)"
   ]
  },
  {
   "cell_type": "code",
   "execution_count": 85,
   "id": "c2de5947",
   "metadata": {},
   "outputs": [],
   "source": [
    "# Call the vectorization function\n",
    "Liar_TFIDF_w2v = TFIDF_w2v(Liar)\n",
    "#save point 15, Liar TFIDF and  Word to vector combined dataset\n",
    "vec_tech_list.append('Liar_TFIDF_w2v.npz')\n",
    "scipy.sparse.save_npz(os.path.join(train_dataset_adrs,'Liar_TFIDF_w2v.npz'), Liar_TFIDF_w2v)"
   ]
  },
  {
   "cell_type": "code",
   "execution_count": null,
   "id": "622f3be2",
   "metadata": {},
   "outputs": [],
   "source": [
    "Liar_TFIDF_w2v.shape"
   ]
  },
  {
   "cell_type": "code",
   "execution_count": 86,
   "id": "ffdee522",
   "metadata": {},
   "outputs": [],
   "source": [
    "'''\n",
    "Enhancing the result of TFIDF using Word2Vec can be done through\n",
    "a technique known as \"word embedding augmentation.\" The idea is to use the \n",
    "word vectors from Word2Vec to enhance the BoW representation of text. \n",
    "This can capture more semantic information and context compared to traditional BoW.\n",
    "'''\n",
    "def enhance_TFIDF_w2v(data):\n",
    "    # Create TF-IDF vectors using TfidfVectorizer\n",
    "    tfidf_vectorizer = TfidfVectorizer()\n",
    "    tfidf_matrix = tfidf_vectorizer.fit_transform(data['news']).toarray()\n",
    "\n",
    "    # Tokenize the text data for Word2Vec\n",
    "    tokenized_news = [word_tokenize(news) for news in data['news']]\n",
    "\n",
    "    # Load a pre-trained Word2Vec model\n",
    "    tokenized_news = [word_tokenize(news) for news in data['news']]\n",
    "    # Train Word2Vec model\n",
    "    w2v_model = Word2Vec(sentences=tokenized_news, vector_size=100, window=5, min_count=1, sg=0)\n",
    "\n",
    "    # Enhance BoW using Word2Vec\n",
    "    enhanced_bow_matrix = []\n",
    "    for doc_tokens in tokenized_news:\n",
    "        enhanced_bow_vector = np.zeros(len(tfidf_vectorizer.get_feature_names_out()))\n",
    "        for token in doc_tokens:\n",
    "            if token in w2v_model.wv:\n",
    "                w2v_vector = w2v_model.wv[token]\n",
    "                bow_index = tfidf_vectorizer.vocabulary_.get(token)\n",
    "                enhanced_bow_vector[bow_index] = np.mean(w2v_vector)\n",
    "        enhanced_bow_matrix.append(enhanced_bow_vector)\n",
    "\n",
    "    enhanced_bow_matrix = np.array(enhanced_bow_matrix)\n",
    "    rest= data.drop(['news', 'label'], axis= 1).values\n",
    "    # Combine BoW and Word2Vec vectors\n",
    "    combined_vectors = np.hstack((enhanced_bow_matrix, rest))\n",
    "    # Convert the list of enhanced BoW vectors to a NumPy array\n",
    "    return csr_matrix(combined_vectors)"
   ]
  },
  {
   "cell_type": "code",
   "execution_count": 87,
   "id": "c1f296e9",
   "metadata": {},
   "outputs": [],
   "source": [
    "Liar_enhance_TFIDF_w2v= enhance_TFIDF_w2v(Liar)\n",
    "# save point 16, Liar bag of word and  Word to vector enhanced combined dataset\n",
    "vec_tech_list.append('Liar_enhance_TFIDF_w2v.npz')\n",
    "scipy.sparse.save_npz(os.path.join(train_dataset_adrs,'Liar_enhance_TFIDF_w2v.npz'), Liar_enhance_TFIDF_w2v)"
   ]
  },
  {
   "cell_type": "code",
   "execution_count": 88,
   "id": "908df72b",
   "metadata": {},
   "outputs": [
    {
     "data": {
      "text/plain": [
       "(11505, 17585)"
      ]
     },
     "execution_count": 88,
     "metadata": {},
     "output_type": "execute_result"
    }
   ],
   "source": [
    "Liar_enhance_TFIDF_w2v.shape"
   ]
  },
  {
   "cell_type": "code",
   "execution_count": 97,
   "id": "1bff6e9a",
   "metadata": {},
   "outputs": [
    {
     "data": {
      "text/plain": [
       "(11505,)"
      ]
     },
     "execution_count": 97,
     "metadata": {},
     "output_type": "execute_result"
    }
   ],
   "source": [
    "label= Liar['label']\n",
    "label.shape"
   ]
  },
  {
   "cell_type": "code",
   "execution_count": 98,
   "id": "f4cff83f",
   "metadata": {},
   "outputs": [],
   "source": [
    "# saving label column in a sperate sparce matrix file\n",
    "label.to_csv(os.path.join(train_dataset_adrs, 'Liar_label.csv'), index= False)"
   ]
  },
  {
   "cell_type": "code",
   "execution_count": null,
   "id": "41b32b7e",
   "metadata": {},
   "outputs": [],
   "source": []
  },
  {
   "cell_type": "code",
   "execution_count": null,
   "id": "16e42d7c",
   "metadata": {},
   "outputs": [],
   "source": [
    "\n"
   ]
  },
  {
   "cell_type": "code",
   "execution_count": null,
   "id": "8cd8a62e",
   "metadata": {},
   "outputs": [],
   "source": []
  }
 ],
 "metadata": {
  "kernelspec": {
   "display_name": "Python 3 (ipykernel)",
   "language": "python",
   "name": "python3"
  },
  "language_info": {
   "codemirror_mode": {
    "name": "ipython",
    "version": 3
   },
   "file_extension": ".py",
   "mimetype": "text/x-python",
   "name": "python",
   "nbconvert_exporter": "python",
   "pygments_lexer": "ipython3",
   "version": "3.9.13"
  }
 },
 "nbformat": 4,
 "nbformat_minor": 5
}
